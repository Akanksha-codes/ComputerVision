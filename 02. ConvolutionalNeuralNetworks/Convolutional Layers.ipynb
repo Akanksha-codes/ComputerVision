{
  "nbformat": 4,
  "nbformat_minor": 0,
  "metadata": {
    "colab": {
      "name": "Convolutional Layers.ipynb",
      "provenance": [],
      "collapsed_sections": []
    },
    "kernelspec": {
      "name": "python3",
      "display_name": "Python 3"
    },
    "language_info": {
      "name": "python"
    },
    "accelerator": "GPU"
  },
  "cells": [
    {
      "cell_type": "markdown",
      "metadata": {
        "id": "zWddcLZPcLoU"
      },
      "source": [
        "**INITIALIZATION:**\n",
        "- I use these three lines of code on top of my each notebooks because it will help to prevent any problems while reloading the same project. And the third line of code helps to make visualization within the notebook."
      ]
    },
    {
      "cell_type": "code",
      "metadata": {
        "id": "It4XA2PkcBZo"
      },
      "source": [
        "#@ INITIALIZATION: \n",
        "%reload_ext autoreload\n",
        "%autoreload 2\n",
        "%matplotlib inline"
      ],
      "execution_count": 3,
      "outputs": []
    },
    {
      "cell_type": "markdown",
      "metadata": {
        "id": "aCoJ3nIxcSfk"
      },
      "source": [
        "**DOWNLOADING LIBRARIES AND DEPENDENCIES:**\n",
        "- I have downloaded all the libraries and dependencies required for the project in one particular cell."
      ]
    },
    {
      "cell_type": "code",
      "metadata": {
        "id": "tARh3Gx3cPNy"
      },
      "source": [
        "#@ DOWNLOADING LIBRARIES AND DEPENDENCIES: \n",
        "import cv2\n",
        "import imutils\n",
        "import numpy as np\n",
        "from google.colab.patches import cv2_imshow\n",
        "\n",
        "from tensorflow.keras.models import Sequential\n",
        "from tensorflow.keras.layers import BatchNormalization\n",
        "from tensorflow.keras.layers import Conv2D\n",
        "from tensorflow.keras.layers import Activation\n",
        "from tensorflow.keras.layers import Flatten, Dropout\n",
        "from tensorflow.keras.layers import Dense \n",
        "from tensorflow.keras import backend as K\n",
        "\n",
        "from sklearn.preprocessing import LabelBinarizer\n",
        "from sklearn.model_selection import train_test_split\n",
        "from sklearn.metrics import classification_report\n",
        "from tensorflow.keras.preprocessing.image import ImageDataGenerator\n",
        "from tensorflow.keras.optimizers import Adam\n",
        "from tensorflow.keras.regularizers import l2\n",
        "from imutils import paths\n",
        "import matplotlib.pyplot as plt\n",
        "import os\n",
        "%matplotlib inline"
      ],
      "execution_count": 4,
      "outputs": []
    },
    {
      "cell_type": "markdown",
      "metadata": {
        "id": "XusQfVezcewl"
      },
      "source": [
        "**GETTING THE DATA:**\n",
        "- I will use subset of **CALTECH-101** dataset. "
      ]
    },
    {
      "cell_type": "code",
      "metadata": {
        "id": "65FwRa6brfTa"
      },
      "source": [
        "#@ DOWNLOADING THE DATASET: UNCOMMENT BELOW: \n",
        "# !tar -zxvf \"/content/drive/MyDrive/Data/101_ObjectCategories.tar.gz\" -C \"/content/\""
      ],
      "execution_count": 6,
      "outputs": []
    },
    {
      "cell_type": "markdown",
      "metadata": {
        "id": "sZokBKC10hEU"
      },
      "source": [
        "**STRIDED NET:**  \n",
        "The **StridedNet** has following important characteristics :    \n",
        "- It uses strided convolutions rather than pooling operations to reduce volume size. \n",
        "- The first **Convolutional** layer uses 7X7 filters but all other layers in the network use 3X3 filters. \n",
        "- The normal distribution algorithm is used to initialize all weights in the network. "
      ]
    },
    {
      "cell_type": "code",
      "metadata": {
        "id": "jHMU2OX1y9ze"
      },
      "source": [
        "#@ INITIALIZATION OF STRIDEDNET: \n",
        "class StridedNet:                                                  # Defining StridedNet Class. \n",
        "    @staticmethod\n",
        "    def build(width,height,depth,classes,reg,init=\"he_normal\"):    # Defining Build Method. \n",
        "        model = Sequential()                                       # Initializing Sequential Model. \n",
        "        inputShape = (height, width, depth)                        # Initializing Input Shape. \n",
        "        chanDim = -1                                               # Initializing Channel. \n",
        "        if K.image_data_format() == \"channels_first\":              # Inspecting Data Format. \n",
        "            inputShape = (depth, height, width)                    # Initializing Input Shape. \n",
        "            chanDim = 1                                            # Initializing Channel. \n",
        "        model.add(Conv2D(16,(7,7),strides=(2,2),padding=\"valid\",\n",
        "                         kernel_initializer=init,\n",
        "                         kernel_regularizer=reg,\n",
        "                         input_shape=inputShape))                  # Initializing Convolutional Layer. \n",
        "        model.add(Conv2D(32, (3,3), padding=\"same\", \n",
        "                         kernel_initializer=init,\n",
        "                         kernel_regularizer=reg))                  # Initializing Convolutional Layer. \n",
        "        model.add(Activation(\"relu\"))                              # Initializing Activation Function. \n",
        "        model.add(BatchNormalization(axis=chanDim))                # Initializing BatchNormalization Layer. \n",
        "        model.add(Conv2D(32, (3,3), strides=(2,2), padding=\"same\",\n",
        "                         kernel_initializer=init, \n",
        "                         kernel_regularizer=reg, \n",
        "                         activation=\"relu\"))                       # Initializing Convolutional Layer. \n",
        "        model.add(BatchNormalization(axis=chanDim))                # Initializing BatchNormalization Layer.\n",
        "        model.add(Dropout(0.25))                                   # Initializing Dropout Layer. \n",
        "        model.add(Conv2D(64, (3,3), padding=\"same\", \n",
        "                         kernel_initializer=init, \n",
        "                         kernel_regularizer=reg))                  # Initializing Convolutional Layer. \n",
        "        model.add(Activation(\"relu\"))                              # Initializing Activation Function.  \n",
        "        model.add(BatchNormalization(axis=chanDim))                # Initializing BatchNormalization Layer.\n",
        "        model.add(Conv2D(64, (3,3), strides=(2,2), padding=\"same\", \n",
        "                         kernel_initializer=init, \n",
        "                         kernel_regularizer=reg))                  # Initializing Convolutional Layer. \n",
        "        model.add(Activation(\"relu\"))                              # Initializing Activation Function.\n",
        "        model.add(BatchNormalization(axis=chanDim))                # Initializing BatchNormalization Layer.\n",
        "        model.add(Dropout(0.25))                                   # Initializing Dropout Layer.\n",
        "        model.add(Conv2D(128, (3,3), padding=\"same\", \n",
        "                         kernel_initializer=init, \n",
        "                         kernel_regularizer=reg))                  # Initializing Convolutional Layer. \n",
        "        model.add(Activation(\"relu\"))                              # Initializing Activation Function.  \n",
        "        model.add(BatchNormalization(axis=chanDim))                # Initializing BatchNormalization Layer.\n",
        "        model.add(Conv2D(128,(3,3), strides=(2,2), padding=\"same\", \n",
        "                         kernel_initializer=init, \n",
        "                         kernel_regularizer=reg))                  # Initializing Convolutional Layer. \n",
        "        model.add(Activation(\"relu\"))                              # Initializing Activation Function.\n",
        "        model.add(BatchNormalization(axis=chanDim))                # Initializing BatchNormalization Layer.\n",
        "        model.add(Dropout(0.25))                                   # Initializing Dropout Layer.\n",
        "        model.add(Flatten())                                       # Initializing Fully Connected Layer. \n",
        "        model.add(Dense(512, kernel_initializer=init))             # Initializing Dense Layer. \n",
        "        model.add(Activation(\"relu\"))                              # Initializing Activation Function. \n",
        "        model.add(BatchNormalization(axis=chanDim))                # Initializing BatchNormalization Layer.\n",
        "        model.add(Dropout(0.5))                                    # Initializing Dropout Layer.\n",
        "        model.add(Dense(classes, activation=\"softmax\"))            # Initializing Dense Layer. \n",
        "        return model"
      ],
      "execution_count": 7,
      "outputs": []
    },
    {
      "cell_type": "markdown",
      "metadata": {
        "id": "HaC43j2KXgqA"
      },
      "source": [
        "**PREPARING THE DATASET:**"
      ]
    },
    {
      "cell_type": "code",
      "metadata": {
        "id": "HDK1a1jj_4Gh"
      },
      "source": [
        "#@ PREPARING THE DATASET: \n",
        "PATH = \"/content/101_ObjectCategories\"                             # Path to Dataset. \n",
        "LABELS = set([\"Faces\", \"Leopards\", \"Motorbikes\", \"airplanes\"])     # Initializing Labels. \n",
        "imagePaths = list(paths.list_images(PATH))\n",
        "data, labels = [], []                                              # Initializing List. \n",
        "\n",
        "#@ PREPARING THE DATASET: \n",
        "for imagePath in imagePaths:\n",
        "    label = imagePath.split(os.path.sep)[-2]                       # Extracting Labels. \n",
        "    if label not in LABELS: \n",
        "        continue\n",
        "    image = cv2.imread(imagePath)                                  # Reading Image. \n",
        "    image = cv2.resize(image, (96, 96))                            # Resizing Image. \n",
        "    data.append(image)                                             # Updating Data. \n",
        "    labels.append(label)                                           # Updating Labels. "
      ],
      "execution_count": 8,
      "outputs": []
    },
    {
      "cell_type": "code",
      "metadata": {
        "id": "wo-EiZY3xLSe"
      },
      "source": [
        "#@ PREPARING THE DATASET: \n",
        "data = np.array(data, dtype=\"float\") / 255.0                       # Converting into Array and Scaling. \n",
        "lb = LabelBinarizer()                                              # Initializing Label Binarizer. \n",
        "labels = lb.fit_transform(labels)                                  # Initializing One Hot Encoding. \n",
        "(trainX, testX, trainY, testY) = train_test_split(\n",
        "    data,labels,test_size=0.25,stratify=labels,random_state=42)    # Initializing Training and Test Dataset. \n",
        "aug = ImageDataGenerator(rotation_range=20, zoom_range=0.15, \n",
        "                         width_shift_range=0.2,\n",
        "                         height_shift_range=0.2,shear_range=0.15, \n",
        "                         horizontal_flip=True,fill_mode=\"nearest\") # Initializing Data Augmentation. "
      ],
      "execution_count": 9,
      "outputs": []
    },
    {
      "cell_type": "markdown",
      "metadata": {
        "id": "9mSdEjvTDQ9d"
      },
      "source": [
        "**TRAINING THE MODEL:**"
      ]
    },
    {
      "cell_type": "code",
      "metadata": {
        "id": "39AQaVj5aUcu",
        "colab": {
          "base_uri": "https://localhost:8080/"
        },
        "outputId": "216770fd-455e-4c9d-efd9-683e2b4ea699"
      },
      "source": [
        "#@ TRAINING THE MODEL: \n",
        "epochs = 50                                                         # Initializing Epochs. \n",
        "opt = Adam(learning_rate=1e-4, decay=1e-4 / epochs)                 # Initializing Adam Optimizer. \n",
        "model = StridedNet.build(width=96, height=96, depth=3, \n",
        "                         classes=len(lb.classes_), reg=l2(0.0005))  # Initializing Model. \n",
        "model.compile(loss=\"categorical_crossentropy\", optimizer=opt, \n",
        "              metrics=[\"accuracy\"])                                 # Compiling Model. \n",
        "H = model.fit(x=aug.flow(trainX, trainY, batch_size=32), \n",
        "              validation_data=(testX, testY), \n",
        "              steps_per_epoch=len(trainX) // 32, \n",
        "              epochs=epochs)                                        # Training Model. "
      ],
      "execution_count": 11,
      "outputs": [
        {
          "output_type": "stream",
          "name": "stdout",
          "text": [
            "Epoch 1/50\n",
            "52/52 [==============================] - 8s 118ms/step - loss: 1.8721 - accuracy: 0.5378 - val_loss: 2.1929 - val_accuracy: 0.4723\n",
            "Epoch 2/50\n",
            "52/52 [==============================] - 5s 99ms/step - loss: 1.4074 - accuracy: 0.6967 - val_loss: 1.3916 - val_accuracy: 0.7478\n",
            "Epoch 3/50\n",
            "52/52 [==============================] - 5s 99ms/step - loss: 1.2011 - accuracy: 0.7613 - val_loss: 1.5086 - val_accuracy: 0.7603\n",
            "Epoch 4/50\n",
            "52/52 [==============================] - 5s 97ms/step - loss: 1.1294 - accuracy: 0.7899 - val_loss: 1.3434 - val_accuracy: 0.8086\n",
            "Epoch 5/50\n",
            "52/52 [==============================] - 5s 101ms/step - loss: 1.0471 - accuracy: 0.8185 - val_loss: 1.3814 - val_accuracy: 0.7818\n",
            "Epoch 6/50\n",
            "52/52 [==============================] - 5s 103ms/step - loss: 1.0035 - accuracy: 0.8295 - val_loss: 1.0816 - val_accuracy: 0.8569\n",
            "Epoch 7/50\n",
            "52/52 [==============================] - 5s 104ms/step - loss: 0.9306 - accuracy: 0.8569 - val_loss: 0.9071 - val_accuracy: 0.8515\n",
            "Epoch 8/50\n",
            "52/52 [==============================] - 5s 103ms/step - loss: 0.9175 - accuracy: 0.8727 - val_loss: 0.6747 - val_accuracy: 0.9392\n",
            "Epoch 9/50\n",
            "52/52 [==============================] - 5s 102ms/step - loss: 0.8232 - accuracy: 0.8806 - val_loss: 0.7100 - val_accuracy: 0.9267\n",
            "Epoch 10/50\n",
            "52/52 [==============================] - 5s 101ms/step - loss: 0.8193 - accuracy: 0.8940 - val_loss: 0.6400 - val_accuracy: 0.9338\n",
            "Epoch 11/50\n",
            "52/52 [==============================] - 5s 102ms/step - loss: 0.8255 - accuracy: 0.8855 - val_loss: 0.6565 - val_accuracy: 0.9302\n",
            "Epoch 12/50\n",
            "52/52 [==============================] - 5s 100ms/step - loss: 0.7882 - accuracy: 0.8989 - val_loss: 0.6087 - val_accuracy: 0.9463\n",
            "Epoch 13/50\n",
            "52/52 [==============================] - 5s 101ms/step - loss: 0.7551 - accuracy: 0.9068 - val_loss: 0.6028 - val_accuracy: 0.9481\n",
            "Epoch 14/50\n",
            "52/52 [==============================] - 5s 102ms/step - loss: 0.7456 - accuracy: 0.9086 - val_loss: 0.5935 - val_accuracy: 0.9481\n",
            "Epoch 15/50\n",
            "52/52 [==============================] - 5s 102ms/step - loss: 0.7786 - accuracy: 0.9032 - val_loss: 0.5897 - val_accuracy: 0.9463\n",
            "Epoch 16/50\n",
            "52/52 [==============================] - 5s 100ms/step - loss: 0.7307 - accuracy: 0.9093 - val_loss: 0.5597 - val_accuracy: 0.9624\n",
            "Epoch 17/50\n",
            "52/52 [==============================] - 5s 101ms/step - loss: 0.6842 - accuracy: 0.9275 - val_loss: 0.5633 - val_accuracy: 0.9517\n",
            "Epoch 18/50\n",
            "52/52 [==============================] - 5s 99ms/step - loss: 0.6784 - accuracy: 0.9348 - val_loss: 0.5626 - val_accuracy: 0.9606\n",
            "Epoch 19/50\n",
            "52/52 [==============================] - 5s 101ms/step - loss: 0.7007 - accuracy: 0.9245 - val_loss: 0.5427 - val_accuracy: 0.9624\n",
            "Epoch 20/50\n",
            "52/52 [==============================] - 5s 99ms/step - loss: 0.6692 - accuracy: 0.9348 - val_loss: 0.5800 - val_accuracy: 0.9606\n",
            "Epoch 21/50\n",
            "52/52 [==============================] - 5s 101ms/step - loss: 0.6413 - accuracy: 0.9379 - val_loss: 0.5528 - val_accuracy: 0.9642\n",
            "Epoch 22/50\n",
            "52/52 [==============================] - 5s 102ms/step - loss: 0.6770 - accuracy: 0.9275 - val_loss: 0.5635 - val_accuracy: 0.9606\n",
            "Epoch 23/50\n",
            "52/52 [==============================] - 5s 101ms/step - loss: 0.6708 - accuracy: 0.9269 - val_loss: 0.5434 - val_accuracy: 0.9660\n",
            "Epoch 24/50\n",
            "52/52 [==============================] - 5s 97ms/step - loss: 0.6763 - accuracy: 0.9330 - val_loss: 0.5592 - val_accuracy: 0.9678\n",
            "Epoch 25/50\n",
            "52/52 [==============================] - 5s 95ms/step - loss: 0.6246 - accuracy: 0.9519 - val_loss: 0.5451 - val_accuracy: 0.9678\n",
            "Epoch 26/50\n",
            "52/52 [==============================] - 5s 94ms/step - loss: 0.6277 - accuracy: 0.9440 - val_loss: 0.6080 - val_accuracy: 0.9445\n",
            "Epoch 27/50\n",
            "52/52 [==============================] - 5s 97ms/step - loss: 0.5871 - accuracy: 0.9586 - val_loss: 0.6347 - val_accuracy: 0.9338\n",
            "Epoch 28/50\n",
            "52/52 [==============================] - 5s 97ms/step - loss: 0.6126 - accuracy: 0.9507 - val_loss: 0.5435 - val_accuracy: 0.9732\n",
            "Epoch 29/50\n",
            "52/52 [==============================] - 5s 99ms/step - loss: 0.6244 - accuracy: 0.9452 - val_loss: 0.5588 - val_accuracy: 0.9660\n",
            "Epoch 30/50\n",
            "52/52 [==============================] - 5s 100ms/step - loss: 0.6009 - accuracy: 0.9507 - val_loss: 0.5706 - val_accuracy: 0.9571\n",
            "Epoch 31/50\n",
            "52/52 [==============================] - 5s 99ms/step - loss: 0.5958 - accuracy: 0.9476 - val_loss: 0.5693 - val_accuracy: 0.9642\n",
            "Epoch 32/50\n",
            "52/52 [==============================] - 5s 101ms/step - loss: 0.6220 - accuracy: 0.9434 - val_loss: 0.5970 - val_accuracy: 0.9517\n",
            "Epoch 33/50\n",
            "52/52 [==============================] - 5s 98ms/step - loss: 0.6160 - accuracy: 0.9513 - val_loss: 0.5614 - val_accuracy: 0.9517\n",
            "Epoch 34/50\n",
            "52/52 [==============================] - 5s 99ms/step - loss: 0.5862 - accuracy: 0.9519 - val_loss: 0.5357 - val_accuracy: 0.9732\n",
            "Epoch 35/50\n",
            "52/52 [==============================] - 5s 99ms/step - loss: 0.5838 - accuracy: 0.9574 - val_loss: 0.5362 - val_accuracy: 0.9714\n",
            "Epoch 36/50\n",
            "52/52 [==============================] - 5s 101ms/step - loss: 0.5812 - accuracy: 0.9604 - val_loss: 0.5459 - val_accuracy: 0.9678\n",
            "Epoch 37/50\n",
            "52/52 [==============================] - 5s 102ms/step - loss: 0.5821 - accuracy: 0.9580 - val_loss: 0.5584 - val_accuracy: 0.9642\n",
            "Epoch 38/50\n",
            "52/52 [==============================] - 5s 101ms/step - loss: 0.5618 - accuracy: 0.9671 - val_loss: 0.5632 - val_accuracy: 0.9642\n",
            "Epoch 39/50\n",
            "52/52 [==============================] - 5s 100ms/step - loss: 0.5758 - accuracy: 0.9653 - val_loss: 0.5582 - val_accuracy: 0.9696\n",
            "Epoch 40/50\n",
            "52/52 [==============================] - 5s 99ms/step - loss: 0.5609 - accuracy: 0.9635 - val_loss: 0.5476 - val_accuracy: 0.9660\n",
            "Epoch 41/50\n",
            "52/52 [==============================] - 5s 98ms/step - loss: 0.5734 - accuracy: 0.9580 - val_loss: 0.5321 - val_accuracy: 0.9714\n",
            "Epoch 42/50\n",
            "52/52 [==============================] - 5s 99ms/step - loss: 0.5685 - accuracy: 0.9610 - val_loss: 0.5319 - val_accuracy: 0.9660\n",
            "Epoch 43/50\n",
            "52/52 [==============================] - 5s 99ms/step - loss: 0.5703 - accuracy: 0.9647 - val_loss: 0.5415 - val_accuracy: 0.9642\n",
            "Epoch 44/50\n",
            "52/52 [==============================] - 5s 100ms/step - loss: 0.5656 - accuracy: 0.9647 - val_loss: 0.6156 - val_accuracy: 0.9499\n",
            "Epoch 45/50\n",
            "52/52 [==============================] - 5s 99ms/step - loss: 0.5508 - accuracy: 0.9665 - val_loss: 0.5723 - val_accuracy: 0.9553\n",
            "Epoch 46/50\n",
            "52/52 [==============================] - 5s 100ms/step - loss: 0.5417 - accuracy: 0.9653 - val_loss: 0.5149 - val_accuracy: 0.9714\n",
            "Epoch 47/50\n",
            "52/52 [==============================] - 5s 102ms/step - loss: 0.5463 - accuracy: 0.9683 - val_loss: 0.5333 - val_accuracy: 0.9678\n",
            "Epoch 48/50\n",
            "52/52 [==============================] - 5s 101ms/step - loss: 0.5394 - accuracy: 0.9742 - val_loss: 0.5494 - val_accuracy: 0.9642\n",
            "Epoch 49/50\n",
            "52/52 [==============================] - 5s 100ms/step - loss: 0.5433 - accuracy: 0.9702 - val_loss: 0.5362 - val_accuracy: 0.9660\n",
            "Epoch 50/50\n",
            "52/52 [==============================] - 5s 102ms/step - loss: 0.5608 - accuracy: 0.9653 - val_loss: 0.5225 - val_accuracy: 0.9785\n"
          ]
        }
      ]
    },
    {
      "cell_type": "markdown",
      "metadata": {
        "id": "oAw1dFaKGDnU"
      },
      "source": [
        "**MODEL EVALUATION:**"
      ]
    },
    {
      "cell_type": "code",
      "metadata": {
        "colab": {
          "base_uri": "https://localhost:8080/"
        },
        "id": "D25QXmtsFzy3",
        "outputId": "b25a82ab-fe9c-4cea-cdbb-9a9360ab1fc0"
      },
      "source": [
        "#@ INITIALIZING MODEL EVALUATION: \n",
        "predictions = model.predict(testX, batch_size=32)                   # Initializing Predictions. \n",
        "print(classification_report(testY.argmax(axis=1), \n",
        "                            predictions.argmax(axis=1), \n",
        "                            target_names=lb.classes_))              # Inspecting Classification Report. "
      ],
      "execution_count": 12,
      "outputs": [
        {
          "output_type": "stream",
          "name": "stdout",
          "text": [
            "              precision    recall  f1-score   support\n",
            "\n",
            "       Faces       0.96      0.99      0.97       109\n",
            "    Leopards       0.96      0.88      0.92        50\n",
            "  Motorbikes       0.98      0.99      0.99       200\n",
            "   airplanes       0.99      0.98      0.99       200\n",
            "\n",
            "    accuracy                           0.98       559\n",
            "   macro avg       0.97      0.96      0.97       559\n",
            "weighted avg       0.98      0.98      0.98       559\n",
            "\n"
          ]
        }
      ]
    },
    {
      "cell_type": "code",
      "metadata": {
        "colab": {
          "base_uri": "https://localhost:8080/",
          "height": 299
        },
        "id": "CZwb2iVtHHJD",
        "outputId": "3aca53d8-6013-4021-a2f2-8ca5be1b9130"
      },
      "source": [
        "#@ PLOTTING TRAINING LOSS AND ACCURACY: \n",
        "N = epochs         \n",
        "plt.style.use(\"ggplot\")\n",
        "plt.figure()\n",
        "plt.plot(np.arange(0, N), H.history[\"loss\"], label=\"train_loss\")\n",
        "plt.plot(np.arange(0, N), H.history[\"val_loss\"], label=\"val_loss\")\n",
        "plt.plot(np.arange(0, N), H.history[\"accuracy\"], label=\"train_acc\")\n",
        "plt.plot(np.arange(0, N), H.history[\"val_accuracy\"], label=\"val_acc\")\n",
        "plt.title(\"Training Loss and Accuracy\")\n",
        "plt.xlabel(\"Epochs\")\n",
        "plt.ylabel(\"Loss/Accuracy\")\n",
        "plt.legend(loc=\"upper right\")\n",
        "plt.show();"
      ],
      "execution_count": 15,
      "outputs": [
        {
          "output_type": "display_data",
          "data": {
            "image/png": "[encoded data removed]",
            "text/plain": [
              "<Figure size 432x288 with 1 Axes>"
            ]
          },
          "metadata": {}
        }
      ]
    }
  ]
}