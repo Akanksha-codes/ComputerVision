{
  "nbformat": 4,
  "nbformat_minor": 0,
  "metadata": {
    "colab": {
      "name": "Convolutional Layers.ipynb",
      "provenance": []
    },
    "kernelspec": {
      "name": "python3",
      "display_name": "Python 3"
    },
    "language_info": {
      "name": "python"
    },
    "accelerator": "GPU"
  },
  "cells": [
    {
      "cell_type": "markdown",
      "metadata": {
        "id": "zWddcLZPcLoU"
      },
      "source": [
        "**INITIALIZATION:**\n",
        "- I use these three lines of code on top of my each notebooks because it will help to prevent any problems while reloading the same project. And the third line of code helps to make visualization within the notebook."
      ]
    },
    {
      "cell_type": "code",
      "metadata": {
        "id": "It4XA2PkcBZo"
      },
      "source": [
        "#@ INITIALIZATION: \n",
        "%reload_ext autoreload\n",
        "%autoreload 2\n",
        "%matplotlib inline"
      ],
      "execution_count": 1,
      "outputs": []
    },
    {
      "cell_type": "markdown",
      "metadata": {
        "id": "aCoJ3nIxcSfk"
      },
      "source": [
        "**DOWNLOADING LIBRARIES AND DEPENDENCIES:**\n",
        "- I have downloaded all the libraries and dependencies required for the project in one particular cell."
      ]
    },
    {
      "cell_type": "code",
      "metadata": {
        "id": "tARh3Gx3cPNy"
      },
      "source": [
        "#@ DOWNLOADING LIBRARIES AND DEPENDENCIES: \n",
        "import cv2\n",
        "import imutils\n",
        "import numpy as np\n",
        "from google.colab.patches import cv2_imshow\n",
        "\n",
        "from tensorflow.keras.models import Sequential\n",
        "from tensorflow.keras.layers import BatchNormalization\n",
        "from tensorflow.keras.layers import Conv2D\n",
        "from tensorflow.keras.layers import Activation\n",
        "from tensorflow.keras.layers import Flatten, Dropout\n",
        "from tensorflow.keras.layers import Dense \n",
        "from tensorflow.keras import backend as K"
      ],
      "execution_count": 6,
      "outputs": []
    },
    {
      "cell_type": "markdown",
      "metadata": {
        "id": "XusQfVezcewl"
      },
      "source": [
        "**GETTING THE DATA:**\n",
        "- I will use subset of **CALTECH-101** dataset. "
      ]
    },
    {
      "cell_type": "code",
      "metadata": {
        "id": "65FwRa6brfTa"
      },
      "source": [
        "#@ DOWNLOADING THE DATASET: UNCOMMENT BELOW: \n",
        "# !tar -zxvf \"/content/drive/MyDrive/Data/101_ObjectCategories.tar.gz\" -C \"/content/\""
      ],
      "execution_count": 5,
      "outputs": []
    },
    {
      "cell_type": "markdown",
      "metadata": {
        "id": "sZokBKC10hEU"
      },
      "source": [
        "**STRIDED NET:**  \n",
        "The **StridedNet** has following important characteristics :    \n",
        "- It uses strided convolutions rather than pooling operations to reduce volume size. \n",
        "- The first **Convolutional** layer uses 7X7 filters but all other layers in the network use 3X3 filters. \n",
        "- The normal distribution algorithm is used to initialize all weights in the network. "
      ]
    },
    {
      "cell_type": "code",
      "metadata": {
        "id": "jHMU2OX1y9ze"
      },
      "source": [
        "#@ INITIALIZATION OF STRIDEDNET: \n",
        "class StridedNet:                                                  # Defining StridedNet Class. \n",
        "    @staticmethod\n",
        "    def build(width,height,depth,classes,reg,init=\"he_normal\"):    # Defining Build Method. \n",
        "        model = Sequential()                                       # Initializing Sequential Model. \n",
        "        inputShape = (height, width, depth)                        # Initializing Input Shape. \n",
        "        chanDim = -1                                               # Initializing Channel. \n",
        "        if K.image_data_format() == \"channels_first\":              # Inspecting Data Format. \n",
        "            inputShape = (depth, height, width)                    # Initializing Input Shape. \n",
        "            chanDim = 1                                            # Initializing Channel. \n",
        "        model.add(Conv2D(16,(7,7),strides=(2,2),padding=\"valid\",\n",
        "                         kernel_initializer=init,\n",
        "                         kernel_regularizer=reg,\n",
        "                         input_shape=inputShape))                  # Initializing Convolutional Layer. \n",
        "        model.add(Conv2D(32, (3,3), padding=\"same\", \n",
        "                         kernel_initializer=init,\n",
        "                         kernel_regularizer=reg))                  # Initializing Convolutional Layer. \n",
        "        model.add(Activation(\"relu\"))                              # Initializing Activation Function. \n",
        "        model.add(BatchNormalization(axis=chanDim))                # Initializing BatchNormalization Layer. \n",
        "        model.add(Conv2D(32, (3,3), strides=(2,2), padding=\"same\",\n",
        "                         kernel_initializer=init, \n",
        "                         kernel_regularizer=reg, \n",
        "                         activation=\"relu\"))                       # Initializing Convolutional Layer. \n",
        "        model.add(BatchNormalization(axis=chanDim))                # Initializing BatchNormalization Layer.\n",
        "        model.add(Dropout(0.25))                                   # Initializing Dropout Layer. \n",
        "        model.add(Conv2D(64, (3,3), padding=\"same\", \n",
        "                         kernel_initializer=init, \n",
        "                         kernel_regularizer=reg))                  # Initializing Convolutional Layer. \n",
        "        model.add(Activation(\"relu\"))                              # Initializing Activation Function.  \n",
        "        model.add(BatchNormalization(axis=chanDim))                # Initializing BatchNormalization Layer.\n",
        "        model.add(Conv2D(64, (3,3), strides=(2,2), padding=\"same\", \n",
        "                         kernel_initializer=init, \n",
        "                         kernel_regularizer=reg))                  # Initializing Convolutional Layer. \n",
        "        model.add(Activation(\"relu\"))                              # Initializing Activation Function.\n",
        "        model.add(BatchNormalization(axis=chanDim))                # Initializing BatchNormalization Layer.\n",
        "        model.add(Dropout(0.25))                                   # Initializing Dropout Layer.\n",
        "        model.add(Conv2D(128, (3,3), padding=\"same\", \n",
        "                         kernel_initializer=init, \n",
        "                         kernel_regularizer=reg))                  # Initializing Convolutional Layer. \n",
        "        model.add(Activation(\"relu\"))                              # Initializing Activation Function.  \n",
        "        model.add(BatchNormalization(axis=chanDim))                # Initializing BatchNormalization Layer.\n",
        "        model.add(Conv2D(128,(3,3), strides=(2,2), padding=\"same\", \n",
        "                         kernel_initializer=init, \n",
        "                         kernel_regularizer=reg))                  # Initializing Convolutional Layer. \n",
        "        model.add(Activation(\"relu\"))                              # Initializing Activation Function.\n",
        "        model.add(BatchNormalization(axis=chanDim))                # Initializing BatchNormalization Layer.\n",
        "        model.add(Dropout(0.25))                                   # Initializing Dropout Layer.\n",
        "        model.add(Flatten())                                       # Initializing Fully Connected Layer. \n",
        "        model.add(Dense(512, kernel_initializer=init))             # Initializing Dense Layer. \n",
        "        model.add(Activation(\"relu\"))                              # Initializing Activation Function. \n",
        "        model.add(BatchNormalization(axis=chanDim))                # Initializing BatchNormalization Layer.\n",
        "        model.add(Dropout(0.5))                                    # Initializing Dropout Layer.\n",
        "        model.add(Dense(classes, activation=\"softmax\"))            # Initializing Dense Layer. \n",
        "        return model"
      ],
      "execution_count": 7,
      "outputs": []
    },
    {
      "cell_type": "code",
      "metadata": {
        "id": "HDK1a1jj_4Gh"
      },
      "source": [
        ""
      ],
      "execution_count": null,
      "outputs": []
    }
  ]
}