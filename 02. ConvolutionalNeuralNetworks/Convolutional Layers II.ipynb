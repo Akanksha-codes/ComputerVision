{
  "nbformat": 4,
  "nbformat_minor": 0,
  "metadata": {
    "colab": {
      "name": "Convolutional Layers II.ipynb",
      "provenance": [],
      "collapsed_sections": []
    },
    "kernelspec": {
      "name": "python3",
      "display_name": "Python 3"
    },
    "language_info": {
      "name": "python"
    },
    "accelerator": "GPU"
  },
  "cells": [
    {
      "cell_type": "markdown",
      "source": [
        "**INITIALIZATION:**"
      ],
      "metadata": {
        "id": "Qm_mbO5veN3H"
      }
    },
    {
      "cell_type": "code",
      "source": [
        "#@ GETTING LIBRARIES AND DEPENDENCIES: UNCOMMENT BELOW: \n",
        "# !python /content/simplepreprocessor.py\n",
        "# !unzip /content/drive/MyDrive/Data/animals.zip"
      ],
      "metadata": {
        "id": "fQq2yTvVxHSQ"
      },
      "execution_count": 2,
      "outputs": []
    },
    {
      "cell_type": "code",
      "execution_count": 13,
      "metadata": {
        "id": "TZWcLw4laYpn"
      },
      "outputs": [],
      "source": [
        "#@ DOWNLOADING NECESSARY LIBRARIES AND DEPENDENCIES: \n",
        "import os\n",
        "from imutils import paths\n",
        "import numpy as np\n",
        "import matplotlib.pyplot as plt\n",
        "\n",
        "from sklearn.preprocessing import LabelBinarizer\n",
        "from sklearn.model_selection import train_test_split\n",
        "from sklearn.metrics import classification_report\n",
        "\n",
        "from keras.models import Sequential\n",
        "from keras.layers.convolutional import Conv2D\n",
        "from keras.layers.core import Activation\n",
        "from keras.layers.core import Flatten\n",
        "from keras.layers.core import Dense\n",
        "from keras import backend as K\n",
        "from tensorflow.keras.optimizers import SGD\n",
        "from keras.preprocessing.image import img_to_array\n",
        "\n",
        "from simplepreprocessor import SimplePreprocessor\n",
        "from simplepreprocessor import SimpleDatasetLoader"
      ]
    },
    {
      "cell_type": "markdown",
      "source": [
        "**SHALLOW NEURAL NETWORK:**"
      ],
      "metadata": {
        "id": "Io5UhABgh3ae"
      }
    },
    {
      "cell_type": "code",
      "source": [
        "#@ DEFINING IMAGE TO ARRAY PREPROCESSOR:\n",
        "class ImageToArrayPreprocessor:                             # Defining Image To Preprocessor Class. \n",
        "    def __init__(self, dataFormat=None):                    # Initializing Constructor Function. \n",
        "        self.dataFormat = dataFormat                        # Initialization. \n",
        "    \n",
        "    def preprocess(self, image):                            # Initializing Preprocess Method. \n",
        "        return img_to_array(image,\n",
        "                            data_format=self.dataFormat)    # Converting Image2Array. "
      ],
      "metadata": {
        "id": "vOurqlOqsphK"
      },
      "execution_count": 6,
      "outputs": []
    },
    {
      "cell_type": "code",
      "source": [
        "#@ DEFINING SHALLOWNET ARCHITECTURE:\n",
        "class ShallowNet:                                           # Defining Shallow Network. \n",
        "    @staticmethod\n",
        "    def build(width, height, depth, classes):               # Initializing Build Method. \n",
        "        model = Sequential()                                # Initializing Sequential Model. \n",
        "        inputShape = (height, width, depth)                 # Initializing Input Shape.\n",
        "        if K.image_data_format() == \"channels_first\":\n",
        "            inputShape = (depth, height, width)             # Initializing Input Shape Format. \n",
        "        model.add(Conv2D(32, (3, 3), padding=\"same\", \n",
        "                         input_shape = inputShape))         # Initializing Convolutional Layer. \n",
        "        model.add(Flatten())                                # Converting into 1D List. \n",
        "        model.add(Dense(classes))                           # Adding Dense Output Layer. \n",
        "        model.add(Activation(\"softmax\"))                    # Initializing Softmax Activation Function. \n",
        "        return model"
      ],
      "metadata": {
        "id": "WVviatxcx9Jk"
      },
      "execution_count": 5,
      "outputs": []
    },
    {
      "cell_type": "markdown",
      "source": [
        "**SHALLOWNET ON ANIMALS:**"
      ],
      "metadata": {
        "id": "unansEf4iAe9"
      }
    },
    {
      "cell_type": "code",
      "source": [
        "#@ GETTING THE DATASET: \n",
        "sp = SimplePreprocessor(32, 32)                             # Resizing Images to Fixed Size. \n",
        "iap = ImageToArrayPreprocessor()                            # Initializing Channel Ordering. \n",
        "imagePaths = list(paths.list_images('/content/animals'))    # Initializing Image Dataset.\n",
        "sdl = SimpleDatasetLoader(preprocessors=[sp, iap])          # Initializing Dataset Loader. \n",
        "(data, labels) = sdl.load(imagePaths, verbose=500)          # Initializing Dataset. \n",
        "data = data.astype(\"float\") / 255.0                         # Normalizing Images. \n",
        "\n",
        "#@ PREPARING THE DATASET:\n",
        "(trainX, testX, trainY, testY) = train_test_split(\n",
        "    data, labels, test_size=0.25, random_state=42)          # Partitioning Training Data and Test Data. \n",
        "trainY = LabelBinarizer().fit_transform(trainY)             # Converting Labels into Vectors. \n",
        "testY = LabelBinarizer().fit_transform(testY)               # Converting Labels into Vectors. "
      ],
      "metadata": {
        "colab": {
          "base_uri": "https://localhost:8080/"
        },
        "id": "kKyVFZ7_hxNg",
        "outputId": "bc2929d1-0898-4d1f-95d5-db17b76c29eb"
      },
      "execution_count": 7,
      "outputs": [
        {
          "output_type": "stream",
          "name": "stdout",
          "text": [
            "[INFO] processed 500/3000\n",
            "[INFO] processed 1000/3000\n",
            "[INFO] processed 1500/3000\n",
            "[INFO] processed 2000/3000\n",
            "[INFO] processed 2500/3000\n",
            "[INFO] processed 3000/3000\n"
          ]
        }
      ]
    },
    {
      "cell_type": "code",
      "source": [
        "#@ INITIALIZING OPTIMIZER AND MODEL: \n",
        "opt = SGD(0.005)                                                  # Initializing SGD Optimizer. \n",
        "model = ShallowNet.build(width=32,height=32,depth=3, classes=3)   # Initializing Shallow Neural Network. \n",
        "model.compile(loss=\"categorical_crossentropy\",optimizer=opt,\n",
        "              metrics=[\"accuracy\"])                               # Compiling ShallowNet Model. \n",
        "H = model.fit(trainX,trainY, validation_data=(testX,testY), \n",
        "              batch_size=32, epochs=100, verbose=1)               # Training ShallowNet Model. "
      ],
      "metadata": {
        "colab": {
          "base_uri": "https://localhost:8080/"
        },
        "id": "_5caxdTt5uIK",
        "outputId": "7beb1229-66a4-4893-c844-469c3cfbbfc3"
      },
      "execution_count": 11,
      "outputs": [
        {
          "output_type": "stream",
          "name": "stdout",
          "text": [
            "Epoch 1/100\n",
            "71/71 [==============================] - 1s 9ms/step - loss: 1.0113 - accuracy: 0.4907 - val_loss: 0.9359 - val_accuracy: 0.5333\n",
            "Epoch 2/100\n",
            "71/71 [==============================] - 1s 7ms/step - loss: 0.9171 - accuracy: 0.5329 - val_loss: 0.9777 - val_accuracy: 0.4813\n",
            "Epoch 3/100\n",
            "71/71 [==============================] - 0s 6ms/step - loss: 0.8620 - accuracy: 0.5702 - val_loss: 0.8681 - val_accuracy: 0.5653\n",
            "Epoch 4/100\n",
            "71/71 [==============================] - 0s 6ms/step - loss: 0.8535 - accuracy: 0.5684 - val_loss: 0.8556 - val_accuracy: 0.5720\n",
            "Epoch 5/100\n",
            "71/71 [==============================] - 0s 6ms/step - loss: 0.8238 - accuracy: 0.5973 - val_loss: 0.9262 - val_accuracy: 0.5200\n",
            "Epoch 6/100\n",
            "71/71 [==============================] - 1s 7ms/step - loss: 0.8021 - accuracy: 0.6147 - val_loss: 0.8150 - val_accuracy: 0.6013\n",
            "Epoch 7/100\n",
            "71/71 [==============================] - 0s 6ms/step - loss: 0.7956 - accuracy: 0.6129 - val_loss: 0.8281 - val_accuracy: 0.5987\n",
            "Epoch 8/100\n",
            "71/71 [==============================] - 0s 6ms/step - loss: 0.7813 - accuracy: 0.6258 - val_loss: 0.8806 - val_accuracy: 0.5773\n",
            "Epoch 9/100\n",
            "71/71 [==============================] - 0s 6ms/step - loss: 0.7773 - accuracy: 0.6364 - val_loss: 0.8854 - val_accuracy: 0.5467\n",
            "Epoch 10/100\n",
            "71/71 [==============================] - 0s 6ms/step - loss: 0.7669 - accuracy: 0.6458 - val_loss: 0.8122 - val_accuracy: 0.6040\n",
            "Epoch 11/100\n",
            "71/71 [==============================] - 0s 6ms/step - loss: 0.7669 - accuracy: 0.6396 - val_loss: 0.8130 - val_accuracy: 0.6013\n",
            "Epoch 12/100\n",
            "71/71 [==============================] - 0s 7ms/step - loss: 0.7547 - accuracy: 0.6502 - val_loss: 0.8673 - val_accuracy: 0.5760\n",
            "Epoch 13/100\n",
            "71/71 [==============================] - 0s 6ms/step - loss: 0.7525 - accuracy: 0.6498 - val_loss: 0.8205 - val_accuracy: 0.6027\n",
            "Epoch 14/100\n",
            "71/71 [==============================] - 1s 8ms/step - loss: 0.7482 - accuracy: 0.6489 - val_loss: 0.8141 - val_accuracy: 0.5893\n",
            "Epoch 15/100\n",
            "71/71 [==============================] - 0s 6ms/step - loss: 0.7391 - accuracy: 0.6662 - val_loss: 0.8531 - val_accuracy: 0.5960\n",
            "Epoch 16/100\n",
            "71/71 [==============================] - 0s 6ms/step - loss: 0.7285 - accuracy: 0.6720 - val_loss: 0.9134 - val_accuracy: 0.5480\n",
            "Epoch 17/100\n",
            "71/71 [==============================] - 1s 9ms/step - loss: 0.7300 - accuracy: 0.6680 - val_loss: 0.8298 - val_accuracy: 0.5893\n",
            "Epoch 18/100\n",
            "71/71 [==============================] - 1s 9ms/step - loss: 0.7269 - accuracy: 0.6751 - val_loss: 0.8850 - val_accuracy: 0.5667\n",
            "Epoch 19/100\n",
            "71/71 [==============================] - 1s 9ms/step - loss: 0.7226 - accuracy: 0.6782 - val_loss: 0.8309 - val_accuracy: 0.5880\n",
            "Epoch 20/100\n",
            "71/71 [==============================] - 1s 9ms/step - loss: 0.7172 - accuracy: 0.6760 - val_loss: 0.8808 - val_accuracy: 0.5400\n",
            "Epoch 21/100\n",
            "71/71 [==============================] - 1s 9ms/step - loss: 0.7106 - accuracy: 0.6782 - val_loss: 0.8302 - val_accuracy: 0.5933\n",
            "Epoch 22/100\n",
            "71/71 [==============================] - 1s 9ms/step - loss: 0.7021 - accuracy: 0.6947 - val_loss: 0.8760 - val_accuracy: 0.5813\n",
            "Epoch 23/100\n",
            "71/71 [==============================] - 1s 9ms/step - loss: 0.7017 - accuracy: 0.6827 - val_loss: 0.8633 - val_accuracy: 0.5747\n",
            "Epoch 24/100\n",
            "71/71 [==============================] - 1s 10ms/step - loss: 0.7008 - accuracy: 0.6858 - val_loss: 0.8119 - val_accuracy: 0.6067\n",
            "Epoch 25/100\n",
            "71/71 [==============================] - 1s 10ms/step - loss: 0.6947 - accuracy: 0.6907 - val_loss: 0.8139 - val_accuracy: 0.6107\n",
            "Epoch 26/100\n",
            "71/71 [==============================] - 1s 9ms/step - loss: 0.6872 - accuracy: 0.6996 - val_loss: 0.8263 - val_accuracy: 0.5960\n",
            "Epoch 27/100\n",
            "71/71 [==============================] - 1s 9ms/step - loss: 0.6856 - accuracy: 0.6973 - val_loss: 0.8219 - val_accuracy: 0.5933\n",
            "Epoch 28/100\n",
            "71/71 [==============================] - 1s 9ms/step - loss: 0.6818 - accuracy: 0.7004 - val_loss: 0.8172 - val_accuracy: 0.5987\n",
            "Epoch 29/100\n",
            "71/71 [==============================] - 1s 9ms/step - loss: 0.6780 - accuracy: 0.7098 - val_loss: 0.8188 - val_accuracy: 0.6093\n",
            "Epoch 30/100\n",
            "71/71 [==============================] - 1s 9ms/step - loss: 0.6722 - accuracy: 0.7093 - val_loss: 0.8603 - val_accuracy: 0.5640\n",
            "Epoch 31/100\n",
            "71/71 [==============================] - 1s 10ms/step - loss: 0.6680 - accuracy: 0.7169 - val_loss: 0.8421 - val_accuracy: 0.5853\n",
            "Epoch 32/100\n",
            "71/71 [==============================] - 1s 9ms/step - loss: 0.6636 - accuracy: 0.7049 - val_loss: 0.8672 - val_accuracy: 0.5680\n",
            "Epoch 33/100\n",
            "71/71 [==============================] - 1s 11ms/step - loss: 0.6599 - accuracy: 0.7151 - val_loss: 0.9395 - val_accuracy: 0.5467\n",
            "Epoch 34/100\n",
            "71/71 [==============================] - 1s 10ms/step - loss: 0.6612 - accuracy: 0.7151 - val_loss: 0.8195 - val_accuracy: 0.6053\n",
            "Epoch 35/100\n",
            "71/71 [==============================] - 1s 12ms/step - loss: 0.6587 - accuracy: 0.7049 - val_loss: 0.8451 - val_accuracy: 0.5813\n",
            "Epoch 36/100\n",
            "71/71 [==============================] - 1s 14ms/step - loss: 0.6500 - accuracy: 0.7231 - val_loss: 0.8511 - val_accuracy: 0.5933\n",
            "Epoch 37/100\n",
            "71/71 [==============================] - 1s 10ms/step - loss: 0.6477 - accuracy: 0.7178 - val_loss: 0.8280 - val_accuracy: 0.5947\n",
            "Epoch 38/100\n",
            "71/71 [==============================] - 1s 11ms/step - loss: 0.6458 - accuracy: 0.7204 - val_loss: 0.8867 - val_accuracy: 0.5613\n",
            "Epoch 39/100\n",
            "71/71 [==============================] - 1s 10ms/step - loss: 0.6414 - accuracy: 0.7240 - val_loss: 0.8779 - val_accuracy: 0.5800\n",
            "Epoch 40/100\n",
            "71/71 [==============================] - 1s 10ms/step - loss: 0.6398 - accuracy: 0.7276 - val_loss: 0.8485 - val_accuracy: 0.5880\n",
            "Epoch 41/100\n",
            "71/71 [==============================] - 1s 9ms/step - loss: 0.6385 - accuracy: 0.7262 - val_loss: 0.8595 - val_accuracy: 0.5693\n",
            "Epoch 42/100\n",
            "71/71 [==============================] - 1s 9ms/step - loss: 0.6319 - accuracy: 0.7378 - val_loss: 0.8484 - val_accuracy: 0.5893\n",
            "Epoch 43/100\n",
            "71/71 [==============================] - 1s 10ms/step - loss: 0.6275 - accuracy: 0.7298 - val_loss: 0.8386 - val_accuracy: 0.5973\n",
            "Epoch 44/100\n",
            "71/71 [==============================] - 1s 9ms/step - loss: 0.6241 - accuracy: 0.7396 - val_loss: 1.0082 - val_accuracy: 0.5253\n",
            "Epoch 45/100\n",
            "71/71 [==============================] - 1s 11ms/step - loss: 0.6282 - accuracy: 0.7351 - val_loss: 0.8470 - val_accuracy: 0.5800\n",
            "Epoch 46/100\n",
            "71/71 [==============================] - 1s 10ms/step - loss: 0.6207 - accuracy: 0.7431 - val_loss: 0.8486 - val_accuracy: 0.5880\n",
            "Epoch 47/100\n",
            "71/71 [==============================] - 1s 11ms/step - loss: 0.6159 - accuracy: 0.7449 - val_loss: 0.8959 - val_accuracy: 0.5587\n",
            "Epoch 48/100\n",
            "71/71 [==============================] - 1s 10ms/step - loss: 0.6119 - accuracy: 0.7507 - val_loss: 0.9446 - val_accuracy: 0.5600\n",
            "Epoch 49/100\n",
            "71/71 [==============================] - 1s 12ms/step - loss: 0.6110 - accuracy: 0.7467 - val_loss: 0.8472 - val_accuracy: 0.5893\n",
            "Epoch 50/100\n",
            "71/71 [==============================] - 1s 12ms/step - loss: 0.6069 - accuracy: 0.7467 - val_loss: 0.8709 - val_accuracy: 0.5653\n",
            "Epoch 51/100\n",
            "71/71 [==============================] - 1s 10ms/step - loss: 0.6064 - accuracy: 0.7467 - val_loss: 0.9219 - val_accuracy: 0.5720\n",
            "Epoch 52/100\n",
            "71/71 [==============================] - 1s 9ms/step - loss: 0.6035 - accuracy: 0.7440 - val_loss: 0.8828 - val_accuracy: 0.5613\n",
            "Epoch 53/100\n",
            "71/71 [==============================] - 1s 10ms/step - loss: 0.6031 - accuracy: 0.7480 - val_loss: 0.8787 - val_accuracy: 0.5773\n",
            "Epoch 54/100\n",
            "71/71 [==============================] - 1s 8ms/step - loss: 0.5994 - accuracy: 0.7476 - val_loss: 0.8616 - val_accuracy: 0.5787\n",
            "Epoch 55/100\n",
            "71/71 [==============================] - 1s 7ms/step - loss: 0.5930 - accuracy: 0.7596 - val_loss: 0.8613 - val_accuracy: 0.5813\n",
            "Epoch 56/100\n",
            "71/71 [==============================] - 0s 6ms/step - loss: 0.5891 - accuracy: 0.7516 - val_loss: 0.8782 - val_accuracy: 0.5733\n",
            "Epoch 57/100\n",
            "71/71 [==============================] - 0s 6ms/step - loss: 0.5898 - accuracy: 0.7578 - val_loss: 0.8626 - val_accuracy: 0.5907\n",
            "Epoch 58/100\n",
            "71/71 [==============================] - 0s 6ms/step - loss: 0.5832 - accuracy: 0.7582 - val_loss: 0.8809 - val_accuracy: 0.5813\n",
            "Epoch 59/100\n",
            "71/71 [==============================] - 0s 6ms/step - loss: 0.5804 - accuracy: 0.7702 - val_loss: 0.8676 - val_accuracy: 0.5867\n",
            "Epoch 60/100\n",
            "71/71 [==============================] - 0s 6ms/step - loss: 0.5799 - accuracy: 0.7636 - val_loss: 0.8710 - val_accuracy: 0.5733\n",
            "Epoch 61/100\n",
            "71/71 [==============================] - 1s 7ms/step - loss: 0.5739 - accuracy: 0.7707 - val_loss: 0.8924 - val_accuracy: 0.5733\n",
            "Epoch 62/100\n",
            "71/71 [==============================] - 0s 6ms/step - loss: 0.5740 - accuracy: 0.7640 - val_loss: 0.8826 - val_accuracy: 0.5680\n",
            "Epoch 63/100\n",
            "71/71 [==============================] - 0s 7ms/step - loss: 0.5725 - accuracy: 0.7729 - val_loss: 0.9034 - val_accuracy: 0.5773\n",
            "Epoch 64/100\n",
            "71/71 [==============================] - 1s 7ms/step - loss: 0.5702 - accuracy: 0.7653 - val_loss: 0.8893 - val_accuracy: 0.5760\n",
            "Epoch 65/100\n",
            "71/71 [==============================] - 1s 8ms/step - loss: 0.5657 - accuracy: 0.7738 - val_loss: 0.8871 - val_accuracy: 0.5693\n",
            "Epoch 66/100\n",
            "71/71 [==============================] - 1s 7ms/step - loss: 0.5661 - accuracy: 0.7684 - val_loss: 0.8826 - val_accuracy: 0.5733\n",
            "Epoch 67/100\n",
            "71/71 [==============================] - 1s 7ms/step - loss: 0.5627 - accuracy: 0.7831 - val_loss: 0.8843 - val_accuracy: 0.5720\n",
            "Epoch 68/100\n",
            "71/71 [==============================] - 1s 8ms/step - loss: 0.5585 - accuracy: 0.7782 - val_loss: 0.9492 - val_accuracy: 0.5560\n",
            "Epoch 69/100\n",
            "71/71 [==============================] - 0s 7ms/step - loss: 0.5582 - accuracy: 0.7733 - val_loss: 0.8900 - val_accuracy: 0.5707\n",
            "Epoch 70/100\n",
            "71/71 [==============================] - 1s 7ms/step - loss: 0.5524 - accuracy: 0.7773 - val_loss: 0.9411 - val_accuracy: 0.5627\n",
            "Epoch 71/100\n",
            "71/71 [==============================] - 1s 8ms/step - loss: 0.5546 - accuracy: 0.7773 - val_loss: 0.8950 - val_accuracy: 0.5680\n",
            "Epoch 72/100\n",
            "71/71 [==============================] - 1s 7ms/step - loss: 0.5510 - accuracy: 0.7747 - val_loss: 0.8955 - val_accuracy: 0.5613\n",
            "Epoch 73/100\n",
            "71/71 [==============================] - 1s 7ms/step - loss: 0.5465 - accuracy: 0.7827 - val_loss: 0.9025 - val_accuracy: 0.5693\n",
            "Epoch 74/100\n",
            "71/71 [==============================] - 0s 6ms/step - loss: 0.5450 - accuracy: 0.7853 - val_loss: 0.9114 - val_accuracy: 0.5600\n",
            "Epoch 75/100\n",
            "71/71 [==============================] - 1s 7ms/step - loss: 0.5440 - accuracy: 0.7929 - val_loss: 0.9060 - val_accuracy: 0.5640\n",
            "Epoch 76/100\n",
            "71/71 [==============================] - 1s 7ms/step - loss: 0.5398 - accuracy: 0.7880 - val_loss: 0.9251 - val_accuracy: 0.5680\n",
            "Epoch 77/100\n",
            "71/71 [==============================] - 1s 8ms/step - loss: 0.5387 - accuracy: 0.7911 - val_loss: 0.9517 - val_accuracy: 0.5560\n",
            "Epoch 78/100\n",
            "71/71 [==============================] - 0s 6ms/step - loss: 0.5363 - accuracy: 0.7862 - val_loss: 0.9153 - val_accuracy: 0.5653\n",
            "Epoch 79/100\n",
            "71/71 [==============================] - 1s 7ms/step - loss: 0.5344 - accuracy: 0.7920 - val_loss: 0.9358 - val_accuracy: 0.5600\n",
            "Epoch 80/100\n",
            "71/71 [==============================] - 0s 7ms/step - loss: 0.5331 - accuracy: 0.7827 - val_loss: 0.9185 - val_accuracy: 0.5627\n",
            "Epoch 81/100\n",
            "71/71 [==============================] - 0s 7ms/step - loss: 0.5303 - accuracy: 0.7880 - val_loss: 0.9169 - val_accuracy: 0.5640\n",
            "Epoch 82/100\n",
            "71/71 [==============================] - 1s 8ms/step - loss: 0.5252 - accuracy: 0.7933 - val_loss: 0.9263 - val_accuracy: 0.5560\n",
            "Epoch 83/100\n",
            "71/71 [==============================] - 1s 8ms/step - loss: 0.5268 - accuracy: 0.7920 - val_loss: 0.9285 - val_accuracy: 0.5533\n",
            "Epoch 84/100\n",
            "71/71 [==============================] - 0s 6ms/step - loss: 0.5241 - accuracy: 0.7942 - val_loss: 0.9257 - val_accuracy: 0.5573\n",
            "Epoch 85/100\n",
            "71/71 [==============================] - 0s 7ms/step - loss: 0.5193 - accuracy: 0.7947 - val_loss: 0.9286 - val_accuracy: 0.5693\n",
            "Epoch 86/100\n",
            "71/71 [==============================] - 1s 7ms/step - loss: 0.5178 - accuracy: 0.7987 - val_loss: 0.9281 - val_accuracy: 0.5600\n",
            "Epoch 87/100\n",
            "71/71 [==============================] - 1s 8ms/step - loss: 0.5166 - accuracy: 0.7929 - val_loss: 0.9917 - val_accuracy: 0.5627\n",
            "Epoch 88/100\n",
            "71/71 [==============================] - 1s 7ms/step - loss: 0.5136 - accuracy: 0.7991 - val_loss: 0.9499 - val_accuracy: 0.5453\n",
            "Epoch 89/100\n",
            "71/71 [==============================] - 0s 6ms/step - loss: 0.5097 - accuracy: 0.7951 - val_loss: 0.9437 - val_accuracy: 0.5693\n",
            "Epoch 90/100\n",
            "71/71 [==============================] - 0s 6ms/step - loss: 0.5069 - accuracy: 0.8027 - val_loss: 0.9392 - val_accuracy: 0.5667\n",
            "Epoch 91/100\n",
            "71/71 [==============================] - 0s 7ms/step - loss: 0.5063 - accuracy: 0.8031 - val_loss: 0.9480 - val_accuracy: 0.5613\n",
            "Epoch 92/100\n",
            "71/71 [==============================] - 1s 7ms/step - loss: 0.5056 - accuracy: 0.8031 - val_loss: 0.9415 - val_accuracy: 0.5653\n",
            "Epoch 93/100\n",
            "71/71 [==============================] - 0s 7ms/step - loss: 0.5071 - accuracy: 0.8013 - val_loss: 0.9498 - val_accuracy: 0.5600\n",
            "Epoch 94/100\n",
            "71/71 [==============================] - 1s 7ms/step - loss: 0.5014 - accuracy: 0.8044 - val_loss: 0.9474 - val_accuracy: 0.5587\n",
            "Epoch 95/100\n",
            "71/71 [==============================] - 1s 7ms/step - loss: 0.4987 - accuracy: 0.8098 - val_loss: 0.9703 - val_accuracy: 0.5533\n",
            "Epoch 96/100\n",
            "71/71 [==============================] - 0s 7ms/step - loss: 0.4968 - accuracy: 0.8160 - val_loss: 0.9631 - val_accuracy: 0.5600\n",
            "Epoch 97/100\n",
            "71/71 [==============================] - 0s 7ms/step - loss: 0.4931 - accuracy: 0.8129 - val_loss: 0.9672 - val_accuracy: 0.5573\n",
            "Epoch 98/100\n",
            "71/71 [==============================] - 0s 6ms/step - loss: 0.4958 - accuracy: 0.8120 - val_loss: 0.9682 - val_accuracy: 0.5573\n",
            "Epoch 99/100\n",
            "71/71 [==============================] - 1s 7ms/step - loss: 0.4900 - accuracy: 0.8187 - val_loss: 0.9682 - val_accuracy: 0.5653\n",
            "Epoch 100/100\n",
            "71/71 [==============================] - 0s 7ms/step - loss: 0.4875 - accuracy: 0.8191 - val_loss: 0.9839 - val_accuracy: 0.5653\n"
          ]
        }
      ]
    },
    {
      "cell_type": "markdown",
      "source": [
        "**MODEL EVALUATION:**"
      ],
      "metadata": {
        "id": "NmiSDX9wAOrK"
      }
    },
    {
      "cell_type": "code",
      "source": [
        "#@ INITIALIZING MODEL EVALUATION:\n",
        "predictions = model.predict(testX, batch_size=32)                   # Getting Model Predictions. \n",
        "print(classification_report(testY.argmax(axis=1),\n",
        "                            predictions.argmax(axis=1), \n",
        "                            target_names=[\"cat\", \"dog\", \"panda\"]))  # Inspecting Classification Report. "
      ],
      "metadata": {
        "colab": {
          "base_uri": "https://localhost:8080/"
        },
        "id": "acUFOfHfAUl6",
        "outputId": "ecaabfd4-f2f6-4960-f9f6-8592644b85f3"
      },
      "execution_count": 12,
      "outputs": [
        {
          "output_type": "stream",
          "name": "stdout",
          "text": [
            "              precision    recall  f1-score   support\n",
            "\n",
            "         cat       0.51      0.46      0.48       239\n",
            "         dog       0.52      0.45      0.48       262\n",
            "       panda       0.64      0.78      0.71       249\n",
            "\n",
            "    accuracy                           0.57       750\n",
            "   macro avg       0.56      0.57      0.56       750\n",
            "weighted avg       0.56      0.57      0.56       750\n",
            "\n"
          ]
        }
      ]
    },
    {
      "cell_type": "code",
      "source": [
        "#@ INSPECTING TRAINING LOSS AND ACCURACY:\n",
        "plt.style.use(\"ggplot\")\n",
        "plt.figure()\n",
        "plt.plot(np.arange(0, 100), H.history[\"loss\"], label=\"train_loss\")\n",
        "plt.plot(np.arange(0, 100), H.history[\"val_loss\"], label=\"val_loss\")\n",
        "plt.plot(np.arange(0, 100), H.history[\"accuracy\"], label=\"train_acc\")\n",
        "plt.plot(np.arange(0, 100), H.history[\"val_accuracy\"], label=\"val_acc\")\n",
        "plt.title(\"Training Loss and Accuracy\")\n",
        "plt.xlabel(\"Epoch\")\n",
        "plt.ylabel(\"Loss/Accuracy\")\n",
        "plt.legend()\n",
        "plt.show();"
      ],
      "metadata": {
        "colab": {
          "base_uri": "https://localhost:8080/",
          "height": 299
        },
        "id": "zScJ-oFZBCQs",
        "outputId": "a6333fd3-94ef-4c90-b40f-bbd77daddfd5"
      },
      "execution_count": 15,
      "outputs": [
        {
          "output_type": "display_data",
          "data": {
            "image/png": "[encoded data removed]",
            "text/plain": [
              "<Figure size 432x288 with 1 Axes>"
            ]
          },
          "metadata": {}
        }
      ]
    },
    {
      "cell_type": "code",
      "source": [
        ""
      ],
      "metadata": {
        "id": "CliaE7ZMCfjs"
      },
      "execution_count": null,
      "outputs": []
    }
  ]
}