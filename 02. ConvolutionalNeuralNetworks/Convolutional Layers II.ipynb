{
  "nbformat": 4,
  "nbformat_minor": 0,
  "metadata": {
    "colab": {
      "name": "Convolutional Layers II.ipynb",
      "provenance": []
    },
    "kernelspec": {
      "name": "python3",
      "display_name": "Python 3"
    },
    "language_info": {
      "name": "python"
    },
    "accelerator": "GPU"
  },
  "cells": [
    {
      "cell_type": "code",
      "source": [
        "#@ GETTING LIBRARIES AND DEPENDENCIES: UNCOMMENT BELOW: \n",
        "# !python /content/simplepreprocessor.py\n",
        "# !unzip /content/drive/MyDrive/Data/animals.zip"
      ],
      "metadata": {
        "id": "fQq2yTvVxHSQ"
      },
      "execution_count": 6,
      "outputs": []
    },
    {
      "cell_type": "code",
      "execution_count": 9,
      "metadata": {
        "id": "TZWcLw4laYpn"
      },
      "outputs": [],
      "source": [
        "#@ DOWNLOADING NECESSARY LIBRARIES AND DEPENDENCIES: \n",
        "import os\n",
        "from imutils import paths\n",
        "from keras.models import Sequential\n",
        "from keras.layers.convolutional import Conv2D\n",
        "from keras.layers.core import Activation\n",
        "from keras.layers.core import Flatten\n",
        "from keras.layers.core import Dense\n",
        "from keras import backend as K\n",
        "from keras.preprocessing.image import img_to_array\n",
        "from simplepreprocessor import SimplePreprocessor\n",
        "from simplepreprocessor import SimpleDatasetLoader"
      ]
    },
    {
      "cell_type": "code",
      "source": [
        "#@ DEFINING IMAGE TO ARRAY PREPROCESSOR:\n",
        "class ImageToArrayPreprocessor:                             # Defining Image To Preprocessor Class. \n",
        "    def __init__(self, dataFormat=None):                    # Initializing Constructor Function. \n",
        "        self.dataFormat = dataFormat                        # Initialization. \n",
        "    \n",
        "    def preprocess(self, image):                            # Initializing Preprocess Method. \n",
        "        return img_to_array(image,\n",
        "                            data_format=self.dataFormat)    # Converting Image2Array. \n",
        "\n",
        "#@ IMPLEMENTATION:\n",
        "sp = SimplePreprocessor(32, 32)                             # Resizing Images to Fixed Size. \n",
        "iap = ImageToArrayPreprocessor()                            # Initializing Channel Ordering. \n",
        "imagePaths = list(paths.list_images('/content/animals'))    # Initializing Image Dataset.\n",
        "sdl = SimpleDatasetLoader(preprocessors=[sp, iap])          # Initializing Dataset Loader. \n",
        "(data, labels) = sdl.load(imagePaths, verbose=500)          # Initializing Dataset. "
      ],
      "metadata": {
        "colab": {
          "base_uri": "https://localhost:8080/"
        },
        "id": "vOurqlOqsphK",
        "outputId": "437947a5-2d31-4e68-f3ec-73ee0948933b"
      },
      "execution_count": 8,
      "outputs": [
        {
          "output_type": "stream",
          "name": "stdout",
          "text": [
            "[INFO] processed 500/3000\n",
            "[INFO] processed 1000/3000\n",
            "[INFO] processed 1500/3000\n",
            "[INFO] processed 2000/3000\n",
            "[INFO] processed 2500/3000\n",
            "[INFO] processed 3000/3000\n"
          ]
        }
      ]
    },
    {
      "cell_type": "code",
      "source": [
        "#@ DEFINING SHALLOWNET ARCHITECTURE:\n",
        "class ShallowNet:                                           # Defining Shallow Network. \n",
        "    @staticmethod\n",
        "    def build(width, height, depth, classes):               # Initializing Build Method. \n",
        "        model = Sequential()                                # Initializing Sequential Model. \n",
        "        inputShape = (height, width, depth)                 # Initializing Input Shape.\n",
        "        if K.image_data_format() == \"channels_first\":\n",
        "            inputShape = (depth, height, width)             # Initializing Input Shape Format. \n",
        "        model.add(Conv2D(32, (3, 3), padding=\"same\", \n",
        "                         input_shape = inputShape))         # Initializing Convolutional Layer. \n",
        "        model.add(Flatten())                                # Converting into 1D List. \n",
        "        model.add(Dense(classes))                           # Adding Dense Output Layer. \n",
        "        model.add(Activation(\"softmax\"))                    # Initializing Softmax Activation Function. \n",
        "        return model"
      ],
      "metadata": {
        "id": "WVviatxcx9Jk"
      },
      "execution_count": 10,
      "outputs": []
    },
    {
      "cell_type": "code",
      "source": [
        ""
      ],
      "metadata": {
        "id": "ADUGgj423cgB"
      },
      "execution_count": null,
      "outputs": []
    }
  ]
}