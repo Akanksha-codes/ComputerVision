{
  "nbformat": 4,
  "nbformat_minor": 0,
  "metadata": {
    "colab": {
      "name": "Convolutional Layers II.ipynb",
      "provenance": [],
      "collapsed_sections": []
    },
    "kernelspec": {
      "name": "python3",
      "display_name": "Python 3"
    },
    "language_info": {
      "name": "python"
    },
    "accelerator": "GPU"
  },
  "cells": [
    {
      "cell_type": "markdown",
      "source": [
        "**INITIALIZATION:**"
      ],
      "metadata": {
        "id": "Qm_mbO5veN3H"
      }
    },
    {
      "cell_type": "code",
      "source": [
        "#@ GETTING LIBRARIES AND DEPENDENCIES: UNCOMMENT BELOW: \n",
        "# !python /content/simplepreprocessor.py\n",
        "# !unzip /content/drive/MyDrive/Data/animals.zip"
      ],
      "metadata": {
        "id": "fQq2yTvVxHSQ"
      },
      "execution_count": 2,
      "outputs": []
    },
    {
      "cell_type": "code",
      "execution_count": 10,
      "metadata": {
        "id": "TZWcLw4laYpn"
      },
      "outputs": [],
      "source": [
        "#@ DOWNLOADING NECESSARY LIBRARIES AND DEPENDENCIES: \n",
        "import os\n",
        "from imutils import paths\n",
        "import numpy as np\n",
        "import matplotlib.pyplot as plt\n",
        "\n",
        "from sklearn.preprocessing import LabelBinarizer\n",
        "from sklearn.model_selection import train_test_split\n",
        "from sklearn.metrics import classification_report\n",
        "\n",
        "from keras.models import Sequential\n",
        "from keras.layers.convolutional import Conv2D\n",
        "from keras.layers.core import Activation\n",
        "from keras.layers.core import Flatten\n",
        "from keras.layers.core import Dense\n",
        "from keras import backend as K\n",
        "from tensorflow.keras.optimizers import SGD\n",
        "from keras.preprocessing.image import img_to_array\n",
        "from keras.datasets import cifar10\n",
        "\n",
        "from simplepreprocessor import SimplePreprocessor\n",
        "from simplepreprocessor import SimpleDatasetLoader"
      ]
    },
    {
      "cell_type": "markdown",
      "source": [
        "**SHALLOW NEURAL NETWORK:**"
      ],
      "metadata": {
        "id": "Io5UhABgh3ae"
      }
    },
    {
      "cell_type": "code",
      "source": [
        "#@ DEFINING IMAGE TO ARRAY PREPROCESSOR:\n",
        "class ImageToArrayPreprocessor:                             # Defining Image To Preprocessor Class. \n",
        "    def __init__(self, dataFormat=None):                    # Initializing Constructor Function. \n",
        "        self.dataFormat = dataFormat                        # Initialization. \n",
        "    \n",
        "    def preprocess(self, image):                            # Initializing Preprocess Method. \n",
        "        return img_to_array(image,\n",
        "                            data_format=self.dataFormat)    # Converting Image2Array. "
      ],
      "metadata": {
        "id": "vOurqlOqsphK"
      },
      "execution_count": 4,
      "outputs": []
    },
    {
      "cell_type": "code",
      "source": [
        "#@ DEFINING SHALLOWNET ARCHITECTURE:\n",
        "class ShallowNet:                                           # Defining Shallow Network. \n",
        "    @staticmethod\n",
        "    def build(width, height, depth, classes):               # Initializing Build Method. \n",
        "        model = Sequential()                                # Initializing Sequential Model. \n",
        "        inputShape = (height, width, depth)                 # Initializing Input Shape.\n",
        "        if K.image_data_format() == \"channels_first\":\n",
        "            inputShape = (depth, height, width)             # Initializing Input Shape Format. \n",
        "        model.add(Conv2D(32, (3, 3), padding=\"same\", \n",
        "                         input_shape = inputShape))         # Initializing Convolutional Layer. \n",
        "        model.add(Flatten())                                # Converting into 1D List. \n",
        "        model.add(Dense(classes))                           # Adding Dense Output Layer. \n",
        "        model.add(Activation(\"softmax\"))                    # Initializing Softmax Activation Function. \n",
        "        return model"
      ],
      "metadata": {
        "id": "WVviatxcx9Jk"
      },
      "execution_count": 5,
      "outputs": []
    },
    {
      "cell_type": "markdown",
      "source": [
        "**SHALLOWNET ON ANIMALS:**"
      ],
      "metadata": {
        "id": "unansEf4iAe9"
      }
    },
    {
      "cell_type": "code",
      "source": [
        "#@ GETTING THE DATASET: \n",
        "sp = SimplePreprocessor(32, 32)                             # Resizing Images to Fixed Size. \n",
        "iap = ImageToArrayPreprocessor()                            # Initializing Channel Ordering. \n",
        "imagePaths = list(paths.list_images('/content/animals'))    # Initializing Image Dataset.\n",
        "sdl = SimpleDatasetLoader(preprocessors=[sp, iap])          # Initializing Dataset Loader. \n",
        "(data, labels) = sdl.load(imagePaths, verbose=500)          # Initializing Dataset. \n",
        "data = data.astype(\"float\") / 255.0                         # Normalizing Images. \n",
        "\n",
        "#@ PREPARING THE DATASET:\n",
        "(trainX, testX, trainY, testY) = train_test_split(\n",
        "    data, labels, test_size=0.25, random_state=42)          # Partitioning Training Data and Test Data. \n",
        "trainY = LabelBinarizer().fit_transform(trainY)             # Converting Labels into Vectors. \n",
        "testY = LabelBinarizer().fit_transform(testY)               # Converting Labels into Vectors. "
      ],
      "metadata": {
        "colab": {
          "base_uri": "https://localhost:8080/"
        },
        "id": "kKyVFZ7_hxNg",
        "outputId": "86ab8241-a56d-4179-efaa-87be35db37f2"
      },
      "execution_count": 6,
      "outputs": [
        {
          "output_type": "stream",
          "name": "stdout",
          "text": [
            "[INFO] processed 500/3000\n",
            "[INFO] processed 1000/3000\n",
            "[INFO] processed 1500/3000\n",
            "[INFO] processed 2000/3000\n",
            "[INFO] processed 2500/3000\n",
            "[INFO] processed 3000/3000\n"
          ]
        }
      ]
    },
    {
      "cell_type": "code",
      "source": [
        "#@ INITIALIZING OPTIMIZER AND MODEL: \n",
        "opt = SGD(0.005)                                                  # Initializing SGD Optimizer. \n",
        "model = ShallowNet.build(width=32,height=32,depth=3, classes=3)   # Initializing Shallow Neural Network. \n",
        "model.compile(loss=\"categorical_crossentropy\",optimizer=opt,\n",
        "              metrics=[\"accuracy\"])                               # Compiling ShallowNet Model. \n",
        "H = model.fit(trainX,trainY, validation_data=(testX,testY), \n",
        "              batch_size=32, epochs=100, verbose=1)               # Training ShallowNet Model. "
      ],
      "metadata": {
        "colab": {
          "base_uri": "https://localhost:8080/"
        },
        "id": "_5caxdTt5uIK",
        "outputId": "8fed262d-4cd0-478f-9262-ee9fe6df2858"
      },
      "execution_count": 7,
      "outputs": [
        {
          "output_type": "stream",
          "name": "stdout",
          "text": [
            "Epoch 1/100\n",
            "71/71 [==============================] - 14s 11ms/step - loss: 1.0239 - accuracy: 0.4836 - val_loss: 1.2221 - val_accuracy: 0.4987\n",
            "Epoch 2/100\n",
            "71/71 [==============================] - 0s 7ms/step - loss: 0.9223 - accuracy: 0.5307 - val_loss: 0.8796 - val_accuracy: 0.5587\n",
            "Epoch 3/100\n",
            "71/71 [==============================] - 0s 7ms/step - loss: 0.8668 - accuracy: 0.5720 - val_loss: 0.8817 - val_accuracy: 0.5307\n",
            "Epoch 4/100\n",
            "71/71 [==============================] - 0s 7ms/step - loss: 0.8464 - accuracy: 0.5889 - val_loss: 0.9042 - val_accuracy: 0.5080\n",
            "Epoch 5/100\n",
            "71/71 [==============================] - 0s 7ms/step - loss: 0.8243 - accuracy: 0.5920 - val_loss: 0.9071 - val_accuracy: 0.5240\n",
            "Epoch 6/100\n",
            "71/71 [==============================] - 1s 8ms/step - loss: 0.8048 - accuracy: 0.6173 - val_loss: 0.8283 - val_accuracy: 0.5947\n",
            "Epoch 7/100\n",
            "71/71 [==============================] - 1s 7ms/step - loss: 0.7911 - accuracy: 0.6236 - val_loss: 0.8387 - val_accuracy: 0.5653\n",
            "Epoch 8/100\n",
            "71/71 [==============================] - 0s 7ms/step - loss: 0.7924 - accuracy: 0.6156 - val_loss: 0.9241 - val_accuracy: 0.5440\n",
            "Epoch 9/100\n",
            "71/71 [==============================] - 1s 7ms/step - loss: 0.7772 - accuracy: 0.6378 - val_loss: 0.8369 - val_accuracy: 0.5827\n",
            "Epoch 10/100\n",
            "71/71 [==============================] - 1s 8ms/step - loss: 0.7766 - accuracy: 0.6324 - val_loss: 0.8910 - val_accuracy: 0.5453\n",
            "Epoch 11/100\n",
            "71/71 [==============================] - 1s 7ms/step - loss: 0.7680 - accuracy: 0.6467 - val_loss: 0.8182 - val_accuracy: 0.5973\n",
            "Epoch 12/100\n",
            "71/71 [==============================] - 0s 6ms/step - loss: 0.7576 - accuracy: 0.6449 - val_loss: 0.8223 - val_accuracy: 0.5947\n",
            "Epoch 13/100\n",
            "71/71 [==============================] - 1s 8ms/step - loss: 0.7566 - accuracy: 0.6556 - val_loss: 0.8097 - val_accuracy: 0.5973\n",
            "Epoch 14/100\n",
            "71/71 [==============================] - 0s 6ms/step - loss: 0.7487 - accuracy: 0.6538 - val_loss: 0.8751 - val_accuracy: 0.5800\n",
            "Epoch 15/100\n",
            "71/71 [==============================] - 1s 9ms/step - loss: 0.7386 - accuracy: 0.6636 - val_loss: 0.8173 - val_accuracy: 0.6000\n",
            "Epoch 16/100\n",
            "71/71 [==============================] - 1s 8ms/step - loss: 0.7359 - accuracy: 0.6698 - val_loss: 0.8593 - val_accuracy: 0.5600\n",
            "Epoch 17/100\n",
            "71/71 [==============================] - 1s 7ms/step - loss: 0.7373 - accuracy: 0.6680 - val_loss: 0.8862 - val_accuracy: 0.5733\n",
            "Epoch 18/100\n",
            "71/71 [==============================] - 1s 8ms/step - loss: 0.7259 - accuracy: 0.6724 - val_loss: 0.8084 - val_accuracy: 0.6013\n",
            "Epoch 19/100\n",
            "71/71 [==============================] - 0s 7ms/step - loss: 0.7219 - accuracy: 0.6693 - val_loss: 0.8303 - val_accuracy: 0.5987\n",
            "Epoch 20/100\n",
            "71/71 [==============================] - 1s 7ms/step - loss: 0.7168 - accuracy: 0.6764 - val_loss: 0.8223 - val_accuracy: 0.6053\n",
            "Epoch 21/100\n",
            "71/71 [==============================] - 0s 7ms/step - loss: 0.7122 - accuracy: 0.6764 - val_loss: 0.8286 - val_accuracy: 0.5947\n",
            "Epoch 22/100\n",
            "71/71 [==============================] - 1s 7ms/step - loss: 0.7061 - accuracy: 0.6916 - val_loss: 0.8479 - val_accuracy: 0.5640\n",
            "Epoch 23/100\n",
            "71/71 [==============================] - 1s 7ms/step - loss: 0.6991 - accuracy: 0.6907 - val_loss: 0.8241 - val_accuracy: 0.6040\n",
            "Epoch 24/100\n",
            "71/71 [==============================] - 1s 8ms/step - loss: 0.6995 - accuracy: 0.6898 - val_loss: 0.8328 - val_accuracy: 0.6000\n",
            "Epoch 25/100\n",
            "71/71 [==============================] - 0s 6ms/step - loss: 0.6928 - accuracy: 0.6933 - val_loss: 0.8374 - val_accuracy: 0.5880\n",
            "Epoch 26/100\n",
            "71/71 [==============================] - 1s 9ms/step - loss: 0.6925 - accuracy: 0.6951 - val_loss: 0.8733 - val_accuracy: 0.5787\n",
            "Epoch 27/100\n",
            "71/71 [==============================] - 1s 8ms/step - loss: 0.6904 - accuracy: 0.7018 - val_loss: 0.8256 - val_accuracy: 0.5987\n",
            "Epoch 28/100\n",
            "71/71 [==============================] - 1s 7ms/step - loss: 0.6880 - accuracy: 0.7031 - val_loss: 0.8506 - val_accuracy: 0.5760\n",
            "Epoch 29/100\n",
            "71/71 [==============================] - 0s 7ms/step - loss: 0.6861 - accuracy: 0.7067 - val_loss: 0.8232 - val_accuracy: 0.5933\n",
            "Epoch 30/100\n",
            "71/71 [==============================] - 1s 7ms/step - loss: 0.6746 - accuracy: 0.7040 - val_loss: 0.8345 - val_accuracy: 0.5840\n",
            "Epoch 31/100\n",
            "71/71 [==============================] - 0s 6ms/step - loss: 0.6686 - accuracy: 0.7129 - val_loss: 0.8493 - val_accuracy: 0.5947\n",
            "Epoch 32/100\n",
            "71/71 [==============================] - 1s 8ms/step - loss: 0.6692 - accuracy: 0.7076 - val_loss: 0.8380 - val_accuracy: 0.5893\n",
            "Epoch 33/100\n",
            "71/71 [==============================] - 1s 7ms/step - loss: 0.6640 - accuracy: 0.7182 - val_loss: 0.8399 - val_accuracy: 0.5840\n",
            "Epoch 34/100\n",
            "71/71 [==============================] - 1s 8ms/step - loss: 0.6600 - accuracy: 0.7151 - val_loss: 0.8380 - val_accuracy: 0.5880\n",
            "Epoch 35/100\n",
            "71/71 [==============================] - 1s 7ms/step - loss: 0.6573 - accuracy: 0.7124 - val_loss: 0.8292 - val_accuracy: 0.5973\n",
            "Epoch 36/100\n",
            "71/71 [==============================] - 1s 8ms/step - loss: 0.6563 - accuracy: 0.7156 - val_loss: 0.9098 - val_accuracy: 0.5773\n",
            "Epoch 37/100\n",
            "71/71 [==============================] - 1s 7ms/step - loss: 0.6548 - accuracy: 0.7124 - val_loss: 0.8326 - val_accuracy: 0.5880\n",
            "Epoch 38/100\n",
            "71/71 [==============================] - 1s 8ms/step - loss: 0.6475 - accuracy: 0.7231 - val_loss: 0.8377 - val_accuracy: 0.5907\n",
            "Epoch 39/100\n",
            "71/71 [==============================] - 1s 7ms/step - loss: 0.6463 - accuracy: 0.7302 - val_loss: 0.8572 - val_accuracy: 0.5680\n",
            "Epoch 40/100\n",
            "71/71 [==============================] - 0s 7ms/step - loss: 0.6428 - accuracy: 0.7222 - val_loss: 0.8464 - val_accuracy: 0.5960\n",
            "Epoch 41/100\n",
            "71/71 [==============================] - 1s 8ms/step - loss: 0.6393 - accuracy: 0.7271 - val_loss: 0.8594 - val_accuracy: 0.5960\n",
            "Epoch 42/100\n",
            "71/71 [==============================] - 1s 7ms/step - loss: 0.6379 - accuracy: 0.7298 - val_loss: 0.8879 - val_accuracy: 0.5573\n",
            "Epoch 43/100\n",
            "71/71 [==============================] - 1s 7ms/step - loss: 0.6335 - accuracy: 0.7329 - val_loss: 0.8518 - val_accuracy: 0.5880\n",
            "Epoch 44/100\n",
            "71/71 [==============================] - 0s 7ms/step - loss: 0.6337 - accuracy: 0.7302 - val_loss: 0.8470 - val_accuracy: 0.5867\n",
            "Epoch 45/100\n",
            "71/71 [==============================] - 1s 7ms/step - loss: 0.6267 - accuracy: 0.7284 - val_loss: 0.9210 - val_accuracy: 0.5720\n",
            "Epoch 46/100\n",
            "71/71 [==============================] - 1s 8ms/step - loss: 0.6243 - accuracy: 0.7289 - val_loss: 0.9157 - val_accuracy: 0.5747\n",
            "Epoch 47/100\n",
            "71/71 [==============================] - 1s 8ms/step - loss: 0.6209 - accuracy: 0.7382 - val_loss: 0.8630 - val_accuracy: 0.5667\n",
            "Epoch 48/100\n",
            "71/71 [==============================] - 1s 8ms/step - loss: 0.6204 - accuracy: 0.7396 - val_loss: 0.8507 - val_accuracy: 0.5907\n",
            "Epoch 49/100\n",
            "71/71 [==============================] - 1s 7ms/step - loss: 0.6138 - accuracy: 0.7418 - val_loss: 0.8801 - val_accuracy: 0.5613\n",
            "Epoch 50/100\n",
            "71/71 [==============================] - 0s 7ms/step - loss: 0.6117 - accuracy: 0.7413 - val_loss: 0.8537 - val_accuracy: 0.5973\n",
            "Epoch 51/100\n",
            "71/71 [==============================] - 1s 7ms/step - loss: 0.6063 - accuracy: 0.7453 - val_loss: 0.9375 - val_accuracy: 0.5560\n",
            "Epoch 52/100\n",
            "71/71 [==============================] - 1s 7ms/step - loss: 0.6066 - accuracy: 0.7533 - val_loss: 0.9024 - val_accuracy: 0.5880\n",
            "Epoch 53/100\n",
            "71/71 [==============================] - 1s 8ms/step - loss: 0.6087 - accuracy: 0.7364 - val_loss: 0.8814 - val_accuracy: 0.5693\n",
            "Epoch 54/100\n",
            "71/71 [==============================] - 1s 8ms/step - loss: 0.6026 - accuracy: 0.7533 - val_loss: 0.9289 - val_accuracy: 0.5747\n",
            "Epoch 55/100\n",
            "71/71 [==============================] - 1s 8ms/step - loss: 0.5990 - accuracy: 0.7444 - val_loss: 0.8703 - val_accuracy: 0.5933\n",
            "Epoch 56/100\n",
            "71/71 [==============================] - 1s 8ms/step - loss: 0.5973 - accuracy: 0.7502 - val_loss: 0.8697 - val_accuracy: 0.5680\n",
            "Epoch 57/100\n",
            "71/71 [==============================] - 1s 8ms/step - loss: 0.5933 - accuracy: 0.7533 - val_loss: 0.8942 - val_accuracy: 0.5573\n",
            "Epoch 58/100\n",
            "71/71 [==============================] - 1s 7ms/step - loss: 0.5879 - accuracy: 0.7573 - val_loss: 0.8869 - val_accuracy: 0.5667\n",
            "Epoch 59/100\n",
            "71/71 [==============================] - 1s 8ms/step - loss: 0.5867 - accuracy: 0.7520 - val_loss: 0.8753 - val_accuracy: 0.5733\n",
            "Epoch 60/100\n",
            "71/71 [==============================] - 1s 7ms/step - loss: 0.5818 - accuracy: 0.7600 - val_loss: 0.8779 - val_accuracy: 0.5640\n",
            "Epoch 61/100\n",
            "71/71 [==============================] - 1s 7ms/step - loss: 0.5835 - accuracy: 0.7582 - val_loss: 0.8781 - val_accuracy: 0.5693\n",
            "Epoch 62/100\n",
            "71/71 [==============================] - 1s 7ms/step - loss: 0.5804 - accuracy: 0.7560 - val_loss: 0.8855 - val_accuracy: 0.5827\n",
            "Epoch 63/100\n",
            "71/71 [==============================] - 1s 8ms/step - loss: 0.5792 - accuracy: 0.7609 - val_loss: 0.8888 - val_accuracy: 0.5667\n",
            "Epoch 64/100\n",
            "71/71 [==============================] - 1s 8ms/step - loss: 0.5771 - accuracy: 0.7618 - val_loss: 0.9107 - val_accuracy: 0.5587\n",
            "Epoch 65/100\n",
            "71/71 [==============================] - 0s 6ms/step - loss: 0.5720 - accuracy: 0.7604 - val_loss: 0.8875 - val_accuracy: 0.5640\n",
            "Epoch 66/100\n",
            "71/71 [==============================] - 0s 7ms/step - loss: 0.5699 - accuracy: 0.7653 - val_loss: 0.8953 - val_accuracy: 0.5613\n",
            "Epoch 67/100\n",
            "71/71 [==============================] - 1s 7ms/step - loss: 0.5687 - accuracy: 0.7676 - val_loss: 0.8932 - val_accuracy: 0.5587\n",
            "Epoch 68/100\n",
            "71/71 [==============================] - 1s 7ms/step - loss: 0.5651 - accuracy: 0.7649 - val_loss: 0.8923 - val_accuracy: 0.5613\n",
            "Epoch 69/100\n",
            "71/71 [==============================] - 1s 8ms/step - loss: 0.5625 - accuracy: 0.7711 - val_loss: 0.9104 - val_accuracy: 0.5760\n",
            "Epoch 70/100\n",
            "71/71 [==============================] - 1s 8ms/step - loss: 0.5603 - accuracy: 0.7711 - val_loss: 0.9340 - val_accuracy: 0.5520\n",
            "Epoch 71/100\n",
            "71/71 [==============================] - 0s 6ms/step - loss: 0.5567 - accuracy: 0.7751 - val_loss: 0.9065 - val_accuracy: 0.5707\n",
            "Epoch 72/100\n",
            "71/71 [==============================] - 1s 8ms/step - loss: 0.5565 - accuracy: 0.7764 - val_loss: 0.8991 - val_accuracy: 0.5693\n",
            "Epoch 73/100\n",
            "71/71 [==============================] - 1s 9ms/step - loss: 0.5525 - accuracy: 0.7684 - val_loss: 0.9645 - val_accuracy: 0.5760\n",
            "Epoch 74/100\n",
            "71/71 [==============================] - 1s 9ms/step - loss: 0.5526 - accuracy: 0.7733 - val_loss: 0.9296 - val_accuracy: 0.5520\n",
            "Epoch 75/100\n",
            "71/71 [==============================] - 0s 6ms/step - loss: 0.5502 - accuracy: 0.7769 - val_loss: 0.9105 - val_accuracy: 0.5600\n",
            "Epoch 76/100\n",
            "71/71 [==============================] - 1s 8ms/step - loss: 0.5469 - accuracy: 0.7720 - val_loss: 0.9200 - val_accuracy: 0.5640\n",
            "Epoch 77/100\n",
            "71/71 [==============================] - 1s 7ms/step - loss: 0.5474 - accuracy: 0.7813 - val_loss: 0.9186 - val_accuracy: 0.5640\n",
            "Epoch 78/100\n",
            "71/71 [==============================] - 1s 8ms/step - loss: 0.5429 - accuracy: 0.7840 - val_loss: 0.9404 - val_accuracy: 0.5520\n",
            "Epoch 79/100\n",
            "71/71 [==============================] - 1s 8ms/step - loss: 0.5421 - accuracy: 0.7804 - val_loss: 0.9229 - val_accuracy: 0.5653\n",
            "Epoch 80/100\n",
            "71/71 [==============================] - 0s 7ms/step - loss: 0.5408 - accuracy: 0.7916 - val_loss: 0.9176 - val_accuracy: 0.5653\n",
            "Epoch 81/100\n",
            "71/71 [==============================] - 1s 8ms/step - loss: 0.5363 - accuracy: 0.7840 - val_loss: 0.9699 - val_accuracy: 0.5467\n",
            "Epoch 82/100\n",
            "71/71 [==============================] - 0s 6ms/step - loss: 0.5338 - accuracy: 0.7867 - val_loss: 0.9244 - val_accuracy: 0.5640\n",
            "Epoch 83/100\n",
            "71/71 [==============================] - 1s 8ms/step - loss: 0.5304 - accuracy: 0.7862 - val_loss: 0.9315 - val_accuracy: 0.5680\n",
            "Epoch 84/100\n",
            "71/71 [==============================] - 1s 7ms/step - loss: 0.5300 - accuracy: 0.7938 - val_loss: 0.9277 - val_accuracy: 0.5693\n",
            "Epoch 85/100\n",
            "71/71 [==============================] - 0s 7ms/step - loss: 0.5274 - accuracy: 0.7907 - val_loss: 0.9418 - val_accuracy: 0.5507\n",
            "Epoch 86/100\n",
            "71/71 [==============================] - 1s 7ms/step - loss: 0.5258 - accuracy: 0.7889 - val_loss: 0.9289 - val_accuracy: 0.5707\n",
            "Epoch 87/100\n",
            "71/71 [==============================] - 1s 7ms/step - loss: 0.5254 - accuracy: 0.7898 - val_loss: 0.9316 - val_accuracy: 0.5693\n",
            "Epoch 88/100\n",
            "71/71 [==============================] - 1s 8ms/step - loss: 0.5222 - accuracy: 0.7960 - val_loss: 0.9354 - val_accuracy: 0.5627\n",
            "Epoch 89/100\n",
            "71/71 [==============================] - 1s 9ms/step - loss: 0.5165 - accuracy: 0.7978 - val_loss: 0.9999 - val_accuracy: 0.5587\n",
            "Epoch 90/100\n",
            "71/71 [==============================] - 0s 7ms/step - loss: 0.5164 - accuracy: 0.8049 - val_loss: 0.9522 - val_accuracy: 0.5600\n",
            "Epoch 91/100\n",
            "71/71 [==============================] - 1s 8ms/step - loss: 0.5150 - accuracy: 0.8076 - val_loss: 0.9555 - val_accuracy: 0.5640\n",
            "Epoch 92/100\n",
            "71/71 [==============================] - 1s 7ms/step - loss: 0.5135 - accuracy: 0.8031 - val_loss: 0.9533 - val_accuracy: 0.5653\n",
            "Epoch 93/100\n",
            "71/71 [==============================] - 1s 8ms/step - loss: 0.5123 - accuracy: 0.8053 - val_loss: 0.9534 - val_accuracy: 0.5653\n",
            "Epoch 94/100\n",
            "71/71 [==============================] - 1s 8ms/step - loss: 0.5075 - accuracy: 0.8000 - val_loss: 0.9573 - val_accuracy: 0.5653\n",
            "Epoch 95/100\n",
            "71/71 [==============================] - 1s 8ms/step - loss: 0.5064 - accuracy: 0.8031 - val_loss: 0.9625 - val_accuracy: 0.5653\n",
            "Epoch 96/100\n",
            "71/71 [==============================] - 1s 8ms/step - loss: 0.5081 - accuracy: 0.8022 - val_loss: 0.9558 - val_accuracy: 0.5600\n",
            "Epoch 97/100\n",
            "71/71 [==============================] - 1s 8ms/step - loss: 0.5040 - accuracy: 0.8053 - val_loss: 1.0013 - val_accuracy: 0.5507\n",
            "Epoch 98/100\n",
            "71/71 [==============================] - 0s 7ms/step - loss: 0.5023 - accuracy: 0.8084 - val_loss: 0.9642 - val_accuracy: 0.5613\n",
            "Epoch 99/100\n",
            "71/71 [==============================] - 1s 9ms/step - loss: 0.5003 - accuracy: 0.8000 - val_loss: 0.9646 - val_accuracy: 0.5600\n",
            "Epoch 100/100\n",
            "71/71 [==============================] - 0s 7ms/step - loss: 0.4983 - accuracy: 0.8107 - val_loss: 0.9699 - val_accuracy: 0.5613\n"
          ]
        }
      ]
    },
    {
      "cell_type": "markdown",
      "source": [
        "**MODEL EVALUATION:**"
      ],
      "metadata": {
        "id": "NmiSDX9wAOrK"
      }
    },
    {
      "cell_type": "code",
      "source": [
        "#@ INITIALIZING MODEL EVALUATION:\n",
        "predictions = model.predict(testX, batch_size=32)                   # Getting Model Predictions. \n",
        "print(classification_report(testY.argmax(axis=1),\n",
        "                            predictions.argmax(axis=1), \n",
        "                            target_names=[\"cat\", \"dog\", \"panda\"]))  # Inspecting Classification Report. "
      ],
      "metadata": {
        "colab": {
          "base_uri": "https://localhost:8080/"
        },
        "id": "acUFOfHfAUl6",
        "outputId": "66bcbde0-2e40-4e0c-8fba-3ab4557214c9"
      },
      "execution_count": 8,
      "outputs": [
        {
          "output_type": "stream",
          "name": "stdout",
          "text": [
            "              precision    recall  f1-score   support\n",
            "\n",
            "         cat       0.49      0.56      0.52       239\n",
            "         dog       0.48      0.46      0.47       262\n",
            "       panda       0.75      0.67      0.71       249\n",
            "\n",
            "    accuracy                           0.56       750\n",
            "   macro avg       0.57      0.56      0.57       750\n",
            "weighted avg       0.57      0.56      0.56       750\n",
            "\n"
          ]
        }
      ]
    },
    {
      "cell_type": "code",
      "source": [
        "#@ INSPECTING TRAINING LOSS AND ACCURACY:\n",
        "plt.style.use(\"ggplot\")\n",
        "plt.figure()\n",
        "plt.plot(np.arange(0, 100), H.history[\"loss\"], label=\"train_loss\")\n",
        "plt.plot(np.arange(0, 100), H.history[\"val_loss\"], label=\"val_loss\")\n",
        "plt.plot(np.arange(0, 100), H.history[\"accuracy\"], label=\"train_acc\")\n",
        "plt.plot(np.arange(0, 100), H.history[\"val_accuracy\"], label=\"val_acc\")\n",
        "plt.title(\"Training Loss and Accuracy\")\n",
        "plt.xlabel(\"Epoch\")\n",
        "plt.ylabel(\"Loss/Accuracy\")\n",
        "plt.legend()\n",
        "plt.show();"
      ],
      "metadata": {
        "colab": {
          "base_uri": "https://localhost:8080/",
          "height": 299
        },
        "id": "zScJ-oFZBCQs",
        "outputId": "8f53bc09-18bd-4042-97c9-af2532e40291"
      },
      "execution_count": 9,
      "outputs": [
        {
          "output_type": "display_data",
          "data": {
            "image/png": "[encoded data removed]",
            "text/plain": [
              "<Figure size 432x288 with 1 Axes>"
            ]
          },
          "metadata": {}
        }
      ]
    },
    {
      "cell_type": "markdown",
      "source": [
        "**SHALLOWNET ON CIFAR-10:**"
      ],
      "metadata": {
        "id": "VH9Mktk89E9h"
      }
    },
    {
      "cell_type": "code",
      "source": [
        "#@ GETTING THE DATASET:\n",
        "((trainX, trainY), (testX, testY)) = cifar10.load_data()                # Loading the Dataset. \n",
        "trainX = trainX.astype('float') / 255.0                                 # Normalizing the Dataset. \n",
        "testX = testX.astype('float') / 255.0                                   # Normalizing the Dataset. \n",
        "\n",
        "#@ PROCESSING THE DATASET:\n",
        "lb = LabelBinarizer()                                                   # Initializing Label Binarizer. \n",
        "trainY = lb.fit_transform(trainY)                                       # Converting Labels into Vectors. \n",
        "testY = lb.transform(testY)                                             # Converting Labels into Vectors. \n",
        "labelNames = ['airplane', 'automobile', 'bird', 'cat', 'deer', \n",
        "              'dog', 'frog', 'horse', 'ship', 'truck']                  # Initializing Label Names.       "
      ],
      "metadata": {
        "id": "CliaE7ZMCfjs"
      },
      "execution_count": 12,
      "outputs": []
    },
    {
      "cell_type": "code",
      "source": [
        "#@ INITIALIZING OPTIMIZER AND MODEL: \n",
        "opt = SGD(0.01)                                                   # Initializing SGD Optimizer. \n",
        "model = ShallowNet.build(width=32,height=32,depth=3, classes=10)  # Initializing Shallow Neural Network. \n",
        "model.compile(loss=\"categorical_crossentropy\",optimizer=opt,\n",
        "              metrics=[\"accuracy\"])                               # Compiling ShallowNet Model. \n",
        "H = model.fit(trainX,trainY, validation_data=(testX,testY), \n",
        "              batch_size=32, epochs=40, verbose=1)                # Training ShallowNet Model. "
      ],
      "metadata": {
        "colab": {
          "base_uri": "https://localhost:8080/"
        },
        "id": "PZLP_RmK_X9C",
        "outputId": "48adffce-7b67-42e6-9cff-590ac9afbb0d"
      },
      "execution_count": 13,
      "outputs": [
        {
          "output_type": "stream",
          "name": "stdout",
          "text": [
            "Epoch 1/40\n",
            "1563/1563 [==============================] - 10s 6ms/step - loss: 1.8265 - accuracy: 0.3619 - val_loss: 1.7312 - val_accuracy: 0.4042\n",
            "Epoch 2/40\n",
            "1563/1563 [==============================] - 9s 6ms/step - loss: 1.7196 - accuracy: 0.4130 - val_loss: 1.7295 - val_accuracy: 0.4007\n",
            "Epoch 3/40\n",
            "1563/1563 [==============================] - 9s 6ms/step - loss: 1.6985 - accuracy: 0.4204 - val_loss: 1.7096 - val_accuracy: 0.4057\n",
            "Epoch 4/40\n",
            "1563/1563 [==============================] - 9s 6ms/step - loss: 1.6869 - accuracy: 0.4264 - val_loss: 1.7156 - val_accuracy: 0.4086\n",
            "Epoch 5/40\n",
            "1563/1563 [==============================] - 9s 6ms/step - loss: 1.6784 - accuracy: 0.4291 - val_loss: 1.7293 - val_accuracy: 0.3999\n",
            "Epoch 6/40\n",
            "1563/1563 [==============================] - 9s 6ms/step - loss: 1.6728 - accuracy: 0.4308 - val_loss: 1.7241 - val_accuracy: 0.4021\n",
            "Epoch 7/40\n",
            "1563/1563 [==============================] - 9s 6ms/step - loss: 1.6683 - accuracy: 0.4339 - val_loss: 1.7158 - val_accuracy: 0.4080\n",
            "Epoch 8/40\n",
            "1563/1563 [==============================] - 8s 5ms/step - loss: 1.6610 - accuracy: 0.4374 - val_loss: 1.7177 - val_accuracy: 0.4079\n",
            "Epoch 9/40\n",
            "1563/1563 [==============================] - 8s 5ms/step - loss: 1.6564 - accuracy: 0.4372 - val_loss: 1.7337 - val_accuracy: 0.4016\n",
            "Epoch 10/40\n",
            "1563/1563 [==============================] - 9s 6ms/step - loss: 1.6518 - accuracy: 0.4385 - val_loss: 1.7597 - val_accuracy: 0.3884\n",
            "Epoch 11/40\n",
            "1563/1563 [==============================] - 9s 6ms/step - loss: 1.6478 - accuracy: 0.4391 - val_loss: 1.7413 - val_accuracy: 0.4002\n",
            "Epoch 12/40\n",
            "1563/1563 [==============================] - 9s 6ms/step - loss: 1.6434 - accuracy: 0.4431 - val_loss: 1.7271 - val_accuracy: 0.4088\n",
            "Epoch 13/40\n",
            "1563/1563 [==============================] - 9s 6ms/step - loss: 1.6401 - accuracy: 0.4440 - val_loss: 1.7503 - val_accuracy: 0.3934\n",
            "Epoch 14/40\n",
            "1563/1563 [==============================] - 9s 6ms/step - loss: 1.6351 - accuracy: 0.4467 - val_loss: 1.7408 - val_accuracy: 0.4001\n",
            "Epoch 15/40\n",
            "1563/1563 [==============================] - 13s 8ms/step - loss: 1.6332 - accuracy: 0.4462 - val_loss: 1.7298 - val_accuracy: 0.4043\n",
            "Epoch 16/40\n",
            "1563/1563 [==============================] - 10s 6ms/step - loss: 1.6297 - accuracy: 0.4466 - val_loss: 1.7479 - val_accuracy: 0.3956\n",
            "Epoch 17/40\n",
            "1563/1563 [==============================] - 9s 6ms/step - loss: 1.6261 - accuracy: 0.4503 - val_loss: 1.7322 - val_accuracy: 0.4014\n",
            "Epoch 18/40\n",
            "1563/1563 [==============================] - 9s 6ms/step - loss: 1.6232 - accuracy: 0.4492 - val_loss: 1.7369 - val_accuracy: 0.4020\n",
            "Epoch 19/40\n",
            "1563/1563 [==============================] - 9s 6ms/step - loss: 1.6210 - accuracy: 0.4502 - val_loss: 1.7439 - val_accuracy: 0.3950\n",
            "Epoch 20/40\n",
            "1563/1563 [==============================] - 9s 6ms/step - loss: 1.6173 - accuracy: 0.4505 - val_loss: 1.7379 - val_accuracy: 0.4007\n",
            "Epoch 21/40\n",
            "1563/1563 [==============================] - 9s 6ms/step - loss: 1.6148 - accuracy: 0.4525 - val_loss: 1.7435 - val_accuracy: 0.3998\n",
            "Epoch 22/40\n",
            "1563/1563 [==============================] - 9s 5ms/step - loss: 1.6132 - accuracy: 0.4524 - val_loss: 1.7441 - val_accuracy: 0.4034\n",
            "Epoch 23/40\n",
            "1563/1563 [==============================] - 9s 6ms/step - loss: 1.6096 - accuracy: 0.4536 - val_loss: 1.7448 - val_accuracy: 0.4036\n",
            "Epoch 24/40\n",
            "1563/1563 [==============================] - 11s 7ms/step - loss: 1.6077 - accuracy: 0.4545 - val_loss: 1.7499 - val_accuracy: 0.4004\n",
            "Epoch 25/40\n",
            "1563/1563 [==============================] - 9s 5ms/step - loss: 1.6052 - accuracy: 0.4561 - val_loss: 1.7495 - val_accuracy: 0.3968\n",
            "Epoch 26/40\n",
            "1563/1563 [==============================] - 9s 6ms/step - loss: 1.6030 - accuracy: 0.4556 - val_loss: 1.7578 - val_accuracy: 0.3960\n",
            "Epoch 27/40\n",
            "1563/1563 [==============================] - 9s 6ms/step - loss: 1.6006 - accuracy: 0.4571 - val_loss: 1.7807 - val_accuracy: 0.3900\n",
            "Epoch 28/40\n",
            "1563/1563 [==============================] - 9s 6ms/step - loss: 1.5990 - accuracy: 0.4572 - val_loss: 1.7594 - val_accuracy: 0.3959\n",
            "Epoch 29/40\n",
            "1563/1563 [==============================] - 9s 6ms/step - loss: 1.5956 - accuracy: 0.4598 - val_loss: 1.7687 - val_accuracy: 0.3883\n",
            "Epoch 30/40\n",
            "1563/1563 [==============================] - 9s 6ms/step - loss: 1.5941 - accuracy: 0.4602 - val_loss: 1.7621 - val_accuracy: 0.3944\n",
            "Epoch 31/40\n",
            "1563/1563 [==============================] - 8s 5ms/step - loss: 1.5923 - accuracy: 0.4613 - val_loss: 1.7679 - val_accuracy: 0.3929\n",
            "Epoch 32/40\n",
            "1563/1563 [==============================] - 9s 5ms/step - loss: 1.5906 - accuracy: 0.4594 - val_loss: 1.7737 - val_accuracy: 0.3907\n",
            "Epoch 33/40\n",
            "1563/1563 [==============================] - 9s 5ms/step - loss: 1.5878 - accuracy: 0.4611 - val_loss: 1.7712 - val_accuracy: 0.3898\n",
            "Epoch 34/40\n",
            "1563/1563 [==============================] - 9s 6ms/step - loss: 1.5865 - accuracy: 0.4617 - val_loss: 1.7686 - val_accuracy: 0.3953\n",
            "Epoch 35/40\n",
            "1563/1563 [==============================] - 9s 5ms/step - loss: 1.5849 - accuracy: 0.4632 - val_loss: 1.7902 - val_accuracy: 0.3840\n",
            "Epoch 36/40\n",
            "1563/1563 [==============================] - 9s 6ms/step - loss: 1.5829 - accuracy: 0.4637 - val_loss: 1.7738 - val_accuracy: 0.3971\n",
            "Epoch 37/40\n",
            "1563/1563 [==============================] - 9s 5ms/step - loss: 1.5816 - accuracy: 0.4637 - val_loss: 1.7711 - val_accuracy: 0.3887\n",
            "Epoch 38/40\n",
            "1563/1563 [==============================] - 9s 6ms/step - loss: 1.5795 - accuracy: 0.4640 - val_loss: 1.7855 - val_accuracy: 0.3854\n",
            "Epoch 39/40\n",
            "1563/1563 [==============================] - 9s 6ms/step - loss: 1.5779 - accuracy: 0.4650 - val_loss: 1.7818 - val_accuracy: 0.3925\n",
            "Epoch 40/40\n",
            "1563/1563 [==============================] - 9s 6ms/step - loss: 1.5763 - accuracy: 0.4640 - val_loss: 1.7793 - val_accuracy: 0.3862\n"
          ]
        }
      ]
    },
    {
      "cell_type": "code",
      "source": [
        "#@ INITIALIZING MODEL EVALUATION:\n",
        "predictions = model.predict(testX, batch_size=32)                   # Getting Model Predictions. \n",
        "print(classification_report(testY.argmax(axis=1),\n",
        "                            predictions.argmax(axis=1), \n",
        "                            target_names=labelNames))               # Inspecting Classification Report. "
      ],
      "metadata": {
        "colab": {
          "base_uri": "https://localhost:8080/"
        },
        "id": "mPkqXCvuAHk6",
        "outputId": "2dabcedd-4bd2-4678-8629-6f336d645c85"
      },
      "execution_count": 14,
      "outputs": [
        {
          "output_type": "stream",
          "name": "stdout",
          "text": [
            "              precision    recall  f1-score   support\n",
            "\n",
            "    airplane       0.47      0.39      0.42      1000\n",
            "  automobile       0.50      0.43      0.46      1000\n",
            "        bird       0.28      0.29      0.28      1000\n",
            "         cat       0.26      0.25      0.25      1000\n",
            "        deer       0.31      0.39      0.35      1000\n",
            "         dog       0.31      0.31      0.31      1000\n",
            "        frog       0.41      0.41      0.41      1000\n",
            "       horse       0.46      0.40      0.43      1000\n",
            "        ship       0.46      0.55      0.50      1000\n",
            "       truck       0.43      0.45      0.44      1000\n",
            "\n",
            "    accuracy                           0.39     10000\n",
            "   macro avg       0.39      0.39      0.39     10000\n",
            "weighted avg       0.39      0.39      0.39     10000\n",
            "\n"
          ]
        }
      ]
    },
    {
      "cell_type": "code",
      "source": [
        "#@ INSPECTING TRAINING LOSS AND ACCURACY:\n",
        "plt.style.use(\"ggplot\")\n",
        "plt.figure()\n",
        "plt.plot(np.arange(0, 40), H.history[\"loss\"], label=\"train_loss\")\n",
        "plt.plot(np.arange(0, 40), H.history[\"val_loss\"], label=\"val_loss\")\n",
        "plt.plot(np.arange(0, 40), H.history[\"accuracy\"], label=\"train_acc\")\n",
        "plt.plot(np.arange(0, 40), H.history[\"val_accuracy\"], label=\"val_acc\")\n",
        "plt.title(\"Training Loss and Accuracy\")\n",
        "plt.xlabel(\"Epoch\")\n",
        "plt.ylabel(\"Loss/Accuracy\")\n",
        "plt.legend()\n",
        "plt.show();"
      ],
      "metadata": {
        "colab": {
          "base_uri": "https://localhost:8080/",
          "height": 299
        },
        "id": "ne6QOzlzA62z",
        "outputId": "4c9f49d2-d84d-4383-f74f-b5fc51714819"
      },
      "execution_count": 16,
      "outputs": [
        {
          "output_type": "display_data",
          "data": {
            "image/png": "[encoded data removed]",
            "text/plain": [
              "<Figure size 432x288 with 1 Axes>"
            ]
          },
          "metadata": {}
        }
      ]
    }
  ]
}