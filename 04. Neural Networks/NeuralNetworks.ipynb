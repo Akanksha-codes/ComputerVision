{
  "nbformat": 4,
  "nbformat_minor": 0,
  "metadata": {
    "colab": {
      "name": "NeuralNetworks.ipynb",
      "provenance": []
    },
    "kernelspec": {
      "name": "python3",
      "display_name": "Python 3"
    },
    "language_info": {
      "name": "python"
    }
  },
  "cells": [
    {
      "cell_type": "markdown",
      "source": [
        "**INITIALIZATION:**"
      ],
      "metadata": {
        "id": "4kMIRQvmkig0"
      }
    },
    {
      "cell_type": "code",
      "execution_count": 1,
      "metadata": {
        "id": "AlCfmSxgNqhr"
      },
      "outputs": [],
      "source": [
        "#@ INITIALIZING NECESSARY PACKAGES AND DEPENDENCIES: \n",
        "import numpy as np"
      ]
    },
    {
      "cell_type": "markdown",
      "source": [
        "**PERCEPTRON:**"
      ],
      "metadata": {
        "id": "2hpm7_bOkc1o"
      }
    },
    {
      "cell_type": "code",
      "source": [
        "#@ INITIALIZING PERCEPTRON MODEL: \n",
        "class Perceptron:                                       # Defining Perceptron. \n",
        "    def __init__(self, N, alpha=0.1):                   # Initializing Constructor Function. \n",
        "        self.W = np.random.randn(N + 1) / np.sqrt(N)    # Initializing Scaled Weight Matrix. \n",
        "        self.alpha = alpha                              # Initializing LR.\n",
        "    \n",
        "    def step(self, x):                                  # Defining Step Function. \n",
        "        return 1 if x > 0 else 0                        # Getting 1 if Positive else Negative. \n",
        "    \n",
        "    def fit(self, X, y, epochs=10):                     # Defining Fit Function. \n",
        "        X = np.c_[X, np.ones((X.shape[0]))]             # Adding Column of Ones. \n",
        "        for epoch in np.arange(0, epochs):\n",
        "            for (x, target) in zip(X, y):\n",
        "                p = self.step(np.dot(x, self.W))        # Initializing Dot Product. \n",
        "                if p != target:\n",
        "                    error = p - target                  # Computing Error. \n",
        "                    self.W += -self.alpha*error*x       # Updating Weight Matrix. \n",
        "    \n",
        "    def predict(self, X, addBias=True):                 # Defining Predict Function. \n",
        "        X = np.atleast_2d(X)                            # Inspecting 2D Matrix. \n",
        "        if addBias:\n",
        "            X = np.c_[X, np.ones((X.shape[0]))]         # Adding Bias Vector. \n",
        "        return self.step(np.dot(X, self.W))             # Initializing Dot Product. "
      ],
      "metadata": {
        "id": "14phxR8kRMtB"
      },
      "execution_count": 4,
      "outputs": []
    },
    {
      "cell_type": "code",
      "source": [
        "#@ EVALUATING PERCEPTRON BITWISE DATASETS: XOR:\n",
        "X = np.array([[0, 0], [0, 1], [1, 0], [1, 1]])          # Initializing Array Example. \n",
        "y = np.array([[0], [1], [1], [1]])                      # Initializing Array Example. \n",
        "\n",
        "#@ TRAINING PERCEPTRON MODEL: \n",
        "p = Perceptron(X.shape[1], alpha=0.1)                   # Initializing Perceptron Model. \n",
        "p.fit(X, y, epochs=20)                                  # Training Model. \n",
        "\n",
        "#@ MODEL EVALUATION: \n",
        "for (x, target) in zip(X, y):\n",
        "    pred = p.predict(x)\n",
        "    print(f\"data={x}, ground-truth={target}, pred={pred}\")"
      ],
      "metadata": {
        "colab": {
          "base_uri": "https://localhost:8080/"
        },
        "id": "YqHQfynQb_G_",
        "outputId": "b8541932-e59d-49e8-b547-4c3888580bc7"
      },
      "execution_count": 6,
      "outputs": [
        {
          "output_type": "stream",
          "name": "stdout",
          "text": [
            "data=[0 0], ground-truth=[0], pred=0\n",
            "data=[0 1], ground-truth=[1], pred=1\n",
            "data=[1 0], ground-truth=[1], pred=1\n",
            "data=[1 1], ground-truth=[1], pred=1\n"
          ]
        }
      ]
    },
    {
      "cell_type": "code",
      "source": [
        ""
      ],
      "metadata": {
        "id": "1JlcOAPxev6E"
      },
      "execution_count": null,
      "outputs": []
    }
  ]
}