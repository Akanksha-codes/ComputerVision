{
  "nbformat": 4,
  "nbformat_minor": 0,
  "metadata": {
    "colab": {
      "name": "NeuralNetworks.ipynb",
      "provenance": [],
      "collapsed_sections": []
    },
    "kernelspec": {
      "name": "python3",
      "display_name": "Python 3"
    },
    "language_info": {
      "name": "python"
    }
  },
  "cells": [
    {
      "cell_type": "markdown",
      "source": [
        "**INITIALIZATION:**"
      ],
      "metadata": {
        "id": "4kMIRQvmkig0"
      }
    },
    {
      "cell_type": "code",
      "execution_count": 16,
      "metadata": {
        "id": "AlCfmSxgNqhr"
      },
      "outputs": [],
      "source": [
        "#@ INITIALIZING NECESSARY PACKAGES AND DEPENDENCIES: \n",
        "from sklearn.preprocessing import LabelBinarizer\n",
        "from sklearn.model_selection import train_test_split\n",
        "from sklearn.metrics import classification_report\n",
        "from sklearn import datasets\n",
        "\n",
        "from keras.models import Sequential \n",
        "from keras.layers.core import Dense\n",
        "from keras.datasets import cifar10\n",
        "from tensorflow.keras.optimizers import SGD\n",
        "\n",
        "import matplotlib.pyplot as plt\n",
        "import numpy as np"
      ]
    },
    {
      "cell_type": "markdown",
      "source": [
        "**PERCEPTRON:**"
      ],
      "metadata": {
        "id": "2hpm7_bOkc1o"
      }
    },
    {
      "cell_type": "code",
      "source": [
        "#@ INITIALIZING PERCEPTRON MODEL: \n",
        "class Perceptron:                                       # Defining Perceptron. \n",
        "    def __init__(self, N, alpha=0.1):                   # Initializing Constructor Function. \n",
        "        self.W = np.random.randn(N + 1) / np.sqrt(N)    # Initializing Scaled Weight Matrix. \n",
        "        self.alpha = alpha                              # Initializing LR.\n",
        "    \n",
        "    def step(self, x):                                  # Defining Step Function. \n",
        "        return 1 if x > 0 else 0                        # Getting 1 if Positive else Negative. \n",
        "    \n",
        "    def fit(self, X, y, epochs=10):                     # Defining Fit Function. \n",
        "        X = np.c_[X, np.ones((X.shape[0]))]             # Adding Column of Ones. \n",
        "        for epoch in np.arange(0, epochs):\n",
        "            for (x, target) in zip(X, y):\n",
        "                p = self.step(np.dot(x, self.W))        # Initializing Dot Product. \n",
        "                if p != target:\n",
        "                    error = p - target                  # Computing Error. \n",
        "                    self.W += -self.alpha*error*x       # Updating Weight Matrix. \n",
        "    \n",
        "    def predict(self, X, addBias=True):                 # Defining Predict Function. \n",
        "        X = np.atleast_2d(X)                            # Inspecting 2D Matrix. \n",
        "        if addBias:\n",
        "            X = np.c_[X, np.ones((X.shape[0]))]         # Adding Bias Vector. \n",
        "        return self.step(np.dot(X, self.W))             # Initializing Dot Product. "
      ],
      "metadata": {
        "id": "14phxR8kRMtB"
      },
      "execution_count": 2,
      "outputs": []
    },
    {
      "cell_type": "code",
      "source": [
        "#@ EVALUATING PERCEPTRON BITWISE DATASETS: OR:\n",
        "X = np.array([[0, 0], [0, 1], [1, 0], [1, 1]])          # Initializing Array Example. \n",
        "y = np.array([[0], [1], [1], [1]])                      # Initializing Array Example. \n",
        "\n",
        "#@ TRAINING PERCEPTRON MODEL: \n",
        "p = Perceptron(X.shape[1], alpha=0.1)                   # Initializing Perceptron Model. \n",
        "p.fit(X, y, epochs=20)                                  # Training Model. \n",
        "\n",
        "#@ MODEL EVALUATION: \n",
        "for (x, target) in zip(X, y):\n",
        "    pred = p.predict(x)\n",
        "    print(f\"data={x}, ground-truth={target}, pred={pred}\")"
      ],
      "metadata": {
        "colab": {
          "base_uri": "https://localhost:8080/"
        },
        "id": "YqHQfynQb_G_",
        "outputId": "e6561325-c603-4ba5-ec9e-c6e9f929d4e3"
      },
      "execution_count": 3,
      "outputs": [
        {
          "output_type": "stream",
          "name": "stdout",
          "text": [
            "data=[0 0], ground-truth=[0], pred=0\n",
            "data=[0 1], ground-truth=[1], pred=1\n",
            "data=[1 0], ground-truth=[1], pred=1\n",
            "data=[1 1], ground-truth=[1], pred=1\n"
          ]
        }
      ]
    },
    {
      "cell_type": "markdown",
      "source": [
        "**NEURAL NETWORKS: BACKPROPAGATION**"
      ],
      "metadata": {
        "id": "vCm97EO6rjta"
      }
    },
    {
      "cell_type": "code",
      "source": [
        "#@ INITIALIZING BACKPROPAGATION ALGORITHM:\n",
        "class NeuralNetwork:                                            # Defining Neural Network. \n",
        "    def __init__(self, layers, alpha=0.1):                      # Initializing Constructor Function. \n",
        "        self.W = []                                             # Initialization. \n",
        "        self.layers = layers                                    # Initialization. \n",
        "        self.alpha = alpha                                      # Initialization. \n",
        "        for i in np.arange(0, len(layers) - 2):\n",
        "            w = np.random.randn(layers[i]+1, layers[i+1]+1)     # Initializing Weight Matrix. \n",
        "            self.W.append(w / np.sqrt(layers[i]))               # Normalizing Variance. \n",
        "        w = np.random.randn(layers[-2]+1, layers[-1])           # Initializing Weight Matrix. \n",
        "        self.W.append(w / np.sqrt(layers[-2]))                  # Normalizing Variance. \n",
        "    \n",
        "    def __repr__(self):                                         # Function for Debugging. \n",
        "        return \"NeuralNetwork: {}\".format(\n",
        "            \"-\".join(str(l) for l in self.layers))              # Inspecting. \n",
        "    \n",
        "    def sigmoid(self, x):                                       # Defining Sigmoid Function. \n",
        "        return 1.0 / (1 + np.exp(-x))                           # Implementation of Sigmoid Function. \n",
        "    \n",
        "    def sigmoid_deriv(self, x):                                 # Defining Function. \n",
        "        return x * (1 - x)                                      # Getting Derivative of Sigmoid. \n",
        "    \n",
        "    def fit(self, X, y, epochs=1000, displayUpdate=100):        # Defining Fit Function. \n",
        "        X = np.c_[X, np.ones((X.shape[0]))]                     # Adding Column of Ones. \n",
        "        for epoch in np.arange(0, epochs):\n",
        "            for (x, target) in zip(X, y):\n",
        "                self.fit_partial(x, target)                     # Backpropagation and Updating Matrix. \n",
        "            if epoch==0 or (epoch+1)%displayUpdate==0:\n",
        "                loss = self.calculate_loss(X, y)                # Initializing Loss Calculation. \n",
        "                print(\"epoch={}, loss={:.7f}\".format(\n",
        "                    epoch+1, loss))                             # Inspecting Loss. \n",
        "    \n",
        "    def fit_partial(self, x, y):                                # Defining Fit Partial Method. \n",
        "        A = [np.atleast_2d(x)]                                  # Initializing List. \n",
        "\n",
        "        #@ FEEDFORWARD:\n",
        "        for layer in np.arange(0, len(self.W)):\n",
        "            net = A[layer].dot(self.W[layer])                   # Dot Product of Activation and Weight Matrix. \n",
        "            out = self.sigmoid(net)                             # Implementing Nonlinear Activation Function. \n",
        "            A.append(out)                                       # Adding to Activations. \n",
        "\n",
        "        #@ BACKPROPAGATION:\n",
        "        error = A[-1] - y                                       # Computing Error. \n",
        "        D = [error * self.sigmoid_deriv(A[-1])]                 # Initializing List of Deltas. \n",
        "        for layer in np.arange(len(A) - 2, 0, -1):\n",
        "            delta = D[-1].dot(self.W[layer].T)                  # Initializing Dot Product. \n",
        "            delta = delta * self.sigmoid_deriv(A[layer])        # Implementating Derivative Function. \n",
        "            D.append(delta)                                     # Adding Activations. \n",
        "        D = D[::-1]                                             # Reversing Activations. \n",
        "\n",
        "        #@ WEIGHT UPDATE PHASE: \n",
        "        for layer in np.arange(0, len(self.W)):\n",
        "            self.W[layer] += -self.alpha * A[layer].T.dot(D[layer])\n",
        "        \n",
        "    def predict(self, X, addBias=True):                         # Defining Predict Function. \n",
        "        p = np.atleast_2d(X)                                    # Initialization. \n",
        "        if addBias:\n",
        "            p = np.c_[p, np.ones((p.shape[0]))]                 # Adding Column of Ones. \n",
        "        for layer in np.arange(0, len(self.W)):\n",
        "            p = self.sigmoid(np.dot(p, self.W[layer]))          # Implementing Dot Product. \n",
        "        return p\n",
        "    \n",
        "    def calculate_loss(self, X, targets):                       # Defining Function. \n",
        "        targets = np.atleast_2d(targets)                        # Initialization. \n",
        "        predictions = self.predict(X, addBias=False)            # Implementation of Predict Method. \n",
        "        loss = 0.5 * np.sum((predictions - targets)**2)         # Computing Loss. \n",
        "        return loss"
      ],
      "metadata": {
        "id": "wgKuObXhri8_"
      },
      "execution_count": 4,
      "outputs": []
    },
    {
      "cell_type": "code",
      "source": [
        "#@ EVALUATING NEURAL NETWORKS ON BITWISE DATASETS: XOR:\n",
        "X = np.array([[0, 0], [0, 1], [1, 0], [1, 1]])                  # Initializing Array Example. \n",
        "y = np.array([[0], [1], [1], [0]])                              # Initializing Array Example. \n",
        "\n",
        "#@ TRAINING NEURAL NETWORKS MODEL: \n",
        "nn = NeuralNetwork([2, 2, 1], alpha=0.5)                        # Initializing Neural Network.  \n",
        "nn.fit(X, y, epochs=200)                                        # Training Model. \n",
        "\n",
        "#@ MODEL EVALUATION: \n",
        "for (x, target) in zip(X, y):\n",
        "    pred = nn.predict(x)[0][0]\n",
        "    step = 1 if pred > 0.5 else 0\n",
        "    print(f\"data={x}, ground-truth={target[0]}, pred={pred},\"\n",
        "          f\"step={step}\")"
      ],
      "metadata": {
        "colab": {
          "base_uri": "https://localhost:8080/"
        },
        "id": "elrPa9oaNVr7",
        "outputId": "e892ed17-b610-4bca-9c37-5485803e6b80"
      },
      "execution_count": 5,
      "outputs": [
        {
          "output_type": "stream",
          "name": "stdout",
          "text": [
            "epoch=1, loss=0.5317512\n",
            "epoch=100, loss=0.4957142\n",
            "epoch=200, loss=0.4913100\n",
            "data=[0 0], ground-truth=0, pred=0.4751030513080377,step=0\n",
            "data=[0 1], ground-truth=1, pred=0.47896024764804435,step=0\n",
            "data=[1 0], ground-truth=1, pred=0.5279040479362642,step=1\n",
            "data=[1 1], ground-truth=0, pred=0.5123867348849976,step=1\n"
          ]
        }
      ]
    },
    {
      "cell_type": "markdown",
      "source": [
        "**MNIST SAMPLE:**"
      ],
      "metadata": {
        "id": "oeV74YDzh1PC"
      }
    },
    {
      "cell_type": "code",
      "source": [
        "#@ GETTING THE DATASET:\n",
        "digits = datasets.load_digits()                         # Initializing Dataset. \n",
        "data = digits.data.astype(\"float\")                      # Converting into Float. \n",
        "data = (data - data.min()) / (data.max() - data.min())  # Normalizing Dataset. \n",
        "print(\"samples: {}, dim: {}\".format(data.shape[0],\n",
        "                                  data.shape[1]))       # Inspecting Dataset. "
      ],
      "metadata": {
        "id": "fN8n83WbP1G_",
        "colab": {
          "base_uri": "https://localhost:8080/"
        },
        "outputId": "c09a8119-0141-439e-f4fb-346ad06e1cb4"
      },
      "execution_count": 6,
      "outputs": [
        {
          "output_type": "stream",
          "name": "stdout",
          "text": [
            "samples: 1797, dim: 64\n"
          ]
        }
      ]
    },
    {
      "cell_type": "code",
      "source": [
        "#@ PREPARING THE DATASET:\n",
        "(train_X, test_X, train_Y, test_Y) = train_test_split(\n",
        "    data, digits.target, test_size=0.25)                    # Splitting Dataset. \n",
        "train_Y = LabelBinarizer().fit_transform(train_Y)           # Converting Labels to Vectors. \n",
        "test_Y = LabelBinarizer().fit_transform(test_Y)             # Converting Labels to Vectors. \n",
        "\n",
        "#@ TRAINING THE NEURAL NETWORK:\n",
        "nn = NeuralNetwork([train_X.shape[1], 32, 16, 10])          # Initializing Neural Network. \n",
        "nn.fit(train_X, train_Y, epochs=1000)                       # Training Neural Network.\n",
        " \n",
        "#@ EVALUATING THE NEURAL NETWORK: \n",
        "predictions = nn.predict(test_X)                            # Getting Predictions. \n",
        "predictions = predictions.argmax(axis=1)                    # Getting Maximum Probability. \n",
        "print(classification_report(\n",
        "    test_Y.argmax(axis=1), predictions))                    # Inspecting Classification Report. "
      ],
      "metadata": {
        "colab": {
          "base_uri": "https://localhost:8080/"
        },
        "id": "dGX1TqUvj6vy",
        "outputId": "95213399-08ec-461a-e975-d33c64a81708"
      },
      "execution_count": 7,
      "outputs": [
        {
          "output_type": "stream",
          "name": "stdout",
          "text": [
            "epoch=1, loss=603.6436047\n",
            "epoch=100, loss=6.7991431\n",
            "epoch=200, loss=2.3439244\n",
            "epoch=300, loss=1.5595649\n",
            "epoch=400, loss=1.3600940\n",
            "epoch=500, loss=1.2639233\n",
            "epoch=600, loss=1.2070289\n",
            "epoch=700, loss=1.1679645\n",
            "epoch=800, loss=0.6600999\n",
            "epoch=900, loss=0.6320372\n",
            "epoch=1000, loss=0.6139866\n",
            "              precision    recall  f1-score   support\n",
            "\n",
            "           0       0.96      1.00      0.98        44\n",
            "           1       0.95      0.91      0.93        57\n",
            "           2       0.96      0.98      0.97        48\n",
            "           3       1.00      0.95      0.98        42\n",
            "           4       1.00      1.00      1.00        41\n",
            "           5       0.96      0.96      0.96        53\n",
            "           6       1.00      0.97      0.99        37\n",
            "           7       0.98      0.98      0.98        44\n",
            "           8       0.86      0.93      0.89        41\n",
            "           9       0.98      0.95      0.96        43\n",
            "\n",
            "    accuracy                           0.96       450\n",
            "   macro avg       0.96      0.96      0.96       450\n",
            "weighted avg       0.96      0.96      0.96       450\n",
            "\n"
          ]
        }
      ]
    },
    {
      "cell_type": "markdown",
      "source": [
        "**NEURAL NETWORKS:**"
      ],
      "metadata": {
        "id": "Z_QhpG32tp6g"
      }
    },
    {
      "cell_type": "code",
      "source": [
        "#@ GETTING THE DATASET: \n",
        "dataset = datasets.fetch_openml(\"mnist_784\")                # Downloading Dataset. \n",
        "data = dataset.data.astype(\"float\") / 255.0                 # Initializing Data Normalization. \n",
        "\n",
        "#@ PREPARING THE DATASET:\n",
        "lb = LabelBinarizer()                                       # Initializing LabelBinarizer. \n",
        "(train_X, test_X, train_Y, test_Y) = train_test_split(\n",
        "    data, dataset.target, test_size=0.25)                   # Splitting Dataset. \n",
        "train_Y = LabelBinarizer().fit_transform(train_Y)           # Converting Labels to Vectors. \n",
        "test_Y = LabelBinarizer().fit_transform(test_Y)             # Converting Labels to Vectors. "
      ],
      "metadata": {
        "id": "YPSRJZIUs_nU"
      },
      "execution_count": 10,
      "outputs": []
    },
    {
      "cell_type": "code",
      "source": [
        "#@ DEFINING NETWORK ARCHITECTURE: \n",
        "model = Sequential()                                            # Initializing Sequential Model. \n",
        "model.add(Dense(256, input_shape=(784,), activation=\"sigmoid\")) # Initializing Dense Layer. \n",
        "model.add(Dense(128, activation=\"sigmoid\"))                     # Adding Dense Layer. \n",
        "model.add(Dense(10, activation=\"softmax\"))                      # Adding Dense Output Layer. \n",
        "\n",
        "#@ TRAINING NEURAL NETWORK:\n",
        "sgd = SGD(0.01)                                                 # Initializing SGD Optimizer. \n",
        "model.compile(loss=\"categorical_crossentropy\", optimizer=sgd, \n",
        "              metrics=[\"accuracy\"])                             # Compiling Model. \n",
        "H = model.fit(train_X, train_Y,validation_data=(test_X,test_Y), \n",
        "              epochs=100, batch_size=128)                       # Training Model. "
      ],
      "metadata": {
        "colab": {
          "base_uri": "https://localhost:8080/"
        },
        "id": "FMQacNBtv6Pr",
        "outputId": "583e81d4-44a5-4904-9246-dc9ca9638f9b"
      },
      "execution_count": 9,
      "outputs": [
        {
          "output_type": "stream",
          "name": "stdout",
          "text": [
            "Epoch 1/100\n",
            "411/411 [==============================] - 6s 12ms/step - loss: 2.2737 - accuracy: 0.2045 - val_loss: 2.2423 - val_accuracy: 0.3751\n",
            "Epoch 2/100\n",
            "411/411 [==============================] - 5s 11ms/step - loss: 2.2136 - accuracy: 0.3976 - val_loss: 2.1813 - val_accuracy: 0.4214\n",
            "Epoch 3/100\n",
            "411/411 [==============================] - 5s 11ms/step - loss: 2.1438 - accuracy: 0.5190 - val_loss: 2.1013 - val_accuracy: 0.5834\n",
            "Epoch 4/100\n",
            "411/411 [==============================] - 5s 11ms/step - loss: 2.0489 - accuracy: 0.5854 - val_loss: 1.9892 - val_accuracy: 0.6376\n",
            "Epoch 5/100\n",
            "411/411 [==============================] - 5s 11ms/step - loss: 1.9176 - accuracy: 0.6274 - val_loss: 1.8358 - val_accuracy: 0.6569\n",
            "Epoch 6/100\n",
            "411/411 [==============================] - 5s 12ms/step - loss: 1.7459 - accuracy: 0.6600 - val_loss: 1.6478 - val_accuracy: 0.6816\n",
            "Epoch 7/100\n",
            "411/411 [==============================] - 5s 12ms/step - loss: 1.5493 - accuracy: 0.6950 - val_loss: 1.4484 - val_accuracy: 0.6896\n",
            "Epoch 8/100\n",
            "411/411 [==============================] - 4s 10ms/step - loss: 1.3572 - accuracy: 0.7259 - val_loss: 1.2665 - val_accuracy: 0.7571\n",
            "Epoch 9/100\n",
            "411/411 [==============================] - 5s 11ms/step - loss: 1.1914 - accuracy: 0.7540 - val_loss: 1.1168 - val_accuracy: 0.7749\n",
            "Epoch 10/100\n",
            "411/411 [==============================] - 5s 13ms/step - loss: 1.0578 - accuracy: 0.7755 - val_loss: 0.9982 - val_accuracy: 0.7809\n",
            "Epoch 11/100\n",
            "411/411 [==============================] - 5s 11ms/step - loss: 0.9519 - accuracy: 0.7907 - val_loss: 0.9039 - val_accuracy: 0.7994\n",
            "Epoch 12/100\n",
            "411/411 [==============================] - 5s 12ms/step - loss: 0.8674 - accuracy: 0.8034 - val_loss: 0.8283 - val_accuracy: 0.8127\n",
            "Epoch 13/100\n",
            "411/411 [==============================] - 5s 12ms/step - loss: 0.7990 - accuracy: 0.8141 - val_loss: 0.7673 - val_accuracy: 0.8170\n",
            "Epoch 14/100\n",
            "411/411 [==============================] - 5s 12ms/step - loss: 0.7430 - accuracy: 0.8226 - val_loss: 0.7158 - val_accuracy: 0.8286\n",
            "Epoch 15/100\n",
            "411/411 [==============================] - 5s 12ms/step - loss: 0.6965 - accuracy: 0.8302 - val_loss: 0.6739 - val_accuracy: 0.8323\n",
            "Epoch 16/100\n",
            "411/411 [==============================] - 5s 12ms/step - loss: 0.6576 - accuracy: 0.8367 - val_loss: 0.6381 - val_accuracy: 0.8402\n",
            "Epoch 17/100\n",
            "411/411 [==============================] - 6s 14ms/step - loss: 0.6247 - accuracy: 0.8425 - val_loss: 0.6075 - val_accuracy: 0.8456\n",
            "Epoch 18/100\n",
            "411/411 [==============================] - 5s 13ms/step - loss: 0.5964 - accuracy: 0.8482 - val_loss: 0.5813 - val_accuracy: 0.8509\n",
            "Epoch 19/100\n",
            "411/411 [==============================] - 5s 12ms/step - loss: 0.5720 - accuracy: 0.8533 - val_loss: 0.5593 - val_accuracy: 0.8540\n",
            "Epoch 20/100\n",
            "411/411 [==============================] - 4s 10ms/step - loss: 0.5506 - accuracy: 0.8568 - val_loss: 0.5391 - val_accuracy: 0.8598\n",
            "Epoch 21/100\n",
            "411/411 [==============================] - 4s 10ms/step - loss: 0.5319 - accuracy: 0.8618 - val_loss: 0.5215 - val_accuracy: 0.8633\n",
            "Epoch 22/100\n",
            "411/411 [==============================] - 5s 11ms/step - loss: 0.5152 - accuracy: 0.8644 - val_loss: 0.5061 - val_accuracy: 0.8669\n",
            "Epoch 23/100\n",
            "411/411 [==============================] - 4s 10ms/step - loss: 0.5002 - accuracy: 0.8677 - val_loss: 0.4926 - val_accuracy: 0.8694\n",
            "Epoch 24/100\n",
            "411/411 [==============================] - 4s 10ms/step - loss: 0.4868 - accuracy: 0.8703 - val_loss: 0.4798 - val_accuracy: 0.8722\n",
            "Epoch 25/100\n",
            "411/411 [==============================] - 5s 11ms/step - loss: 0.4746 - accuracy: 0.8732 - val_loss: 0.4688 - val_accuracy: 0.8746\n",
            "Epoch 26/100\n",
            "411/411 [==============================] - 5s 13ms/step - loss: 0.4636 - accuracy: 0.8758 - val_loss: 0.4588 - val_accuracy: 0.8778\n",
            "Epoch 27/100\n",
            "411/411 [==============================] - 4s 10ms/step - loss: 0.4536 - accuracy: 0.8783 - val_loss: 0.4493 - val_accuracy: 0.8791\n",
            "Epoch 28/100\n",
            "411/411 [==============================] - 4s 10ms/step - loss: 0.4445 - accuracy: 0.8803 - val_loss: 0.4403 - val_accuracy: 0.8816\n",
            "Epoch 29/100\n",
            "411/411 [==============================] - 4s 10ms/step - loss: 0.4360 - accuracy: 0.8816 - val_loss: 0.4326 - val_accuracy: 0.8834\n",
            "Epoch 30/100\n",
            "411/411 [==============================] - 4s 10ms/step - loss: 0.4284 - accuracy: 0.8831 - val_loss: 0.4263 - val_accuracy: 0.8846\n",
            "Epoch 31/100\n",
            "411/411 [==============================] - 4s 10ms/step - loss: 0.4213 - accuracy: 0.8848 - val_loss: 0.4192 - val_accuracy: 0.8864\n",
            "Epoch 32/100\n",
            "411/411 [==============================] - 4s 10ms/step - loss: 0.4147 - accuracy: 0.8867 - val_loss: 0.4130 - val_accuracy: 0.8875\n",
            "Epoch 33/100\n",
            "411/411 [==============================] - 4s 10ms/step - loss: 0.4086 - accuracy: 0.8878 - val_loss: 0.4080 - val_accuracy: 0.8893\n",
            "Epoch 34/100\n",
            "411/411 [==============================] - 5s 11ms/step - loss: 0.4030 - accuracy: 0.8891 - val_loss: 0.4024 - val_accuracy: 0.8890\n",
            "Epoch 35/100\n",
            "411/411 [==============================] - 4s 10ms/step - loss: 0.3977 - accuracy: 0.8903 - val_loss: 0.3974 - val_accuracy: 0.8898\n",
            "Epoch 36/100\n",
            "411/411 [==============================] - 4s 11ms/step - loss: 0.3928 - accuracy: 0.8916 - val_loss: 0.3932 - val_accuracy: 0.8913\n",
            "Epoch 37/100\n",
            "411/411 [==============================] - 4s 10ms/step - loss: 0.3882 - accuracy: 0.8926 - val_loss: 0.3890 - val_accuracy: 0.8914\n",
            "Epoch 38/100\n",
            "411/411 [==============================] - 4s 10ms/step - loss: 0.3839 - accuracy: 0.8932 - val_loss: 0.3848 - val_accuracy: 0.8924\n",
            "Epoch 39/100\n",
            "411/411 [==============================] - 4s 10ms/step - loss: 0.3798 - accuracy: 0.8943 - val_loss: 0.3815 - val_accuracy: 0.8931\n",
            "Epoch 40/100\n",
            "411/411 [==============================] - 4s 10ms/step - loss: 0.3759 - accuracy: 0.8950 - val_loss: 0.3776 - val_accuracy: 0.8943\n",
            "Epoch 41/100\n",
            "411/411 [==============================] - 4s 10ms/step - loss: 0.3724 - accuracy: 0.8957 - val_loss: 0.3742 - val_accuracy: 0.8954\n",
            "Epoch 42/100\n",
            "411/411 [==============================] - 6s 14ms/step - loss: 0.3689 - accuracy: 0.8968 - val_loss: 0.3712 - val_accuracy: 0.8965\n",
            "Epoch 43/100\n",
            "411/411 [==============================] - 4s 10ms/step - loss: 0.3656 - accuracy: 0.8974 - val_loss: 0.3680 - val_accuracy: 0.8959\n",
            "Epoch 44/100\n",
            "411/411 [==============================] - 4s 10ms/step - loss: 0.3625 - accuracy: 0.8985 - val_loss: 0.3650 - val_accuracy: 0.8972\n",
            "Epoch 45/100\n",
            "411/411 [==============================] - 4s 10ms/step - loss: 0.3596 - accuracy: 0.8990 - val_loss: 0.3628 - val_accuracy: 0.8986\n",
            "Epoch 46/100\n",
            "411/411 [==============================] - 5s 11ms/step - loss: 0.3567 - accuracy: 0.8999 - val_loss: 0.3599 - val_accuracy: 0.8981\n",
            "Epoch 47/100\n",
            "411/411 [==============================] - 4s 11ms/step - loss: 0.3540 - accuracy: 0.9006 - val_loss: 0.3571 - val_accuracy: 0.8990\n",
            "Epoch 48/100\n",
            "411/411 [==============================] - 4s 10ms/step - loss: 0.3513 - accuracy: 0.9010 - val_loss: 0.3548 - val_accuracy: 0.8993\n",
            "Epoch 49/100\n",
            "411/411 [==============================] - 5s 12ms/step - loss: 0.3489 - accuracy: 0.9016 - val_loss: 0.3526 - val_accuracy: 0.8995\n",
            "Epoch 50/100\n",
            "411/411 [==============================] - 5s 12ms/step - loss: 0.3464 - accuracy: 0.9020 - val_loss: 0.3506 - val_accuracy: 0.9003\n",
            "Epoch 51/100\n",
            "411/411 [==============================] - 4s 10ms/step - loss: 0.3441 - accuracy: 0.9025 - val_loss: 0.3486 - val_accuracy: 0.9016\n",
            "Epoch 52/100\n",
            "411/411 [==============================] - 4s 11ms/step - loss: 0.3419 - accuracy: 0.9035 - val_loss: 0.3463 - val_accuracy: 0.9014\n",
            "Epoch 53/100\n",
            "411/411 [==============================] - 4s 10ms/step - loss: 0.3397 - accuracy: 0.9039 - val_loss: 0.3442 - val_accuracy: 0.9026\n",
            "Epoch 54/100\n",
            "411/411 [==============================] - 4s 10ms/step - loss: 0.3375 - accuracy: 0.9042 - val_loss: 0.3424 - val_accuracy: 0.9020\n",
            "Epoch 55/100\n",
            "411/411 [==============================] - 5s 12ms/step - loss: 0.3355 - accuracy: 0.9044 - val_loss: 0.3407 - val_accuracy: 0.9034\n",
            "Epoch 56/100\n",
            "411/411 [==============================] - 6s 14ms/step - loss: 0.3335 - accuracy: 0.9055 - val_loss: 0.3385 - val_accuracy: 0.9042\n",
            "Epoch 57/100\n",
            "411/411 [==============================] - 4s 10ms/step - loss: 0.3315 - accuracy: 0.9060 - val_loss: 0.3371 - val_accuracy: 0.9043\n",
            "Epoch 58/100\n",
            "411/411 [==============================] - 3s 8ms/step - loss: 0.3296 - accuracy: 0.9068 - val_loss: 0.3357 - val_accuracy: 0.9044\n",
            "Epoch 59/100\n",
            "411/411 [==============================] - 3s 8ms/step - loss: 0.3278 - accuracy: 0.9072 - val_loss: 0.3335 - val_accuracy: 0.9049\n",
            "Epoch 60/100\n",
            "411/411 [==============================] - 3s 8ms/step - loss: 0.3261 - accuracy: 0.9077 - val_loss: 0.3317 - val_accuracy: 0.9055\n",
            "Epoch 61/100\n",
            "411/411 [==============================] - 3s 8ms/step - loss: 0.3243 - accuracy: 0.9078 - val_loss: 0.3303 - val_accuracy: 0.9055\n",
            "Epoch 62/100\n",
            "411/411 [==============================] - 3s 7ms/step - loss: 0.3226 - accuracy: 0.9085 - val_loss: 0.3292 - val_accuracy: 0.9054\n",
            "Epoch 63/100\n",
            "411/411 [==============================] - 3s 8ms/step - loss: 0.3210 - accuracy: 0.9086 - val_loss: 0.3271 - val_accuracy: 0.9066\n",
            "Epoch 64/100\n",
            "411/411 [==============================] - 3s 7ms/step - loss: 0.3193 - accuracy: 0.9092 - val_loss: 0.3256 - val_accuracy: 0.9066\n",
            "Epoch 65/100\n",
            "411/411 [==============================] - 3s 8ms/step - loss: 0.3178 - accuracy: 0.9094 - val_loss: 0.3241 - val_accuracy: 0.9066\n",
            "Epoch 66/100\n",
            "411/411 [==============================] - 3s 7ms/step - loss: 0.3162 - accuracy: 0.9100 - val_loss: 0.3230 - val_accuracy: 0.9073\n",
            "Epoch 67/100\n",
            "411/411 [==============================] - 3s 8ms/step - loss: 0.3147 - accuracy: 0.9107 - val_loss: 0.3215 - val_accuracy: 0.9074\n",
            "Epoch 68/100\n",
            "411/411 [==============================] - 3s 8ms/step - loss: 0.3132 - accuracy: 0.9108 - val_loss: 0.3199 - val_accuracy: 0.9078\n",
            "Epoch 69/100\n",
            "411/411 [==============================] - 3s 8ms/step - loss: 0.3118 - accuracy: 0.9116 - val_loss: 0.3185 - val_accuracy: 0.9082\n",
            "Epoch 70/100\n",
            "411/411 [==============================] - 3s 7ms/step - loss: 0.3104 - accuracy: 0.9118 - val_loss: 0.3176 - val_accuracy: 0.9078\n",
            "Epoch 71/100\n",
            "411/411 [==============================] - 3s 7ms/step - loss: 0.3089 - accuracy: 0.9118 - val_loss: 0.3165 - val_accuracy: 0.9083\n",
            "Epoch 72/100\n",
            "411/411 [==============================] - 3s 8ms/step - loss: 0.3075 - accuracy: 0.9126 - val_loss: 0.3150 - val_accuracy: 0.9089\n",
            "Epoch 73/100\n",
            "411/411 [==============================] - 3s 8ms/step - loss: 0.3061 - accuracy: 0.9127 - val_loss: 0.3143 - val_accuracy: 0.9094\n",
            "Epoch 74/100\n",
            "411/411 [==============================] - 3s 7ms/step - loss: 0.3049 - accuracy: 0.9133 - val_loss: 0.3128 - val_accuracy: 0.9093\n",
            "Epoch 75/100\n",
            "411/411 [==============================] - 3s 7ms/step - loss: 0.3035 - accuracy: 0.9138 - val_loss: 0.3113 - val_accuracy: 0.9099\n",
            "Epoch 76/100\n",
            "411/411 [==============================] - 3s 8ms/step - loss: 0.3023 - accuracy: 0.9139 - val_loss: 0.3101 - val_accuracy: 0.9102\n",
            "Epoch 77/100\n",
            "411/411 [==============================] - 3s 8ms/step - loss: 0.3010 - accuracy: 0.9142 - val_loss: 0.3092 - val_accuracy: 0.9101\n",
            "Epoch 78/100\n",
            "411/411 [==============================] - 3s 8ms/step - loss: 0.2998 - accuracy: 0.9146 - val_loss: 0.3079 - val_accuracy: 0.9098\n",
            "Epoch 79/100\n",
            "411/411 [==============================] - 3s 8ms/step - loss: 0.2986 - accuracy: 0.9150 - val_loss: 0.3066 - val_accuracy: 0.9112\n",
            "Epoch 80/100\n",
            "411/411 [==============================] - 3s 8ms/step - loss: 0.2973 - accuracy: 0.9154 - val_loss: 0.3056 - val_accuracy: 0.9108\n",
            "Epoch 81/100\n",
            "411/411 [==============================] - 3s 8ms/step - loss: 0.2962 - accuracy: 0.9157 - val_loss: 0.3048 - val_accuracy: 0.9105\n",
            "Epoch 82/100\n",
            "411/411 [==============================] - 3s 8ms/step - loss: 0.2951 - accuracy: 0.9158 - val_loss: 0.3034 - val_accuracy: 0.9122\n",
            "Epoch 83/100\n",
            "411/411 [==============================] - 3s 7ms/step - loss: 0.2938 - accuracy: 0.9161 - val_loss: 0.3023 - val_accuracy: 0.9121\n",
            "Epoch 84/100\n",
            "411/411 [==============================] - 3s 8ms/step - loss: 0.2928 - accuracy: 0.9166 - val_loss: 0.3014 - val_accuracy: 0.9126\n",
            "Epoch 85/100\n",
            "411/411 [==============================] - 3s 7ms/step - loss: 0.2917 - accuracy: 0.9171 - val_loss: 0.3004 - val_accuracy: 0.9127\n",
            "Epoch 86/100\n",
            "411/411 [==============================] - 3s 7ms/step - loss: 0.2906 - accuracy: 0.9175 - val_loss: 0.2996 - val_accuracy: 0.9133\n",
            "Epoch 87/100\n",
            "411/411 [==============================] - 4s 9ms/step - loss: 0.2895 - accuracy: 0.9174 - val_loss: 0.2982 - val_accuracy: 0.9134\n",
            "Epoch 88/100\n",
            "411/411 [==============================] - 3s 8ms/step - loss: 0.2884 - accuracy: 0.9177 - val_loss: 0.2971 - val_accuracy: 0.9141\n",
            "Epoch 89/100\n",
            "411/411 [==============================] - 3s 7ms/step - loss: 0.2874 - accuracy: 0.9180 - val_loss: 0.2961 - val_accuracy: 0.9145\n",
            "Epoch 90/100\n",
            "411/411 [==============================] - 3s 8ms/step - loss: 0.2863 - accuracy: 0.9185 - val_loss: 0.2954 - val_accuracy: 0.9143\n",
            "Epoch 91/100\n",
            "411/411 [==============================] - 3s 7ms/step - loss: 0.2853 - accuracy: 0.9187 - val_loss: 0.2943 - val_accuracy: 0.9147\n",
            "Epoch 92/100\n",
            "411/411 [==============================] - 3s 8ms/step - loss: 0.2842 - accuracy: 0.9189 - val_loss: 0.2933 - val_accuracy: 0.9149\n",
            "Epoch 93/100\n",
            "411/411 [==============================] - 3s 8ms/step - loss: 0.2832 - accuracy: 0.9193 - val_loss: 0.2925 - val_accuracy: 0.9151\n",
            "Epoch 94/100\n",
            "411/411 [==============================] - 3s 8ms/step - loss: 0.2823 - accuracy: 0.9192 - val_loss: 0.2915 - val_accuracy: 0.9157\n",
            "Epoch 95/100\n",
            "411/411 [==============================] - 3s 7ms/step - loss: 0.2813 - accuracy: 0.9198 - val_loss: 0.2907 - val_accuracy: 0.9158\n",
            "Epoch 96/100\n",
            "411/411 [==============================] - 3s 8ms/step - loss: 0.2803 - accuracy: 0.9199 - val_loss: 0.2902 - val_accuracy: 0.9161\n",
            "Epoch 97/100\n",
            "411/411 [==============================] - 3s 7ms/step - loss: 0.2793 - accuracy: 0.9204 - val_loss: 0.2887 - val_accuracy: 0.9159\n",
            "Epoch 98/100\n",
            "411/411 [==============================] - 3s 7ms/step - loss: 0.2784 - accuracy: 0.9208 - val_loss: 0.2885 - val_accuracy: 0.9163\n",
            "Epoch 99/100\n",
            "411/411 [==============================] - 3s 8ms/step - loss: 0.2774 - accuracy: 0.9207 - val_loss: 0.2872 - val_accuracy: 0.9170\n",
            "Epoch 100/100\n",
            "411/411 [==============================] - 3s 8ms/step - loss: 0.2765 - accuracy: 0.9210 - val_loss: 0.2863 - val_accuracy: 0.9169\n"
          ]
        }
      ]
    },
    {
      "cell_type": "code",
      "source": [
        "#@ MODEL EVALUATION: \n",
        "predictions = model.predict(test_X, batch_size=128)             # Getting Predictions. \n",
        "print(classification_report(test_Y.argmax(axis=1), \n",
        "                            predictions.argmax(axis=1)))        # Inspecting Classification Report. "
      ],
      "metadata": {
        "id": "BjEIDydK5Vyx",
        "colab": {
          "base_uri": "https://localhost:8080/"
        },
        "outputId": "f04fd919-eafb-4c2f-d5a2-01031934eafc"
      },
      "execution_count": 12,
      "outputs": [
        {
          "output_type": "stream",
          "name": "stdout",
          "text": [
            "              precision    recall  f1-score   support\n",
            "\n",
            "           0       0.95      0.96      0.96      1728\n",
            "           1       0.94      0.97      0.96      1938\n",
            "           2       0.91      0.90      0.91      1743\n",
            "           3       0.92      0.89      0.90      1798\n",
            "           4       0.91      0.93      0.92      1639\n",
            "           5       0.89      0.88      0.88      1608\n",
            "           6       0.94      0.96      0.95      1732\n",
            "           7       0.94      0.94      0.94      1849\n",
            "           8       0.90      0.87      0.89      1684\n",
            "           9       0.90      0.89      0.90      1781\n",
            "\n",
            "    accuracy                           0.92     17500\n",
            "   macro avg       0.92      0.92      0.92     17500\n",
            "weighted avg       0.92      0.92      0.92     17500\n",
            "\n"
          ]
        }
      ]
    },
    {
      "cell_type": "code",
      "source": [
        "#@ INSPECTING TRAINING LOSS AND ACCURACY:\n",
        "plt.style.use(\"ggplot\")\n",
        "plt.figure()\n",
        "plt.plot(np.arange(0, 100), H.history[\"loss\"], label=\"train_loss\")\n",
        "plt.plot(np.arange(0, 100), H.history[\"val_loss\"], label=\"val_loss\")\n",
        "plt.plot(np.arange(0, 100), H.history[\"accuracy\"], label=\"train_acc\")\n",
        "plt.plot(np.arange(0, 100), H.history[\"val_accuracy\"], label=\"val_acc\")\n",
        "plt.title(\"Training Loss and Accuracy\")\n",
        "plt.xlabel(\"Epoch\")\n",
        "plt.ylabel(\"Loss/Accuracy\")\n",
        "plt.legend()\n",
        "plt.show();"
      ],
      "metadata": {
        "colab": {
          "base_uri": "https://localhost:8080/",
          "height": 299
        },
        "id": "BNKKy65Vc-ul",
        "outputId": "c294c040-e243-43f0-9fc0-d86024785041"
      },
      "execution_count": 15,
      "outputs": [
        {
          "output_type": "display_data",
          "data": {
            "image/png": "[encoded data removed]",
            "text/plain": [
              "<Figure size 432x288 with 1 Axes>"
            ]
          },
          "metadata": {}
        }
      ]
    },
    {
      "cell_type": "markdown",
      "source": [
        "**NEURAL NETWORKS: CIFAR10**"
      ],
      "metadata": {
        "id": "sXQ6pUlJjxGe"
      }
    },
    {
      "cell_type": "code",
      "source": [
        "#@ PREPARING THE DATASET:\n",
        "((trainX, trainY), (testX, testY)) = cifar10.load_data()            # Loading Dataset. \n",
        "trainX = trainX.astype(\"float\") / 255.0                             # Normalizing Dataset. \n",
        "testX = testX.astype(\"float\") / 255.0                               # Normalizing Dataset. \n",
        "trainX = trainX.reshape((trainX.shape[0], 3072))                    # Reshaping Dataset.\n",
        "testX = testX.reshape((testX.shape[0], 3072))                       # Reshaping Dataset. \n",
        "\n",
        "#@ PREPARING THE DATASET:\n",
        "lb = LabelBinarizer()                                               # Initializing LabelBinarizer. \n",
        "trainY = lb.fit_transform(trainY)                                   # Converting Labels to Vectors. \n",
        "testY = lb.transform(testY)                                         # Converting Labels to Vectors. \n",
        "labelNames = [\"airplane\", \"automobile\", \"bird\", \"cat\", \"deer\", \n",
        "              \"dog\", \"frog\", \"horse\", \"ship\", \"truck\"]              # Initializing LabelNames. "
      ],
      "metadata": {
        "id": "RO-tJWcrfRuo"
      },
      "execution_count": 18,
      "outputs": []
    },
    {
      "cell_type": "code",
      "source": [
        "#@ DEFINING NETWORK ARCHITECTURE: \n",
        "model = Sequential()                                                # Initializing Sequential Model. \n",
        "model.add(Dense(1024, input_shape=(3072, ), activation=\"relu\"))     # Adding Dense Layer.\n",
        "model.add(Dense(512, activation=\"relu\"))                            # Adding Dense Layer. \n",
        "model.add(Dense(10, activation=\"softmax\"))                          # Adding Softmax Layer. \n",
        "\n",
        "#@ TRAINING NEURAL NETWORK:\n",
        "sgd = SGD(0.01)                                                     # Initializing SGD Optimizer. \n",
        "model.compile(loss=\"categorical_crossentropy\", optimizer=sgd, \n",
        "              metrics=[\"accuracy\"])                                 # Compiling Model. \n",
        "H = model.fit(trainX, trainY,validation_data=(testX,testY), \n",
        "              epochs=100, batch_size=32)                            # Training Model. "
      ],
      "metadata": {
        "colab": {
          "base_uri": "https://localhost:8080/"
        },
        "id": "h6huPyOomG4G",
        "outputId": "9db05623-fec2-47d7-c133-514f5a8b4b5f"
      },
      "execution_count": 20,
      "outputs": [
        {
          "output_type": "stream",
          "name": "stdout",
          "text": [
            "Epoch 1/100\n",
            "1563/1563 [==============================] - 39s 25ms/step - loss: 1.8406 - accuracy: 0.3420 - val_loss: 1.7348 - val_accuracy: 0.3825\n",
            "Epoch 2/100\n",
            "1563/1563 [==============================] - 38s 25ms/step - loss: 1.6510 - accuracy: 0.4156 - val_loss: 1.6031 - val_accuracy: 0.4362\n",
            "Epoch 3/100\n",
            "1563/1563 [==============================] - 38s 24ms/step - loss: 1.5671 - accuracy: 0.4468 - val_loss: 1.5518 - val_accuracy: 0.4554\n",
            "Epoch 4/100\n",
            "1563/1563 [==============================] - 38s 24ms/step - loss: 1.5076 - accuracy: 0.4694 - val_loss: 1.4932 - val_accuracy: 0.4649\n",
            "Epoch 5/100\n",
            "1563/1563 [==============================] - 38s 24ms/step - loss: 1.4636 - accuracy: 0.4840 - val_loss: 1.5371 - val_accuracy: 0.4583\n",
            "Epoch 6/100\n",
            "1563/1563 [==============================] - 38s 24ms/step - loss: 1.4193 - accuracy: 0.5019 - val_loss: 1.5123 - val_accuracy: 0.4642\n",
            "Epoch 7/100\n",
            "1563/1563 [==============================] - 53s 34ms/step - loss: 1.3844 - accuracy: 0.5103 - val_loss: 1.4398 - val_accuracy: 0.4830\n",
            "Epoch 8/100\n",
            "1563/1563 [==============================] - 50s 32ms/step - loss: 1.3519 - accuracy: 0.5241 - val_loss: 1.4655 - val_accuracy: 0.4756\n",
            "Epoch 9/100\n",
            "1563/1563 [==============================] - 58s 37ms/step - loss: 1.3215 - accuracy: 0.5360 - val_loss: 1.4063 - val_accuracy: 0.5046\n",
            "Epoch 10/100\n",
            "1563/1563 [==============================] - 38s 24ms/step - loss: 1.2932 - accuracy: 0.5451 - val_loss: 1.4873 - val_accuracy: 0.4698\n",
            "Epoch 11/100\n",
            "1563/1563 [==============================] - 39s 25ms/step - loss: 1.2667 - accuracy: 0.5557 - val_loss: 1.4139 - val_accuracy: 0.5064\n",
            "Epoch 12/100\n",
            "1563/1563 [==============================] - 38s 24ms/step - loss: 1.2412 - accuracy: 0.5635 - val_loss: 1.3832 - val_accuracy: 0.5135\n",
            "Epoch 13/100\n",
            "1563/1563 [==============================] - 39s 25ms/step - loss: 1.2179 - accuracy: 0.5713 - val_loss: 1.3635 - val_accuracy: 0.5188\n",
            "Epoch 14/100\n",
            "1563/1563 [==============================] - 39s 25ms/step - loss: 1.1932 - accuracy: 0.5820 - val_loss: 1.3539 - val_accuracy: 0.5180\n",
            "Epoch 15/100\n",
            "1563/1563 [==============================] - 38s 24ms/step - loss: 1.1710 - accuracy: 0.5905 - val_loss: 1.4565 - val_accuracy: 0.4920\n",
            "Epoch 16/100\n",
            "1563/1563 [==============================] - 38s 24ms/step - loss: 1.1484 - accuracy: 0.5978 - val_loss: 1.4600 - val_accuracy: 0.4899\n",
            "Epoch 17/100\n",
            "1563/1563 [==============================] - 39s 25ms/step - loss: 1.1245 - accuracy: 0.6048 - val_loss: 1.3499 - val_accuracy: 0.5294\n",
            "Epoch 18/100\n",
            "1563/1563 [==============================] - 38s 24ms/step - loss: 1.1036 - accuracy: 0.6138 - val_loss: 1.5200 - val_accuracy: 0.4766\n",
            "Epoch 19/100\n",
            "1563/1563 [==============================] - 38s 24ms/step - loss: 1.0802 - accuracy: 0.6217 - val_loss: 1.3302 - val_accuracy: 0.5353\n",
            "Epoch 20/100\n",
            "1563/1563 [==============================] - 38s 25ms/step - loss: 1.0575 - accuracy: 0.6295 - val_loss: 1.3436 - val_accuracy: 0.5337\n",
            "Epoch 21/100\n",
            "1563/1563 [==============================] - 38s 24ms/step - loss: 1.0379 - accuracy: 0.6385 - val_loss: 1.3514 - val_accuracy: 0.5230\n",
            "Epoch 22/100\n",
            "1563/1563 [==============================] - 38s 24ms/step - loss: 1.0156 - accuracy: 0.6453 - val_loss: 1.3569 - val_accuracy: 0.5272\n",
            "Epoch 23/100\n",
            "1563/1563 [==============================] - 38s 24ms/step - loss: 0.9960 - accuracy: 0.6516 - val_loss: 1.3385 - val_accuracy: 0.5403\n",
            "Epoch 24/100\n",
            "1563/1563 [==============================] - 38s 24ms/step - loss: 0.9717 - accuracy: 0.6627 - val_loss: 1.3174 - val_accuracy: 0.5410\n",
            "Epoch 25/100\n",
            "1563/1563 [==============================] - 38s 24ms/step - loss: 0.9519 - accuracy: 0.6689 - val_loss: 1.3771 - val_accuracy: 0.5256\n",
            "Epoch 26/100\n",
            "1563/1563 [==============================] - 38s 24ms/step - loss: 0.9288 - accuracy: 0.6766 - val_loss: 1.2957 - val_accuracy: 0.5525\n",
            "Epoch 27/100\n",
            "1563/1563 [==============================] - 38s 24ms/step - loss: 0.9096 - accuracy: 0.6823 - val_loss: 1.3273 - val_accuracy: 0.5418\n",
            "Epoch 28/100\n",
            "1563/1563 [==============================] - 38s 25ms/step - loss: 0.8909 - accuracy: 0.6912 - val_loss: 1.3505 - val_accuracy: 0.5308\n",
            "Epoch 29/100\n",
            "1563/1563 [==============================] - 38s 24ms/step - loss: 0.8644 - accuracy: 0.7021 - val_loss: 1.4347 - val_accuracy: 0.5217\n",
            "Epoch 30/100\n",
            "1563/1563 [==============================] - 38s 24ms/step - loss: 0.8480 - accuracy: 0.7034 - val_loss: 1.3321 - val_accuracy: 0.5516\n",
            "Epoch 31/100\n",
            "1563/1563 [==============================] - 38s 24ms/step - loss: 0.8268 - accuracy: 0.7144 - val_loss: 1.3302 - val_accuracy: 0.5508\n",
            "Epoch 32/100\n",
            "1563/1563 [==============================] - 37s 24ms/step - loss: 0.8036 - accuracy: 0.7206 - val_loss: 1.4245 - val_accuracy: 0.5298\n",
            "Epoch 33/100\n",
            "1563/1563 [==============================] - 38s 24ms/step - loss: 0.7827 - accuracy: 0.7289 - val_loss: 1.3971 - val_accuracy: 0.5496\n",
            "Epoch 34/100\n",
            "1563/1563 [==============================] - 37s 24ms/step - loss: 0.7637 - accuracy: 0.7349 - val_loss: 1.3286 - val_accuracy: 0.5496\n",
            "Epoch 35/100\n",
            "1563/1563 [==============================] - 38s 24ms/step - loss: 0.7438 - accuracy: 0.7447 - val_loss: 1.4390 - val_accuracy: 0.5286\n",
            "Epoch 36/100\n",
            "1563/1563 [==============================] - 38s 24ms/step - loss: 0.7228 - accuracy: 0.7518 - val_loss: 1.5199 - val_accuracy: 0.5196\n",
            "Epoch 37/100\n",
            "1563/1563 [==============================] - 38s 24ms/step - loss: 0.7043 - accuracy: 0.7585 - val_loss: 1.3910 - val_accuracy: 0.5441\n",
            "Epoch 38/100\n",
            "1563/1563 [==============================] - 38s 24ms/step - loss: 0.6861 - accuracy: 0.7634 - val_loss: 1.7789 - val_accuracy: 0.4579\n",
            "Epoch 39/100\n",
            "1563/1563 [==============================] - 38s 24ms/step - loss: 0.6641 - accuracy: 0.7723 - val_loss: 1.4867 - val_accuracy: 0.5382\n",
            "Epoch 40/100\n",
            "1563/1563 [==============================] - 38s 24ms/step - loss: 0.6405 - accuracy: 0.7811 - val_loss: 1.5240 - val_accuracy: 0.5259\n",
            "Epoch 41/100\n",
            "1563/1563 [==============================] - 38s 24ms/step - loss: 0.6211 - accuracy: 0.7883 - val_loss: 1.5695 - val_accuracy: 0.5158\n",
            "Epoch 42/100\n",
            "1563/1563 [==============================] - 38s 24ms/step - loss: 0.6029 - accuracy: 0.7939 - val_loss: 1.5064 - val_accuracy: 0.5307\n",
            "Epoch 43/100\n",
            "1563/1563 [==============================] - 38s 24ms/step - loss: 0.5772 - accuracy: 0.8050 - val_loss: 1.5662 - val_accuracy: 0.5355\n",
            "Epoch 44/100\n",
            "1563/1563 [==============================] - 38s 24ms/step - loss: 0.5624 - accuracy: 0.8079 - val_loss: 1.5629 - val_accuracy: 0.5326\n",
            "Epoch 45/100\n",
            "1563/1563 [==============================] - 38s 24ms/step - loss: 0.5441 - accuracy: 0.8168 - val_loss: 1.4456 - val_accuracy: 0.5605\n",
            "Epoch 46/100\n",
            "1563/1563 [==============================] - 38s 24ms/step - loss: 0.5298 - accuracy: 0.8214 - val_loss: 1.5117 - val_accuracy: 0.5464\n",
            "Epoch 47/100\n",
            "1563/1563 [==============================] - 39s 25ms/step - loss: 0.5088 - accuracy: 0.8299 - val_loss: 1.6368 - val_accuracy: 0.5239\n",
            "Epoch 48/100\n",
            "1563/1563 [==============================] - 38s 24ms/step - loss: 0.4889 - accuracy: 0.8373 - val_loss: 1.5817 - val_accuracy: 0.5371\n",
            "Epoch 49/100\n",
            "1563/1563 [==============================] - 39s 25ms/step - loss: 0.4670 - accuracy: 0.8438 - val_loss: 1.5466 - val_accuracy: 0.5472\n",
            "Epoch 50/100\n",
            "1563/1563 [==============================] - 39s 25ms/step - loss: 0.4531 - accuracy: 0.8507 - val_loss: 1.4838 - val_accuracy: 0.5615\n",
            "Epoch 51/100\n",
            "1563/1563 [==============================] - 38s 25ms/step - loss: 0.4349 - accuracy: 0.8577 - val_loss: 1.5519 - val_accuracy: 0.5570\n",
            "Epoch 52/100\n",
            "1563/1563 [==============================] - 38s 25ms/step - loss: 0.4203 - accuracy: 0.8613 - val_loss: 1.7107 - val_accuracy: 0.5356\n",
            "Epoch 53/100\n",
            "1563/1563 [==============================] - 39s 25ms/step - loss: 0.4057 - accuracy: 0.8664 - val_loss: 1.5732 - val_accuracy: 0.5588\n",
            "Epoch 54/100\n",
            "1563/1563 [==============================] - 38s 25ms/step - loss: 0.3873 - accuracy: 0.8723 - val_loss: 1.9268 - val_accuracy: 0.5003\n",
            "Epoch 55/100\n",
            "1563/1563 [==============================] - 39s 25ms/step - loss: 0.3744 - accuracy: 0.8795 - val_loss: 1.8539 - val_accuracy: 0.5169\n",
            "Epoch 56/100\n",
            "1563/1563 [==============================] - 38s 25ms/step - loss: 0.3512 - accuracy: 0.8881 - val_loss: 1.6008 - val_accuracy: 0.5615\n",
            "Epoch 57/100\n",
            "1563/1563 [==============================] - 38s 25ms/step - loss: 0.3470 - accuracy: 0.8883 - val_loss: 1.6636 - val_accuracy: 0.5521\n",
            "Epoch 58/100\n",
            "1563/1563 [==============================] - 39s 25ms/step - loss: 0.3288 - accuracy: 0.8947 - val_loss: 1.7198 - val_accuracy: 0.5433\n",
            "Epoch 59/100\n",
            "1563/1563 [==============================] - 38s 25ms/step - loss: 0.3137 - accuracy: 0.9018 - val_loss: 1.7184 - val_accuracy: 0.5480\n",
            "Epoch 60/100\n",
            "1563/1563 [==============================] - 39s 25ms/step - loss: 0.2980 - accuracy: 0.9062 - val_loss: 1.7242 - val_accuracy: 0.5563\n",
            "Epoch 61/100\n",
            "1563/1563 [==============================] - 39s 25ms/step - loss: 0.2881 - accuracy: 0.9100 - val_loss: 1.7265 - val_accuracy: 0.5589\n",
            "Epoch 62/100\n",
            "1563/1563 [==============================] - 38s 25ms/step - loss: 0.2763 - accuracy: 0.9132 - val_loss: 1.8206 - val_accuracy: 0.5452\n",
            "Epoch 63/100\n",
            "1563/1563 [==============================] - 40s 25ms/step - loss: 0.2597 - accuracy: 0.9203 - val_loss: 1.9619 - val_accuracy: 0.5275\n",
            "Epoch 64/100\n",
            "1563/1563 [==============================] - 39s 25ms/step - loss: 0.2451 - accuracy: 0.9247 - val_loss: 1.7618 - val_accuracy: 0.5482\n",
            "Epoch 65/100\n",
            "1563/1563 [==============================] - 64s 41ms/step - loss: 0.2399 - accuracy: 0.9260 - val_loss: 1.9281 - val_accuracy: 0.5402\n",
            "Epoch 66/100\n",
            "1563/1563 [==============================] - 38s 24ms/step - loss: 0.2264 - accuracy: 0.9312 - val_loss: 1.7582 - val_accuracy: 0.5650\n",
            "Epoch 67/100\n",
            "1563/1563 [==============================] - 38s 25ms/step - loss: 0.2107 - accuracy: 0.9375 - val_loss: 1.7887 - val_accuracy: 0.5646\n",
            "Epoch 68/100\n",
            "1563/1563 [==============================] - 39s 25ms/step - loss: 0.2032 - accuracy: 0.9403 - val_loss: 1.8571 - val_accuracy: 0.5569\n",
            "Epoch 69/100\n",
            "1563/1563 [==============================] - 39s 25ms/step - loss: 0.1930 - accuracy: 0.9447 - val_loss: 1.8208 - val_accuracy: 0.5652\n",
            "Epoch 70/100\n",
            "1563/1563 [==============================] - 39s 25ms/step - loss: 0.1891 - accuracy: 0.9447 - val_loss: 2.0137 - val_accuracy: 0.5431\n",
            "Epoch 71/100\n",
            "1563/1563 [==============================] - 39s 25ms/step - loss: 0.1735 - accuracy: 0.9520 - val_loss: 1.8689 - val_accuracy: 0.5607\n",
            "Epoch 72/100\n",
            "1563/1563 [==============================] - 38s 25ms/step - loss: 0.1651 - accuracy: 0.9537 - val_loss: 1.9140 - val_accuracy: 0.5605\n",
            "Epoch 73/100\n",
            "1563/1563 [==============================] - 39s 25ms/step - loss: 0.1514 - accuracy: 0.9583 - val_loss: 1.8836 - val_accuracy: 0.5653\n",
            "Epoch 74/100\n",
            "1563/1563 [==============================] - 39s 25ms/step - loss: 0.1458 - accuracy: 0.9611 - val_loss: 1.9325 - val_accuracy: 0.5586\n",
            "Epoch 75/100\n",
            "1563/1563 [==============================] - 39s 25ms/step - loss: 0.1364 - accuracy: 0.9640 - val_loss: 1.9432 - val_accuracy: 0.5595\n",
            "Epoch 76/100\n",
            "1563/1563 [==============================] - 40s 25ms/step - loss: 0.1311 - accuracy: 0.9662 - val_loss: 2.0359 - val_accuracy: 0.5524\n",
            "Epoch 77/100\n",
            "1563/1563 [==============================] - 39s 25ms/step - loss: 0.1207 - accuracy: 0.9696 - val_loss: 1.9438 - val_accuracy: 0.5654\n",
            "Epoch 78/100\n",
            "1563/1563 [==============================] - 39s 25ms/step - loss: 0.1183 - accuracy: 0.9696 - val_loss: 2.0794 - val_accuracy: 0.5517\n",
            "Epoch 79/100\n",
            "1563/1563 [==============================] - 39s 25ms/step - loss: 0.1060 - accuracy: 0.9743 - val_loss: 2.0091 - val_accuracy: 0.5677\n",
            "Epoch 80/100\n",
            "1563/1563 [==============================] - 39s 25ms/step - loss: 0.1014 - accuracy: 0.9755 - val_loss: 2.0232 - val_accuracy: 0.5623\n",
            "Epoch 81/100\n",
            "1563/1563 [==============================] - 39s 25ms/step - loss: 0.0923 - accuracy: 0.9796 - val_loss: 2.1073 - val_accuracy: 0.5558\n",
            "Epoch 82/100\n",
            "1563/1563 [==============================] - 39s 25ms/step - loss: 0.0908 - accuracy: 0.9788 - val_loss: 2.0320 - val_accuracy: 0.5642\n",
            "Epoch 83/100\n",
            "1563/1563 [==============================] - 38s 25ms/step - loss: 0.0821 - accuracy: 0.9827 - val_loss: 2.4988 - val_accuracy: 0.5257\n",
            "Epoch 84/100\n",
            "1563/1563 [==============================] - 39s 25ms/step - loss: 0.0821 - accuracy: 0.9815 - val_loss: 2.0999 - val_accuracy: 0.5621\n",
            "Epoch 85/100\n",
            "1563/1563 [==============================] - 39s 25ms/step - loss: 0.0720 - accuracy: 0.9858 - val_loss: 2.3023 - val_accuracy: 0.5286\n",
            "Epoch 86/100\n",
            "1563/1563 [==============================] - 39s 25ms/step - loss: 0.0712 - accuracy: 0.9848 - val_loss: 2.1582 - val_accuracy: 0.5608\n",
            "Epoch 87/100\n",
            "1563/1563 [==============================] - 39s 25ms/step - loss: 0.0623 - accuracy: 0.9881 - val_loss: 2.1808 - val_accuracy: 0.5623\n",
            "Epoch 88/100\n",
            "1563/1563 [==============================] - 40s 25ms/step - loss: 0.0594 - accuracy: 0.9890 - val_loss: 2.1528 - val_accuracy: 0.5655\n",
            "Epoch 89/100\n",
            "1563/1563 [==============================] - 39s 25ms/step - loss: 0.0557 - accuracy: 0.9902 - val_loss: 2.1393 - val_accuracy: 0.5687\n",
            "Epoch 90/100\n",
            "1563/1563 [==============================] - 39s 25ms/step - loss: 0.0545 - accuracy: 0.9898 - val_loss: 2.1602 - val_accuracy: 0.5721\n",
            "Epoch 91/100\n",
            "1563/1563 [==============================] - 39s 25ms/step - loss: 0.0489 - accuracy: 0.9918 - val_loss: 2.2244 - val_accuracy: 0.5632\n",
            "Epoch 92/100\n",
            "1563/1563 [==============================] - 39s 25ms/step - loss: 0.0464 - accuracy: 0.9923 - val_loss: 2.1930 - val_accuracy: 0.5708\n",
            "Epoch 93/100\n",
            "1563/1563 [==============================] - 40s 26ms/step - loss: 0.0419 - accuracy: 0.9936 - val_loss: 2.2212 - val_accuracy: 0.5651\n",
            "Epoch 94/100\n",
            "1563/1563 [==============================] - 40s 25ms/step - loss: 0.0382 - accuracy: 0.9943 - val_loss: 2.2309 - val_accuracy: 0.5667\n",
            "Epoch 95/100\n",
            "1563/1563 [==============================] - 39s 25ms/step - loss: 0.0363 - accuracy: 0.9949 - val_loss: 2.2424 - val_accuracy: 0.5690\n",
            "Epoch 96/100\n",
            "1563/1563 [==============================] - 39s 25ms/step - loss: 0.0353 - accuracy: 0.9951 - val_loss: 2.2042 - val_accuracy: 0.5726\n",
            "Epoch 97/100\n",
            "1563/1563 [==============================] - 39s 25ms/step - loss: 0.0302 - accuracy: 0.9965 - val_loss: 2.2572 - val_accuracy: 0.5705\n",
            "Epoch 98/100\n",
            "1563/1563 [==============================] - 39s 25ms/step - loss: 0.0308 - accuracy: 0.9961 - val_loss: 2.2753 - val_accuracy: 0.5628\n",
            "Epoch 99/100\n",
            "1563/1563 [==============================] - 39s 25ms/step - loss: 0.0283 - accuracy: 0.9965 - val_loss: 2.3223 - val_accuracy: 0.5694\n",
            "Epoch 100/100\n",
            "1563/1563 [==============================] - 39s 25ms/step - loss: 0.0275 - accuracy: 0.9967 - val_loss: 2.2872 - val_accuracy: 0.5703\n"
          ]
        }
      ]
    },
    {
      "cell_type": "code",
      "source": [
        "#@ MODEL EVALUATION: \n",
        "predictions = model.predict(testX, batch_size=32)           # Getting Predictions. \n",
        "print(classification_report(testY.argmax(axis=1), \n",
        "                            predictions.argmax(axis=1),\n",
        "                            target_names=labelNames))       # Inspecting Classification Report. "
      ],
      "metadata": {
        "colab": {
          "base_uri": "https://localhost:8080/"
        },
        "id": "XtDt3eH8o4u0",
        "outputId": "f9a827b0-fcdd-4517-9003-870753593339"
      },
      "execution_count": 21,
      "outputs": [
        {
          "output_type": "stream",
          "name": "stdout",
          "text": [
            "              precision    recall  f1-score   support\n",
            "\n",
            "    airplane       0.61      0.68      0.64      1000\n",
            "  automobile       0.72      0.63      0.67      1000\n",
            "        bird       0.46      0.51      0.48      1000\n",
            "         cat       0.40      0.39      0.39      1000\n",
            "        deer       0.55      0.42      0.48      1000\n",
            "         dog       0.47      0.47      0.47      1000\n",
            "        frog       0.62      0.63      0.63      1000\n",
            "       horse       0.64      0.62      0.63      1000\n",
            "        ship       0.65      0.73      0.69      1000\n",
            "       truck       0.60      0.62      0.61      1000\n",
            "\n",
            "    accuracy                           0.57     10000\n",
            "   macro avg       0.57      0.57      0.57     10000\n",
            "weighted avg       0.57      0.57      0.57     10000\n",
            "\n"
          ]
        }
      ]
    },
    {
      "cell_type": "code",
      "source": [
        "#@ INSPECTING TRAINING LOSS AND ACCURACY:\n",
        "plt.style.use(\"ggplot\")\n",
        "plt.figure()\n",
        "plt.plot(np.arange(0, 100), H.history[\"loss\"], label=\"train_loss\")\n",
        "plt.plot(np.arange(0, 100), H.history[\"val_loss\"], label=\"val_loss\")\n",
        "plt.plot(np.arange(0, 100), H.history[\"accuracy\"], label=\"train_acc\")\n",
        "plt.plot(np.arange(0, 100), H.history[\"val_accuracy\"], label=\"val_acc\")\n",
        "plt.title(\"Training Loss and Accuracy\")\n",
        "plt.xlabel(\"Epoch\")\n",
        "plt.ylabel(\"Loss/Accuracy\")\n",
        "plt.legend()\n",
        "plt.show();"
      ],
      "metadata": {
        "colab": {
          "base_uri": "https://localhost:8080/",
          "height": 299
        },
        "id": "GGZpp1NSqhcp",
        "outputId": "5e3e94f9-cd70-4f4e-df5d-71e4eafe5f15"
      },
      "execution_count": 22,
      "outputs": [
        {
          "output_type": "display_data",
          "data": {
            "image/png": "[encoded data removed]",
            "text/plain": [
              "<Figure size 432x288 with 1 Axes>"
            ]
          },
          "metadata": {}
        }
      ]
    }
  ]
}