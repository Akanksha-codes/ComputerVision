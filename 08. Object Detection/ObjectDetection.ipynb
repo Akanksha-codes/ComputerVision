{
  "nbformat": 4,
  "nbformat_minor": 0,
  "metadata": {
    "colab": {
      "name": "ObjectDetection.ipynb",
      "provenance": []
    },
    "kernelspec": {
      "name": "python3",
      "display_name": "Python 3"
    },
    "language_info": {
      "name": "python"
    },
    "accelerator": "GPU"
  },
  "cells": [
    {
      "cell_type": "markdown",
      "source": [
        "**INITIALIZATION:**\n",
        "- I use these three lines of code on top of my each notebooks because it will help to prevent any problems while reloading the same project. And the third line of code helps to make visualization within the notebook."
      ],
      "metadata": {
        "id": "AJz_opYSng6j"
      }
    },
    {
      "cell_type": "code",
      "execution_count": 1,
      "metadata": {
        "id": "bsw_zGOQmj12"
      },
      "outputs": [],
      "source": [
        "#@ INITIALIZATION: \n",
        "%reload_ext autoreload\n",
        "%autoreload 2\n",
        "%matplotlib inline"
      ]
    },
    {
      "cell_type": "markdown",
      "source": [
        "**LIBRARIES AND DEPENDENCIES:**\n",
        "- I have downloaded all the libraries and dependencies required for the project in one particular cell."
      ],
      "metadata": {
        "id": "2-7XbSCmnzT0"
      }
    },
    {
      "cell_type": "code",
      "source": [
        "#@ IMPORTING NECESSARY LIBRARIES AND DEPENDENCIES: \n",
        "from torchvision.models import detection\n",
        "import numpy as np\n",
        "import cv2\n",
        "import pickle\n",
        "import torch\n",
        "from google.colab.patches import cv2_imshow"
      ],
      "metadata": {
        "id": "nKoZbBAxnyBE"
      },
      "execution_count": 2,
      "outputs": []
    },
    {
      "cell_type": "markdown",
      "source": [
        "**COCO DATASET:**\n",
        "- The [**COCO Dataset**](https://cocodataset.org/#home): Common Objects in Context, tends to be the standard for object detection benchmarking. The dataset contains over *90 classes* of common objects we will see in everyday world. "
      ],
      "metadata": {
        "id": "A2a3BxUsn-59"
      }
    },
    {
      "cell_type": "code",
      "source": [
        "#@ INITIALIZING DATASET AND DEPENDENCIES: \n",
        "DEVICE = torch.device(\"cuda\" if torch.cuda.is_available() else \"cpu\")    # Initializing GPU. \n",
        "CLASSES = pickle.loads(open(\"./coco_classes.pickle\", \"rb\").read())       # Initializing COCO labels. \n",
        "COLORS = np.random.uniform(0, 255, size=(len(CLASSES), 3))               # Initializing Colors. "
      ],
      "metadata": {
        "id": "0miKYyEIpA5w"
      },
      "execution_count": 3,
      "outputs": []
    },
    {
      "cell_type": "markdown",
      "source": [
        "**OBJECT DETECTION:**\n",
        "- Object Detection is a computer technology related to computer vision and image processing that deals with detecting instances of semantic objects of a certain class. I will use PyTorch to perform object detection using the following state-of-the-art classification networks:\n",
        "    - Faster R-CNN with a ResNet50.\n",
        "    - Faster R-CNN with a MobileNet V3.\n",
        "    - RetinaNet with a ResNet50. \n"
      ],
      "metadata": {
        "id": "wuk-Mh3NuIRi"
      }
    },
    {
      "cell_type": "code",
      "source": [
        "#@ INITIALIZING OBJECT DETECTION MODELS: \n",
        "MODELS = {\n",
        "    \"frcnn-resnet\": detection.fasterrcnn_resnet50_fpn,                         # Faster R-CNN with a ResNet50. \n",
        "    \"frcnn-mobilenet\": detection.fasterrcnn_mobilenet_v3_large_320_fpn,        # Faster R-CNN with a MobileNet V3. \n",
        "    \"retinanet\": detection.retinanet_resnet50_fpn}                             # RetinaNet with a ResNet50. \n",
        "model = MODELS[\"frcnn-resnet\"](pretrained=True, progress=True,                 # Initializing pretrained weights. \n",
        "                               num_classes=len(CLASSES),                       # Total number of classes. \n",
        "                               pretrained_backbone=True).to(DEVICE)            # Initializing backbone networks. "
      ],
      "metadata": {
        "id": "kpLZbyH7t0kN"
      },
      "execution_count": 5,
      "outputs": []
    },
    {
      "cell_type": "code",
      "source": [
        ""
      ],
      "metadata": {
        "id": "jO70g7q7zQqG"
      },
      "execution_count": null,
      "outputs": []
    }
  ]
}