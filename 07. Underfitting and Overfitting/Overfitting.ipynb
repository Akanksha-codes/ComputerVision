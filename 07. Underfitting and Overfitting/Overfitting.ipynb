{
  "nbformat": 4,
  "nbformat_minor": 0,
  "metadata": {
    "colab": {
      "name": "Overfitting.ipynb",
      "provenance": []
    },
    "kernelspec": {
      "name": "python3",
      "display_name": "Python 3"
    },
    "language_info": {
      "name": "python"
    }
  },
  "cells": [
    {
      "cell_type": "markdown",
      "source": [
        "**INITIALIZATION:**\n",
        "- I use these three lines of code on top of my each notebooks because it will help to prevent any problems while reloading the same project. And the third line of code helps to make visualization within the notebook."
      ],
      "metadata": {
        "id": "aTdJVN3NQCx3"
      }
    },
    {
      "cell_type": "code",
      "execution_count": 1,
      "metadata": {
        "id": "_gHGfoIwP4ox"
      },
      "outputs": [],
      "source": [
        "#@ INITIALIZATION: \n",
        "%reload_ext autoreload\n",
        "%autoreload 2\n",
        "%matplotlib inline"
      ]
    },
    {
      "cell_type": "markdown",
      "source": [
        "**LIBRARIES AND DEPENDENCIES:**\n",
        "- I have downloaded all the libraries and dependencies required for the project in one particular cell."
      ],
      "metadata": {
        "id": "stxrOkEkQU29"
      }
    },
    {
      "cell_type": "code",
      "source": [
        "#@ IMPORTING NECESSARY LIBRARIES AND DEPENDENCIES: \n",
        "from keras.callbacks import BaseLogger\n",
        "import matplotlib.pyplot as plt\n",
        "import numpy as np\n",
        "import json\n",
        "import os"
      ],
      "metadata": {
        "id": "boNMPKOxQROB"
      },
      "execution_count": 2,
      "outputs": []
    },
    {
      "cell_type": "markdown",
      "source": [
        "**MONITORING TRAINING PROCESS:**"
      ],
      "metadata": {
        "id": "BK3e2-kjkGsF"
      }
    },
    {
      "cell_type": "code",
      "source": [
        "#@ MONITORING TRAINING PROCESS: \n",
        "class TrainingMonitor(BaseLogger):                                  # Defining training monitor. \n",
        "    def __init__(self, figPath, jsonPath=None, startAt=0):          # Initializing constructor function. \n",
        "        super(TrainingMonitor, self).__init__()                     # Initializing CF of super class. \n",
        "        self.figPath = figPath                                      # Initializing output path. \n",
        "        self.jsonPath = jsonPath                                    # Initialization. \n",
        "        self.startAt = startAt                                      # Initialization. \n",
        "    \n",
        "    def on_train_begin(self, logs={}):                              # Initializing training process. \n",
        "        self.H = {}                                                 # Initializing history dictionary: Losses. \n",
        "        if self.jsonPath is not None:\n",
        "            if os.path.exists(self.jsonPath):\n",
        "                self.H = json.loads(open(self.jsonPath).read())\n",
        "                if self.startAt > 0:\n",
        "                    for k in self.H.keys():\n",
        "                        self.H[k] = self.H[k][:self.startAt]        # Updating history dictionary. \n",
        "    \n",
        "    def on_epoch_end(self, epoch, logs={}):                         # Initializing training epoch completion. \n",
        "        for (k, v) in logs.items():\n",
        "            l = self.H.get(k, [])\n",
        "            l.append(v)\n",
        "            self.H[k] = l\n",
        "        if self.jsonPath is not None:\n",
        "            f = open(self.jsonPath, \"w\")\n",
        "            f.write(json.dumps(self.H))                             # Serializing history to disk. \n",
        "            f.close()\n",
        "\n",
        "        if len(self.H[\"loss\"]) > 1:\n",
        "            N = np.arange(0, len(self.H[\"loss\"]))\n",
        "            plt.style.use(\"ggplot\")\n",
        "            plt.figure()\n",
        "            plt.plot(N, H.history[\"loss\"], label=\"train_loss\")\n",
        "            plt.plot(N, H.history[\"val_loss\"], label=\"val_loss\")\n",
        "            plt.plot(N, H.history[\"acc\"], label=\"train_acc\")\n",
        "            plt.plot(N, H.history[\"val_acc\"], label=\"val_acc\")\n",
        "            plt.title(\"Training Loss and Accuracy\")\n",
        "            plt.xlabel(\"Epoch\")\n",
        "            plt.ylabel(\"Loss/Accuracy\")\n",
        "            plt.legend()\n",
        "            plt.savefig(self.figPath)\n",
        "            plt.close()"
      ],
      "metadata": {
        "id": "CCEyhVbKkDSB"
      },
      "execution_count": 3,
      "outputs": []
    },
    {
      "cell_type": "code",
      "source": [
        ""
      ],
      "metadata": {
        "id": "BWFRSwEulD33"
      },
      "execution_count": null,
      "outputs": []
    }
  ]
}