{
  "nbformat": 4,
  "nbformat_minor": 0,
  "metadata": {
    "colab": {
      "name": "LeNet.ipynb",
      "provenance": [],
      "collapsed_sections": []
    },
    "kernelspec": {
      "name": "python3",
      "display_name": "Python 3"
    },
    "language_info": {
      "name": "python"
    },
    "accelerator": "GPU"
  },
  "cells": [
    {
      "cell_type": "markdown",
      "source": [
        "**INITIALIZATION:**\n",
        "- I use these three lines of code on top of my each notebooks because it will help to prevent any problems while reloading the same project. And the third line of code helps to make visualization within the notebook."
      ],
      "metadata": {
        "id": "N1PzyssnEIti"
      }
    },
    {
      "cell_type": "code",
      "execution_count": 1,
      "metadata": {
        "id": "1_wJNjd8DzuH"
      },
      "outputs": [],
      "source": [
        "#@ INITIALIZATION: \n",
        "%reload_ext autoreload\n",
        "%autoreload 2\n",
        "%matplotlib inline"
      ]
    },
    {
      "cell_type": "markdown",
      "source": [
        "**LIBRARIES AND DEPENDENCIES:**\n",
        "- I have downloaded all the libraries and dependencies required for the project in one particular cell."
      ],
      "metadata": {
        "id": "h-6DXIcJEc7v"
      }
    },
    {
      "cell_type": "code",
      "source": [
        "#@ IMPORTING NECESSARY LIBRARIES AND DEPENDENCIES:\n",
        "from keras.models import Sequential\n",
        "from keras.layers.convolutional import Conv2D\n",
        "from keras.layers.convolutional import MaxPooling2D\n",
        "from keras.layers.core import Activation\n",
        "from keras.layers.core import Flatten\n",
        "from keras.layers.core import Dense\n",
        "from keras import backend as K\n",
        "from tensorflow.keras.optimizers import SGD\n",
        "from tensorflow.keras.datasets import mnist\n",
        "\n",
        "from sklearn.preprocessing import LabelBinarizer\n",
        "from sklearn.model_selection import train_test_split\n",
        "from sklearn.metrics import classification_report\n",
        "\n",
        "import matplotlib.pyplot as plt\n",
        "import numpy as np"
      ],
      "metadata": {
        "id": "fckOv3DcEad3"
      },
      "execution_count": 2,
      "outputs": []
    },
    {
      "cell_type": "markdown",
      "source": [
        "**LENET ARCHITECTURE:**\n",
        "- I will define the build method of **LeNet** architecture below. It requires four parameters: **width** of input image, **height** of input image, **depth** of image, number of **class labels** in the classification task. The **Sequential** class, the building block of sequential networks sequentially stack one layer on top of the other layer initialized below. "
      ],
      "metadata": {
        "id": "nQfvI-1YFaYo"
      }
    },
    {
      "cell_type": "code",
      "source": [
        "#@ DEFINING LENET ARCHITECTURE: \n",
        "class LeNet:                                                    # Defining LeNet Class. \n",
        "    @staticmethod\n",
        "    def build(width, height, depth, classes):                   # Defining Build Method. \n",
        "        model = Sequential()                                    # Initializing Sequential Model. \n",
        "        inputShape = (height, width, depth)                     # Initializing Input Shape. \n",
        "        if K.image_data_format() == \"channels_first\":\n",
        "            inputShape = (depth, height, width)                 # Initializing Input Shape. \n",
        "        model.add(Conv2D(20, (5, 5), padding=\"same\", \n",
        "                         input_shape=inputShape))               # Adding Convolutional Layer. \n",
        "        model.add(Activation(\"relu\"))                           # Adding RELU Activation Function. \n",
        "        model.add(MaxPooling2D(pool_size=(2,2),strides=(2,2)))  # Decreasing 75% Input Size. \n",
        "        model.add(Conv2D(50, (5, 5), padding=\"same\"))           # Adding Convolutional Layer. \n",
        "        model.add(Activation(\"relu\"))                           # Adding RELU Activation Function. \n",
        "        model.add(MaxPooling2D(pool_size=(2,2),strides=(2,2)))  # Decreasing 75% Input Size. \n",
        "        model.add(Flatten())                                    # Adding Flatten Layer. \n",
        "        model.add(Dense(500))                                   # Adding Fully Connected Layer. \n",
        "        model.add(Activation(\"relu\"))                           # Adding RELU Activation Function. \n",
        "        model.add(Dense(classes))                               # Adding FC Dense Layer. \n",
        "        model.add(Activation(\"softmax\"))                        # Adding Softmax Classifier. \n",
        "        return model"
      ],
      "metadata": {
        "id": "bRzJKnSkFPO0"
      },
      "execution_count": 3,
      "outputs": []
    },
    {
      "cell_type": "markdown",
      "source": [
        "**LENET on MNIST:**\n",
        "- Each **MNIST** sample inside data is represented by a 784 dimensional raw pixel intensities of a 28X28 grayscale image. "
      ],
      "metadata": {
        "id": "WuUq9MJ4JhbA"
      }
    },
    {
      "cell_type": "code",
      "source": [
        "#@ GETTING THE DATASET: \n",
        "((trainData, trainLabels), (testData, testLabels)) = mnist.load_data()   # Loading the Dataset. \n",
        "if K.image_data_format() == \"channels_first\":\n",
        "    trainData = trainData.reshape((trainData.shape[0], 1, 28, 28))       # Reshaping the Dataset. \n",
        "    testData = testData.reshape((testData.shape[0], 1, 28, 28))          # Reshaping the Dataset. \n",
        "else:\n",
        "    trainData = trainData.reshape((trainData.shape[0], 28, 28, 1))       # Reshaping the Dataset. \n",
        "    testData = testData.reshape((testData.shape[0], 28, 28, 1))          # Reshaping the Dataset. "
      ],
      "metadata": {
        "id": "3Xy_eCn7JV5q"
      },
      "execution_count": 5,
      "outputs": []
    },
    {
      "cell_type": "code",
      "source": [
        "#@ PROCESSING THE DATASET: \n",
        "trainData = trainData.astype('float32') / 255.0                # Normalizing the Data.\n",
        "testData = testData.astype('float32') / 255.0                  # Normalizing the Data. \n",
        "lb = LabelBinarizer()                                          # Initializing LabelBinarizer. \n",
        "trainLabels = lb.fit_transform(trainLabels)                    # Converting Labels into Vectors. \n",
        "testLabels = lb.transform(testLabels)                          # Converting Labels into Vectors. "
      ],
      "metadata": {
        "id": "WHXoDocPGa_0"
      },
      "execution_count": 6,
      "outputs": []
    },
    {
      "cell_type": "code",
      "source": [
        "#@ INITIALIZING OPTIMIZER AND MODEL: \n",
        "opt = SGD(0.01)                                                   # Initializing SGD Optimizer. \n",
        "model = LeNet.build(width=28, height=28, depth=1, classes=10)     # Initializing LeNet Architecture. \n",
        "model.compile(loss=\"categorical_crossentropy\",optimizer=opt,\n",
        "              metrics=[\"accuracy\"])                               # Compiling LeNet Model. \n",
        "H = model.fit(trainData, trainLabels, \n",
        "              validation_data=(testData, testLabels), \n",
        "              batch_size=128, epochs=20, verbose=1)               # Training LeNet Model."
      ],
      "metadata": {
        "id": "DZ6N_dwXNnMS",
        "colab": {
          "base_uri": "https://localhost:8080/"
        },
        "outputId": "73d12ac8-a931-45d1-e73e-f3a940606393"
      },
      "execution_count": 7,
      "outputs": [
        {
          "output_type": "stream",
          "name": "stdout",
          "text": [
            "Epoch 1/20\n",
            "469/469 [==============================] - 18s 13ms/step - loss: 0.9274 - accuracy: 0.7520 - val_loss: 0.3026 - val_accuracy: 0.9131\n",
            "Epoch 2/20\n",
            "469/469 [==============================] - 6s 13ms/step - loss: 0.2503 - accuracy: 0.9264 - val_loss: 0.2037 - val_accuracy: 0.9403\n",
            "Epoch 3/20\n",
            "469/469 [==============================] - 6s 12ms/step - loss: 0.1784 - accuracy: 0.9476 - val_loss: 0.1571 - val_accuracy: 0.9520\n",
            "Epoch 4/20\n",
            "469/469 [==============================] - 6s 12ms/step - loss: 0.1387 - accuracy: 0.9593 - val_loss: 0.1278 - val_accuracy: 0.9603\n",
            "Epoch 5/20\n",
            "469/469 [==============================] - 6s 13ms/step - loss: 0.1154 - accuracy: 0.9658 - val_loss: 0.1032 - val_accuracy: 0.9665\n",
            "Epoch 6/20\n",
            "469/469 [==============================] - 6s 12ms/step - loss: 0.1002 - accuracy: 0.9700 - val_loss: 0.0854 - val_accuracy: 0.9734\n",
            "Epoch 7/20\n",
            "469/469 [==============================] - 6s 12ms/step - loss: 0.0882 - accuracy: 0.9741 - val_loss: 0.0756 - val_accuracy: 0.9773\n",
            "Epoch 8/20\n",
            "469/469 [==============================] - 6s 13ms/step - loss: 0.0784 - accuracy: 0.9764 - val_loss: 0.0705 - val_accuracy: 0.9768\n",
            "Epoch 9/20\n",
            "469/469 [==============================] - 6s 14ms/step - loss: 0.0715 - accuracy: 0.9787 - val_loss: 0.0677 - val_accuracy: 0.9782\n",
            "Epoch 10/20\n",
            "469/469 [==============================] - 6s 12ms/step - loss: 0.0663 - accuracy: 0.9801 - val_loss: 0.0647 - val_accuracy: 0.9796\n",
            "Epoch 11/20\n",
            "469/469 [==============================] - 6s 12ms/step - loss: 0.0614 - accuracy: 0.9819 - val_loss: 0.0551 - val_accuracy: 0.9815\n",
            "Epoch 12/20\n",
            "469/469 [==============================] - 6s 12ms/step - loss: 0.0575 - accuracy: 0.9830 - val_loss: 0.0568 - val_accuracy: 0.9817\n",
            "Epoch 13/20\n",
            "469/469 [==============================] - 6s 12ms/step - loss: 0.0543 - accuracy: 0.9836 - val_loss: 0.0512 - val_accuracy: 0.9832\n",
            "Epoch 14/20\n",
            "469/469 [==============================] - 6s 12ms/step - loss: 0.0511 - accuracy: 0.9845 - val_loss: 0.0500 - val_accuracy: 0.9831\n",
            "Epoch 15/20\n",
            "469/469 [==============================] - 6s 12ms/step - loss: 0.0482 - accuracy: 0.9856 - val_loss: 0.0497 - val_accuracy: 0.9830\n",
            "Epoch 16/20\n",
            "469/469 [==============================] - 6s 12ms/step - loss: 0.0462 - accuracy: 0.9860 - val_loss: 0.0599 - val_accuracy: 0.9801\n",
            "Epoch 17/20\n",
            "469/469 [==============================] - 5s 12ms/step - loss: 0.0442 - accuracy: 0.9868 - val_loss: 0.0435 - val_accuracy: 0.9863\n",
            "Epoch 18/20\n",
            "469/469 [==============================] - 5s 12ms/step - loss: 0.0422 - accuracy: 0.9875 - val_loss: 0.0421 - val_accuracy: 0.9860\n",
            "Epoch 19/20\n",
            "469/469 [==============================] - 6s 12ms/step - loss: 0.0404 - accuracy: 0.9876 - val_loss: 0.0418 - val_accuracy: 0.9863\n",
            "Epoch 20/20\n",
            "469/469 [==============================] - 6s 12ms/step - loss: 0.0390 - accuracy: 0.9880 - val_loss: 0.0398 - val_accuracy: 0.9868\n"
          ]
        }
      ]
    },
    {
      "cell_type": "markdown",
      "source": [
        "**MODEL EVALUATION:**"
      ],
      "metadata": {
        "id": "j1xxfT38dUyN"
      }
    },
    {
      "cell_type": "code",
      "source": [
        "#@ INITIALIZING MODEL EVALUATION:\n",
        "predictions = model.predict(testData, batch_size=128)                     # Getting Model Predictions. \n",
        "print(classification_report(testLabels.argmax(axis=1),\n",
        "                            predictions.argmax(axis=1), \n",
        "                            target_names=[str(x) for x in lb.classes_]))  # Inspecting Classification Report."
      ],
      "metadata": {
        "colab": {
          "base_uri": "https://localhost:8080/"
        },
        "id": "Wyd0nl4H92eJ",
        "outputId": "2c641006-f034-4fc8-f02a-474165307e0a"
      },
      "execution_count": 8,
      "outputs": [
        {
          "output_type": "stream",
          "name": "stdout",
          "text": [
            "              precision    recall  f1-score   support\n",
            "\n",
            "           0       0.98      0.99      0.99       980\n",
            "           1       0.99      0.99      0.99      1135\n",
            "           2       0.99      0.98      0.99      1032\n",
            "           3       0.99      0.98      0.99      1010\n",
            "           4       0.99      0.99      0.99       982\n",
            "           5       0.99      0.99      0.99       892\n",
            "           6       0.99      0.99      0.99       958\n",
            "           7       0.98      0.99      0.98      1028\n",
            "           8       0.99      0.98      0.98       974\n",
            "           9       0.99      0.97      0.98      1009\n",
            "\n",
            "    accuracy                           0.99     10000\n",
            "   macro avg       0.99      0.99      0.99     10000\n",
            "weighted avg       0.99      0.99      0.99     10000\n",
            "\n"
          ]
        }
      ]
    },
    {
      "cell_type": "code",
      "source": [
        "#@ INSPECTING TRAINING LOSS AND ACCURACY:\n",
        "plt.style.use(\"ggplot\")\n",
        "plt.figure()\n",
        "plt.plot(np.arange(0, 20), H.history[\"loss\"], label=\"train_loss\")\n",
        "plt.plot(np.arange(0, 20), H.history[\"val_loss\"], label=\"val_loss\")\n",
        "plt.plot(np.arange(0, 20), H.history[\"accuracy\"], label=\"train_acc\")\n",
        "plt.plot(np.arange(0, 20), H.history[\"val_accuracy\"], label=\"val_acc\")\n",
        "plt.title(\"Training Loss and Accuracy\")\n",
        "plt.xlabel(\"Epoch\")\n",
        "plt.ylabel(\"Loss/Accuracy\")\n",
        "plt.legend()\n",
        "plt.show();"
      ],
      "metadata": {
        "colab": {
          "base_uri": "https://localhost:8080/",
          "height": 299
        },
        "id": "13nhXxfDdqWn",
        "outputId": "47275c65-aa57-423a-8654-81434ac95c79"
      },
      "execution_count": 9,
      "outputs": [
        {
          "output_type": "display_data",
          "data": {
            "image/png": "[encoded data removed]",
            "text/plain": [
              "<Figure size 432x288 with 1 Axes>"
            ]
          },
          "metadata": {}
        }
      ]
    }
  ]
}