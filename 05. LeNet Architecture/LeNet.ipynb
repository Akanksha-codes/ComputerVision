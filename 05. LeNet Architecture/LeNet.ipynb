{
  "nbformat": 4,
  "nbformat_minor": 0,
  "metadata": {
    "colab": {
      "name": "LeNet.ipynb",
      "provenance": []
    },
    "kernelspec": {
      "name": "python3",
      "display_name": "Python 3"
    },
    "language_info": {
      "name": "python"
    }
  },
  "cells": [
    {
      "cell_type": "markdown",
      "source": [
        "**INITIALIZATION:**\n",
        "- I use these three lines of code on top of my each notebooks because it will help to prevent any problems while reloading the same project. And the third line of code helps to make visualization within the notebook."
      ],
      "metadata": {
        "id": "N1PzyssnEIti"
      }
    },
    {
      "cell_type": "code",
      "execution_count": 1,
      "metadata": {
        "id": "1_wJNjd8DzuH"
      },
      "outputs": [],
      "source": [
        "#@ INITIALIZATION: \n",
        "%reload_ext autoreload\n",
        "%autoreload 2\n",
        "%matplotlib inline"
      ]
    },
    {
      "cell_type": "markdown",
      "source": [
        "**LIBRARIES AND DEPENDENCIES:**\n",
        "- I have downloaded all the libraries and dependencies required for the project in one particular cell."
      ],
      "metadata": {
        "id": "h-6DXIcJEc7v"
      }
    },
    {
      "cell_type": "code",
      "source": [
        "#@ IMPORTING NECESSARY LIBRARIES AND DEPENDENCIES:\n",
        "from keras.models import Sequential\n",
        "from keras.layers.convolutional import Conv2D\n",
        "from keras.layers.convolutional import MaxPooling2D\n",
        "from keras.layers.core import Activation\n",
        "from keras.layers.core import Flatten\n",
        "from keras.layers.core import Dense\n",
        "from keras import backend as K\n",
        "from tensorflow.keras.optimizers import SGD\n",
        "\n",
        "from sklearn.preprocessing import LabelBinarizer\n",
        "from sklearn.model_selection import train_test_split\n",
        "from sklearn.metrics import classification_report\n",
        "from sklearn import datasets\n",
        "\n",
        "import matplotlib.pyplot as plt\n",
        "import numpy as np"
      ],
      "metadata": {
        "id": "fckOv3DcEad3"
      },
      "execution_count": 4,
      "outputs": []
    },
    {
      "cell_type": "markdown",
      "source": [
        "**LENET ARCHITECTURE:**\n",
        "- I will define the build method of **LeNet** architecture below. It requires four parameters: **width** of input image, **height** of input image, **depth** of image, number of **class labels** in the classification task. The **Sequential** class, the building block of sequential networks sequentially stack one layer on top of the other layer initialized below. "
      ],
      "metadata": {
        "id": "nQfvI-1YFaYo"
      }
    },
    {
      "cell_type": "code",
      "source": [
        "#@ DEFINING LENET ARCHITECTURE: \n",
        "class LeNet:                                                    # Defining LeNet Class. \n",
        "    @staticmethod\n",
        "    def build(width, height, depth, classes):                   # Defining Build Method. \n",
        "        model = Sequential()                                    # Initializing Sequential Model. \n",
        "        inputShape = (height, width, depth)                     # Initializing Input Shape. \n",
        "        if K.image_data_format() == \"channels_first\":\n",
        "            inputShape = (depth, height, width)                 # Initializing Input Shape. \n",
        "        model.add(Conv2D(20, (5, 5), padding=\"same\", \n",
        "                         input_shape=inputShape))               # Adding Convolutional Layer. \n",
        "        model.add(Activation(\"relu\"))                           # Adding RELU Activation Function. \n",
        "        model.add(MaxPooling2D(pool_size=(2,2),strides=(2,2)))  # Decreasing 75% Input Size. \n",
        "        model.add(Conv2D(50, (5, 5), padding=\"same\"))           # Adding Convolutional Layer. \n",
        "        model.add(Activation(\"relu\"))                           # Adding RELU Activation Function. \n",
        "        model.add(MaxPooling2D(pool_size=(2,2),strides=(2,2)))  # Decreasing 75% Input Size. \n",
        "        model.add(Flatten())                                    # Adding Flatten Layer. \n",
        "        model.add(Dense(500))                                   # Adding Fully Connected Layer. \n",
        "        model.add(Activation(\"relu\"))                           # Adding RELU Activation Function. \n",
        "        model.add(Dense(classes))                               # Adding FC Dense Layer. \n",
        "        model.add(Activation(\"softmax\"))                        # Adding Softmax Classifier. \n",
        "        return model"
      ],
      "metadata": {
        "id": "bRzJKnSkFPO0"
      },
      "execution_count": 3,
      "outputs": []
    },
    {
      "cell_type": "markdown",
      "source": [
        "**LENET on MNIST:**\n",
        "- Each **MNIST** sample inside data is represented by a 784 dimensional raw pixel intensities of a 28X28 grayscale image. "
      ],
      "metadata": {
        "id": "WuUq9MJ4JhbA"
      }
    },
    {
      "cell_type": "code",
      "source": [
        "#@ GETTING THE DATASET: \n",
        "dataset = datasets.fetch_openml(\"mnist_784\")                  # Loading the Dataset. "
      ],
      "metadata": {
        "id": "3Xy_eCn7JV5q"
      },
      "execution_count": 19,
      "outputs": []
    },
    {
      "cell_type": "code",
      "source": [
        ""
      ],
      "metadata": {
        "id": "DZ6N_dwXNnMS"
      },
      "execution_count": null,
      "outputs": []
    }
  ]
}