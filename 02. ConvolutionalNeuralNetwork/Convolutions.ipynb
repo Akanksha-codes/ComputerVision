{
  "nbformat": 4,
  "nbformat_minor": 0,
  "metadata": {
    "colab": {
      "name": "Convolutions.ipynb",
      "provenance": []
    },
    "kernelspec": {
      "name": "python3",
      "display_name": "Python 3"
    },
    "language_info": {
      "name": "python"
    },
    "accelerator": "GPU"
  },
  "cells": [
    {
      "cell_type": "markdown",
      "metadata": {
        "id": "iSshaddKhK7V"
      },
      "source": [
        "**INITIALIZATION:**\n",
        "- I use these three lines of code on top of my each notebooks because it will help to prevent any problems while reloading the same project. And the third line of code helps to make visualization within the notebook."
      ]
    },
    {
      "cell_type": "code",
      "metadata": {
        "id": "hgCBUC6Xg8DP"
      },
      "source": [
        "#@ INITIALIZATION: \n",
        "%reload_ext autoreload\n",
        "%autoreload 2\n",
        "%matplotlib inline"
      ],
      "execution_count": 1,
      "outputs": []
    },
    {
      "cell_type": "markdown",
      "metadata": {
        "id": "Gs5opAGXhUTk"
      },
      "source": [
        "**DOWNLOADING LIBRARIES AND DEPENDENCIES:**\n",
        "- I have downloaded all the libraries and dependencies required for the project in one particular cell."
      ]
    },
    {
      "cell_type": "code",
      "metadata": {
        "id": "y7DIyPa4hRIj"
      },
      "source": [
        "#@ DOWNLOADING LIBRARIES AND DEPENDENCIES: \n",
        "import numpy as np\n",
        "from skimage.exposure import rescale_intensity\n",
        "import cv2"
      ],
      "execution_count": 2,
      "outputs": []
    },
    {
      "cell_type": "markdown",
      "metadata": {
        "id": "MIdr8HhgiALH"
      },
      "source": [
        "**CONVOLUTIONS:**\n",
        "- **Convolution** is simply an elementwise multiplication of two matrices followed by a sum. "
      ]
    },
    {
      "cell_type": "code",
      "metadata": {
        "id": "WCNh5sPnh_PG"
      },
      "source": [
        "#@ DEFINING CUSTOM CONVOLUTION METHOD: WITH OPENCV: \n",
        "def convolve(image, kernel):                            # Defining Convolve Function.    \n",
        "    (iH, iW) = image.shape[:2]                          # Initializing Height and Width of Image. \n",
        "    (kH, kW) = kernel.shape[:2]                         # Initializing Height and Width of Kernel. \n",
        "    pad = (kH - 1) // 2                                 # Initializing Padding. \n",
        "    image = cv2.copyMakeBorder(image,pad,pad,pad,pad,\n",
        "                               cv2.BORDER_REPLICATE)    # Padding Input Image. \n",
        "    output = np.zeros((iH, iW), dtype=\"float32\")        # Initializing Dimension of Input Image. \n",
        "    for y in np.arange(pad, iH + pad):\n",
        "        for x in np.arange(pad, iW + pad):\n",
        "            roi = image[y-pad : y+pad+1, x-pad:x+pad+1] # Getting ROI of Image. \n",
        "            k = (roi * kernel).sum()                    # Initializing Convolution. \n",
        "            output[y-pad, x-pad] = k\n",
        "    output = rescale_intensity(output,in_range=(0,255)) # Rescaling Output Image. \n",
        "    output = (output * 255).astype(\"uint8\")\n",
        "    return output "
      ],
      "execution_count": 3,
      "outputs": []
    },
    {
      "cell_type": "code",
      "metadata": {
        "id": "r_LcPpLvWj-k"
      },
      "source": [
        "#@ CONSTRUCTING AVERAGE BLURRING KERNELS:\n",
        "smallblur = np.ones((7, 7),dtype=\"float\") * (1.0/(7*7))     # Initializing Kernel. \n",
        "largeblur = np.ones((21,21),dtype=\"float\")*(1.0/(21*21))    # Initializing Kernel. \n",
        "\n",
        "#@ CONSTRUCTING SHARPENING FILTER:\n",
        "sharpen = np.array(([0, -1, 0], \n",
        "                    [-1, 5, -1],\n",
        "                    [0, -1, 0]), dtype=\"int\")\n",
        "\n",
        "#@ CONSTRUCTING LAPLACIAN KERNEL: \n",
        "laplacian = np.array(([0, 1, 0],\n",
        "                      [1, -4, 1], \n",
        "                      [0, 1, 0]), dtype=\"int\")\n",
        "\n",
        "#@ CONSTRUCTING SOBEL X-AXIS KERNEL:\n",
        "sobelX = np.array(([-1, 0, 1], \n",
        "                   [-2, 0, 2], \n",
        "                   [-1, 0, 1]), dtype=\"int\")\n",
        "\n",
        "#@ CONSTRUCTING SOBEL Y-AXIS KERNEL: \n",
        "sobelY = np.array(([-1, -2, -1],\n",
        "                   [0, 0, 0], \n",
        "                   [1, 2, 1]), dtype=\"int\")\n",
        "\n",
        "#@ CONSTRUCTING KERNEL BANK: \n",
        "kernelBank = (\n",
        "    (\"small_blur\", smallblur), \n",
        "    (\"large_blur\", largeblur), \n",
        "    (\"sharpen\", sharpen), \n",
        "    (\"sobel_x\", sobelX),\n",
        "    (\"sobel_y\", sobelY)\n",
        ")"
      ],
      "execution_count": 4,
      "outputs": []
    },
    {
      "cell_type": "code",
      "metadata": {
        "id": "bMEg91YHcbaf"
      },
      "source": [
        "#@ IMPLEMENTATION OF CONVOLUTIONS: \n",
        "image = cv2.imread(\"\")"
      ],
      "execution_count": null,
      "outputs": []
    }
  ]
}