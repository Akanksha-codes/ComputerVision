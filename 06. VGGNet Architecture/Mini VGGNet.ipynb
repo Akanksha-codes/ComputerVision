{
  "nbformat": 4,
  "nbformat_minor": 0,
  "metadata": {
    "colab": {
      "name": "Mini VGGNet.ipynb",
      "provenance": []
    },
    "kernelspec": {
      "name": "python3",
      "display_name": "Python 3"
    },
    "language_info": {
      "name": "python"
    },
    "accelerator": "GPU"
  },
  "cells": [
    {
      "cell_type": "markdown",
      "source": [
        "**INITIALIZATION:**\n",
        "- I use these three lines of code on top of my each notebooks because it will help to prevent any problems while reloading the same project. And the third line of code helps to make visualization within the notebook."
      ],
      "metadata": {
        "id": "5Vmy0mCIIvZy"
      }
    },
    {
      "cell_type": "code",
      "execution_count": 1,
      "metadata": {
        "id": "5L3NmJeWFUEA"
      },
      "outputs": [],
      "source": [
        "#@ INITIALIZATION: \n",
        "%reload_ext autoreload\n",
        "%autoreload 2\n",
        "%matplotlib inline"
      ]
    },
    {
      "cell_type": "markdown",
      "source": [
        "**LIBRARIES AND DEPENDENCIES:**\n",
        "- I have downloaded all the libraries and dependencies required for the project in one particular cell."
      ],
      "metadata": {
        "id": "tir9siflI3eF"
      }
    },
    {
      "cell_type": "code",
      "source": [
        "#@ IMPORTING NECESSARY LIBRARIES AND DEPENDENCIES:\n",
        "from keras.models import Sequential\n",
        "from keras.layers import BatchNormalization\n",
        "from keras.layers.convolutional import Conv2D\n",
        "from keras.layers.convolutional import MaxPooling2D\n",
        "from keras.layers.core import Activation\n",
        "from keras.layers.core import Flatten\n",
        "from keras.layers.core import Dense, Dropout\n",
        "from keras import backend as K\n",
        "from tensorflow.keras.optimizers import SGD\n",
        "from tensorflow.keras.datasets import cifar10\n",
        "from keras.callbacks import LearningRateScheduler\n",
        "\n",
        "from sklearn.preprocessing import LabelBinarizer\n",
        "from sklearn.model_selection import train_test_split\n",
        "from sklearn.metrics import classification_report\n",
        "\n",
        "import matplotlib.pyplot as plt\n",
        "import numpy as np"
      ],
      "metadata": {
        "id": "Bzk_8g75I05a"
      },
      "execution_count": 3,
      "outputs": []
    },
    {
      "cell_type": "markdown",
      "source": [
        "**VGG ARCHITECTURE:**\n",
        "- I will define the build method of Mini VGGNet architecture below. It requires four parameters: width of input image, height of input image, depth of image, number of class labels in the classification task. The Sequential class, the building block of sequential networks sequentially stack one layer on top of the other layer initialized below. Batch Normalization operates over the channels, so in order to apply BN, we need to know which axis to normalize over. "
      ],
      "metadata": {
        "id": "5gbRFH9iLGKN"
      }
    },
    {
      "cell_type": "code",
      "source": [
        "#@ DEFINING VGGNET ARCHITECTURE:\n",
        "class MiniVGGNet:                                               # Defining VGG Network. \n",
        "    @staticmethod\n",
        "    def build(width, height, depth, classes):                   # Defining Build Method. \n",
        "        model = Sequential()                                    # Initializing Sequential Model.\n",
        "        inputShape = (width, height, depth)                     # Initializing Input Shape. \n",
        "        chanDim = -1                                            # Index of Channel Dimension.\n",
        "        if K.image_data_format() == \"channels_first\":\n",
        "            inputShape = (depth, width, height)                 # Initializing Input Shape. \n",
        "            chanDim = 1                                         # Index of Channel Dimension. \n",
        "        model.add(Conv2D(32, (3, 3), padding='same', \n",
        "                         input_shape=inputShape))               # Adding Convolutional Layer. \n",
        "        model.add(Activation(\"relu\"))                           # Adding RELU Activation Function. \n",
        "        model.add(BatchNormalization(axis=chanDim))             # Adding Batch Normalization Layer. \n",
        "        model.add(Conv2D(32, (3, 3), padding='same'))           # Adding Convolutional Layer. \n",
        "        model.add(Activation(\"relu\"))                           # Adding RELU Activation Function. \n",
        "        model.add(BatchNormalization(axis=chanDim))             # Adding Batch Normalization Layer. \n",
        "        model.add(MaxPooling2D(pool_size=(2, 2)))               # Adding Max Pooling Layer. \n",
        "        model.add(Dropout(0.25))                                # Adding Dropout Layer.\n",
        "        model.add(Conv2D(64, (3, 3), padding=\"same\"))           # Adding Convolutional Layer. \n",
        "        model.add(Activation(\"relu\"))                           # Adding RELU Activation Function. \n",
        "        model.add(BatchNormalization(axis=chanDim))             # Adding Batch Normalization Layer. \n",
        "        model.add(Conv2D(64, (3, 3), padding='same'))           # Adding Convolutional Layer. \n",
        "        model.add(Activation(\"relu\"))                           # Adding RELU Activation Function. \n",
        "        model.add(BatchNormalization(axis=chanDim))             # Adding Batch Normalization Layer. \n",
        "        model.add(MaxPooling2D(pool_size=(2, 2)))               # Adding Max Pooling Layer. \n",
        "        model.add(Dropout(0.25))                                # Adding Dropout Layer.  \n",
        "        model.add(Flatten())                                    # Adding Flatten Layer. \n",
        "        model.add(Dense(512))                                   # Adding FC Dense Layer. \n",
        "        model.add(Activation(\"relu\"))                           # Adding Activation Layer. \n",
        "        model.add(BatchNormalization())                         # Adding Batch Normalization Layer. \n",
        "        model.add(Dropout(0.5))                                 # Adding Dropout Layer. \n",
        "        model.add(Dense(classes))                               # Adding Dense Output Layer. \n",
        "        model.add(Activation(\"softmax\"))                        # Adding Softmax Layer. \n",
        "        return model"
      ],
      "metadata": {
        "id": "Ej2z0nJ-Kblr"
      },
      "execution_count": 4,
      "outputs": []
    },
    {
      "cell_type": "code",
      "source": [
        "#@ CUSTOM LEARNING RATE SCHEDULER: \n",
        "def step_decay(epoch):                          # Definig step decay function. \n",
        "    initAlpha = 0.01                            # Initializing initial LR.\n",
        "    factor = 0.25                               # Initializing drop factor. \n",
        "    dropEvery = 5                               # Initializing epochs to drop. \n",
        "    alpha = initAlpha*(factor ** np.floor((1 + epoch) / dropEvery))\n",
        "    return float(alpha)"
      ],
      "metadata": {
        "id": "KwzG_O1NlqVI"
      },
      "execution_count": 6,
      "outputs": []
    },
    {
      "cell_type": "markdown",
      "source": [
        "**VGGNET ON CIFAR10**"
      ],
      "metadata": {
        "id": "hNQiqb5gAlAU"
      }
    },
    {
      "cell_type": "code",
      "source": [
        "#@ GETTING THE DATASET:\n",
        "((trainX, trainY), (testX, testY)) = cifar10.load_data()            # Loading Dataset. \n",
        "trainX = trainX.astype(\"float\") / 255.0                             # Normalizing Dataset. \n",
        "testX = testX.astype(\"float\") / 255.0                               # Normalizing Dataset. \n",
        "\n",
        "#@ PREPARING THE DATASET:\n",
        "lb = LabelBinarizer()                                               # Initializing LabelBinarizer. \n",
        "trainY = lb.fit_transform(trainY)                                   # Converting Labels to Vectors. \n",
        "testY = lb.transform(testY)                                         # Converting Labels to Vectors. \n",
        "labelNames = [\"airplane\", \"automobile\", \"bird\", \"cat\", \"deer\", \n",
        "              \"dog\", \"frog\", \"horse\", \"ship\", \"truck\"]              # Initializing LabelNames."
      ],
      "metadata": {
        "id": "z-EnWB4J-8kl"
      },
      "execution_count": 7,
      "outputs": []
    },
    {
      "cell_type": "code",
      "source": [
        "#@ INITIALIZING OPTIMIZER AND MODEL: \n",
        "callbacks = [LearningRateScheduler(step_decay)]                        # Initializing Callbacks. \n",
        "opt = SGD(0.01, nesterov=True, momentum=0.9)                           # Initializing SGD Optimizer. \n",
        "model = MiniVGGNet.build(width=32, height=32, depth=3, classes=10)     # Initializing VGGNet Architecture. \n",
        "model.compile(loss=\"categorical_crossentropy\", optimizer=opt,\n",
        "              metrics=[\"accuracy\"])                                    # Compiling VGGNet Model. \n",
        "H = model.fit(trainX, trainY, \n",
        "              validation_data=(testX, testY), batch_size=64, \n",
        "              epochs=40, verbose=1, callbacks=callbacks)               # Training VGGNet Model."
      ],
      "metadata": {
        "colab": {
          "base_uri": "https://localhost:8080/"
        },
        "id": "1lCPFWETBvgf",
        "outputId": "e1cdef1b-c28a-4e10-a935-5f602972acee"
      },
      "execution_count": 8,
      "outputs": [
        {
          "output_type": "stream",
          "name": "stdout",
          "text": [
            "Epoch 1/40\n",
            "782/782 [==============================] - 29s 21ms/step - loss: 1.6339 - accuracy: 0.4555 - val_loss: 1.1509 - val_accuracy: 0.5970 - lr: 0.0100\n",
            "Epoch 2/40\n",
            "782/782 [==============================] - 16s 21ms/step - loss: 1.1813 - accuracy: 0.5932 - val_loss: 0.9222 - val_accuracy: 0.6733 - lr: 0.0100\n",
            "Epoch 3/40\n",
            "782/782 [==============================] - 16s 21ms/step - loss: 0.9908 - accuracy: 0.6567 - val_loss: 0.8341 - val_accuracy: 0.7159 - lr: 0.0100\n",
            "Epoch 4/40\n",
            "782/782 [==============================] - 16s 21ms/step - loss: 0.8854 - accuracy: 0.6945 - val_loss: 0.8282 - val_accuracy: 0.7167 - lr: 0.0100\n",
            "Epoch 5/40\n",
            "782/782 [==============================] - 16s 21ms/step - loss: 0.7380 - accuracy: 0.7421 - val_loss: 0.6881 - val_accuracy: 0.7598 - lr: 0.0025\n",
            "Epoch 6/40\n",
            "782/782 [==============================] - 17s 21ms/step - loss: 0.6845 - accuracy: 0.7586 - val_loss: 0.6600 - val_accuracy: 0.7711 - lr: 0.0025\n",
            "Epoch 7/40\n",
            "782/782 [==============================] - 17s 21ms/step - loss: 0.6628 - accuracy: 0.7683 - val_loss: 0.6435 - val_accuracy: 0.7744 - lr: 0.0025\n",
            "Epoch 8/40\n",
            "782/782 [==============================] - 16s 21ms/step - loss: 0.6391 - accuracy: 0.7755 - val_loss: 0.6362 - val_accuracy: 0.7784 - lr: 0.0025\n",
            "Epoch 9/40\n",
            "782/782 [==============================] - 16s 21ms/step - loss: 0.6204 - accuracy: 0.7830 - val_loss: 0.6499 - val_accuracy: 0.7744 - lr: 0.0025\n",
            "Epoch 10/40\n",
            "782/782 [==============================] - 16s 21ms/step - loss: 0.5912 - accuracy: 0.7909 - val_loss: 0.6161 - val_accuracy: 0.7856 - lr: 6.2500e-04\n",
            "Epoch 11/40\n",
            "782/782 [==============================] - 16s 21ms/step - loss: 0.5812 - accuracy: 0.7936 - val_loss: 0.6054 - val_accuracy: 0.7879 - lr: 6.2500e-04\n",
            "Epoch 12/40\n",
            "782/782 [==============================] - 16s 21ms/step - loss: 0.5730 - accuracy: 0.7978 - val_loss: 0.5994 - val_accuracy: 0.7907 - lr: 6.2500e-04\n",
            "Epoch 13/40\n",
            "782/782 [==============================] - 16s 21ms/step - loss: 0.5698 - accuracy: 0.7974 - val_loss: 0.6013 - val_accuracy: 0.7882 - lr: 6.2500e-04\n",
            "Epoch 14/40\n",
            "782/782 [==============================] - 16s 21ms/step - loss: 0.5623 - accuracy: 0.8009 - val_loss: 0.5973 - val_accuracy: 0.7910 - lr: 6.2500e-04\n",
            "Epoch 15/40\n",
            "782/782 [==============================] - 16s 21ms/step - loss: 0.5496 - accuracy: 0.8064 - val_loss: 0.5961 - val_accuracy: 0.7905 - lr: 1.5625e-04\n",
            "Epoch 16/40\n",
            "782/782 [==============================] - 16s 21ms/step - loss: 0.5484 - accuracy: 0.8048 - val_loss: 0.5937 - val_accuracy: 0.7914 - lr: 1.5625e-04\n",
            "Epoch 17/40\n",
            "782/782 [==============================] - 16s 21ms/step - loss: 0.5573 - accuracy: 0.8037 - val_loss: 0.5950 - val_accuracy: 0.7902 - lr: 1.5625e-04\n",
            "Epoch 18/40\n",
            "782/782 [==============================] - 16s 21ms/step - loss: 0.5477 - accuracy: 0.8062 - val_loss: 0.5927 - val_accuracy: 0.7907 - lr: 1.5625e-04\n",
            "Epoch 19/40\n",
            "782/782 [==============================] - 16s 21ms/step - loss: 0.5446 - accuracy: 0.8073 - val_loss: 0.5904 - val_accuracy: 0.7923 - lr: 1.5625e-04\n",
            "Epoch 20/40\n",
            "782/782 [==============================] - 16s 21ms/step - loss: 0.5391 - accuracy: 0.8104 - val_loss: 0.5926 - val_accuracy: 0.7920 - lr: 3.9062e-05\n",
            "Epoch 21/40\n",
            "782/782 [==============================] - 17s 21ms/step - loss: 0.5419 - accuracy: 0.8080 - val_loss: 0.5915 - val_accuracy: 0.7929 - lr: 3.9062e-05\n",
            "Epoch 22/40\n",
            "782/782 [==============================] - 16s 21ms/step - loss: 0.5438 - accuracy: 0.8099 - val_loss: 0.5909 - val_accuracy: 0.7925 - lr: 3.9062e-05\n",
            "Epoch 23/40\n",
            "782/782 [==============================] - 16s 21ms/step - loss: 0.5467 - accuracy: 0.8075 - val_loss: 0.5914 - val_accuracy: 0.7919 - lr: 3.9062e-05\n",
            "Epoch 24/40\n",
            "782/782 [==============================] - 16s 21ms/step - loss: 0.5376 - accuracy: 0.8103 - val_loss: 0.5918 - val_accuracy: 0.7920 - lr: 3.9062e-05\n",
            "Epoch 25/40\n",
            "782/782 [==============================] - 17s 21ms/step - loss: 0.5410 - accuracy: 0.8085 - val_loss: 0.5923 - val_accuracy: 0.7917 - lr: 9.7656e-06\n",
            "Epoch 26/40\n",
            "782/782 [==============================] - 17s 21ms/step - loss: 0.5406 - accuracy: 0.8084 - val_loss: 0.5910 - val_accuracy: 0.7915 - lr: 9.7656e-06\n",
            "Epoch 27/40\n",
            "782/782 [==============================] - 16s 21ms/step - loss: 0.5384 - accuracy: 0.8097 - val_loss: 0.5901 - val_accuracy: 0.7919 - lr: 9.7656e-06\n",
            "Epoch 28/40\n",
            "782/782 [==============================] - 16s 21ms/step - loss: 0.5431 - accuracy: 0.8089 - val_loss: 0.5915 - val_accuracy: 0.7927 - lr: 9.7656e-06\n",
            "Epoch 29/40\n",
            "782/782 [==============================] - 16s 21ms/step - loss: 0.5417 - accuracy: 0.8095 - val_loss: 0.5921 - val_accuracy: 0.7925 - lr: 9.7656e-06\n",
            "Epoch 30/40\n",
            "782/782 [==============================] - 17s 21ms/step - loss: 0.5385 - accuracy: 0.8108 - val_loss: 0.5900 - val_accuracy: 0.7926 - lr: 2.4414e-06\n",
            "Epoch 31/40\n",
            "782/782 [==============================] - 16s 21ms/step - loss: 0.5451 - accuracy: 0.8073 - val_loss: 0.5910 - val_accuracy: 0.7923 - lr: 2.4414e-06\n",
            "Epoch 32/40\n",
            "782/782 [==============================] - 16s 21ms/step - loss: 0.5402 - accuracy: 0.8103 - val_loss: 0.5899 - val_accuracy: 0.7925 - lr: 2.4414e-06\n",
            "Epoch 33/40\n",
            "782/782 [==============================] - 16s 21ms/step - loss: 0.5405 - accuracy: 0.8091 - val_loss: 0.5909 - val_accuracy: 0.7928 - lr: 2.4414e-06\n",
            "Epoch 34/40\n",
            "782/782 [==============================] - 16s 21ms/step - loss: 0.5427 - accuracy: 0.8091 - val_loss: 0.5914 - val_accuracy: 0.7921 - lr: 2.4414e-06\n",
            "Epoch 35/40\n",
            "782/782 [==============================] - 16s 21ms/step - loss: 0.5416 - accuracy: 0.8105 - val_loss: 0.5906 - val_accuracy: 0.7928 - lr: 6.1035e-07\n",
            "Epoch 36/40\n",
            "782/782 [==============================] - 16s 21ms/step - loss: 0.5375 - accuracy: 0.8109 - val_loss: 0.5905 - val_accuracy: 0.7927 - lr: 6.1035e-07\n",
            "Epoch 37/40\n",
            "782/782 [==============================] - 16s 21ms/step - loss: 0.5372 - accuracy: 0.8092 - val_loss: 0.5900 - val_accuracy: 0.7923 - lr: 6.1035e-07\n",
            "Epoch 38/40\n",
            "782/782 [==============================] - 16s 21ms/step - loss: 0.5438 - accuracy: 0.8090 - val_loss: 0.5907 - val_accuracy: 0.7927 - lr: 6.1035e-07\n",
            "Epoch 39/40\n",
            "782/782 [==============================] - 16s 21ms/step - loss: 0.5424 - accuracy: 0.8097 - val_loss: 0.5906 - val_accuracy: 0.7922 - lr: 6.1035e-07\n",
            "Epoch 40/40\n",
            "782/782 [==============================] - 16s 21ms/step - loss: 0.5385 - accuracy: 0.8116 - val_loss: 0.5909 - val_accuracy: 0.7928 - lr: 1.5259e-07\n"
          ]
        }
      ]
    },
    {
      "cell_type": "markdown",
      "source": [
        "**MODEL EVALUATION:**"
      ],
      "metadata": {
        "id": "VYWybYDuELRf"
      }
    },
    {
      "cell_type": "code",
      "source": [
        "#@ INITIALIZING MODEL EVALUATION:\n",
        "predictions = model.predict(testX, batch_size=64)           # Getting Model Predictions. \n",
        "print(classification_report(testY.argmax(axis=1),\n",
        "                            predictions.argmax(axis=1), \n",
        "                            target_names=labelNames))       # Inspecting Classification Report."
      ],
      "metadata": {
        "colab": {
          "base_uri": "https://localhost:8080/"
        },
        "id": "HZXqORsIDAtg",
        "outputId": "103704a3-ddf5-4503-eb09-cf1fc33fa3f3"
      },
      "execution_count": 9,
      "outputs": [
        {
          "output_type": "stream",
          "name": "stdout",
          "text": [
            "              precision    recall  f1-score   support\n",
            "\n",
            "    airplane       0.85      0.79      0.82      1000\n",
            "  automobile       0.90      0.88      0.89      1000\n",
            "        bird       0.73      0.65      0.69      1000\n",
            "         cat       0.62      0.60      0.61      1000\n",
            "        deer       0.72      0.81      0.76      1000\n",
            "         dog       0.71      0.71      0.71      1000\n",
            "        frog       0.80      0.89      0.84      1000\n",
            "       horse       0.87      0.82      0.85      1000\n",
            "        ship       0.89      0.89      0.89      1000\n",
            "       truck       0.85      0.88      0.86      1000\n",
            "\n",
            "    accuracy                           0.79     10000\n",
            "   macro avg       0.79      0.79      0.79     10000\n",
            "weighted avg       0.79      0.79      0.79     10000\n",
            "\n"
          ]
        }
      ]
    },
    {
      "cell_type": "code",
      "source": [
        "#@ INSPECTING TRAINING LOSS AND ACCURACY:\n",
        "plt.style.use(\"ggplot\")\n",
        "plt.figure()\n",
        "plt.plot(np.arange(0, 40), H.history[\"loss\"], label=\"train_loss\")\n",
        "plt.plot(np.arange(0, 40), H.history[\"val_loss\"], label=\"val_loss\")\n",
        "plt.plot(np.arange(0, 40), H.history[\"accuracy\"], label=\"train_acc\")\n",
        "plt.plot(np.arange(0, 40), H.history[\"val_accuracy\"], label=\"val_acc\")\n",
        "plt.title(\"Training Loss and Accuracy\")\n",
        "plt.xlabel(\"Epoch\")\n",
        "plt.ylabel(\"Loss/Accuracy\")\n",
        "plt.legend()\n",
        "plt.show();"
      ],
      "metadata": {
        "colab": {
          "base_uri": "https://localhost:8080/",
          "height": 299
        },
        "id": "eCeJOSaJEdLC",
        "outputId": "779e2ecc-6ae8-4164-a170-6f5e8085df88"
      },
      "execution_count": 10,
      "outputs": [
        {
          "output_type": "display_data",
          "data": {
            "image/png": "[encoded data removed]",
            "text/plain": [
              "<Figure size 432x288 with 1 Axes>"
            ]
          },
          "metadata": {}
        }
      ]
    },
    {
      "cell_type": "markdown",
      "source": [
        "**Note:**\n",
        "- Batch Normalization can lead to a faster, more stable convergence with higher accuracy. \n",
        "- Batch Normalization will require more wall time to train the network even though the network will obtain higher accuracy in less epochs. "
      ],
      "metadata": {
        "id": "cfm34boWToGw"
      }
    }
  ]
}