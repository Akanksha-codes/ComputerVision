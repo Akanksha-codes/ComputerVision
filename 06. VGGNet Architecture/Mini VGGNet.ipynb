{
  "nbformat": 4,
  "nbformat_minor": 0,
  "metadata": {
    "colab": {
      "name": "Mini VGGNet.ipynb",
      "provenance": []
    },
    "kernelspec": {
      "name": "python3",
      "display_name": "Python 3"
    },
    "language_info": {
      "name": "python"
    },
    "accelerator": "GPU"
  },
  "cells": [
    {
      "cell_type": "markdown",
      "source": [
        "**INITIALIZATION:**\n",
        "- I use these three lines of code on top of my each notebooks because it will help to prevent any problems while reloading the same project. And the third line of code helps to make visualization within the notebook."
      ],
      "metadata": {
        "id": "5Vmy0mCIIvZy"
      }
    },
    {
      "cell_type": "code",
      "execution_count": 1,
      "metadata": {
        "id": "5L3NmJeWFUEA"
      },
      "outputs": [],
      "source": [
        "#@ INITIALIZATION: \n",
        "%reload_ext autoreload\n",
        "%autoreload 2\n",
        "%matplotlib inline"
      ]
    },
    {
      "cell_type": "markdown",
      "source": [
        "**LIBRARIES AND DEPENDENCIES:**\n",
        "- I have downloaded all the libraries and dependencies required for the project in one particular cell."
      ],
      "metadata": {
        "id": "tir9siflI3eF"
      }
    },
    {
      "cell_type": "code",
      "source": [
        "#@ IMPORTING NECESSARY LIBRARIES AND DEPENDENCIES:\n",
        "from keras.models import Sequential\n",
        "from keras.layers import BatchNormalization\n",
        "from keras.layers.convolutional import Conv2D\n",
        "from keras.layers.convolutional import MaxPooling2D\n",
        "from keras.layers.core import Activation\n",
        "from keras.layers.core import Flatten\n",
        "from keras.layers.core import Dense, Dropout\n",
        "from keras import backend as K\n",
        "from tensorflow.keras.optimizers import SGD\n",
        "from tensorflow.keras.datasets import cifar10\n",
        "\n",
        "from sklearn.preprocessing import LabelBinarizer\n",
        "from sklearn.model_selection import train_test_split\n",
        "from sklearn.metrics import classification_report\n",
        "\n",
        "import matplotlib.pyplot as plt\n",
        "import numpy as np"
      ],
      "metadata": {
        "id": "Bzk_8g75I05a"
      },
      "execution_count": 2,
      "outputs": []
    },
    {
      "cell_type": "markdown",
      "source": [
        "**VGG ARCHITECTURE:**\n",
        "- I will define the build method of Mini VGGNet architecture below. It requires four parameters: width of input image, height of input image, depth of image, number of class labels in the classification task. The Sequential class, the building block of sequential networks sequentially stack one layer on top of the other layer initialized below. Batch Normalization operates over the channels, so in order to apply BN, we need to know which axis to normalize over. "
      ],
      "metadata": {
        "id": "5gbRFH9iLGKN"
      }
    },
    {
      "cell_type": "code",
      "source": [
        "#@ DEFINING VGGNET ARCHITECTURE:\n",
        "class MiniVGGNet:                                               # Defining VGG Network. \n",
        "    @staticmethod\n",
        "    def build(width, height, depth, classes):                   # Defining Build Method. \n",
        "        model = Sequential()                                    # Initializing Sequential Model.\n",
        "        inputShape = (width, height, depth)                     # Initializing Input Shape. \n",
        "        chanDim = -1                                            # Index of Channel Dimension.\n",
        "        if K.image_data_format() == \"channels_first\":\n",
        "            inputShape = (depth, width, height)                 # Initializing Input Shape. \n",
        "            chanDim = 1                                         # Index of Channel Dimension. \n",
        "        model.add(Conv2D(32, (3, 3), padding='same', \n",
        "                         input_shape=inputShape))               # Adding Convolutional Layer. \n",
        "        model.add(Activation(\"relu\"))                           # Adding RELU Activation Function. \n",
        "        model.add(BatchNormalization(axis=chanDim))             # Adding Batch Normalization Layer. \n",
        "        model.add(Conv2D(32, (3, 3), padding='same'))           # Adding Convolutional Layer. \n",
        "        model.add(Activation(\"relu\"))                           # Adding RELU Activation Function. \n",
        "        model.add(BatchNormalization(axis=chanDim))             # Adding Batch Normalization Layer. \n",
        "        model.add(MaxPooling2D(pool_size=(2, 2)))               # Adding Max Pooling Layer. \n",
        "        model.add(Dropout(0.25))                                # Adding Dropout Layer.\n",
        "        model.add(Conv2D(64, (3, 3), padding=\"same\"))           # Adding Convolutional Layer. \n",
        "        model.add(Activation(\"relu\"))                           # Adding RELU Activation Function. \n",
        "        model.add(BatchNormalization(axis=chanDim))             # Adding Batch Normalization Layer. \n",
        "        model.add(Conv2D(64, (3, 3), padding='same'))           # Adding Convolutional Layer. \n",
        "        model.add(Activation(\"relu\"))                           # Adding RELU Activation Function. \n",
        "        model.add(BatchNormalization(axis=chanDim))             # Adding Batch Normalization Layer. \n",
        "        model.add(MaxPooling2D(pool_size=(2, 2)))               # Adding Max Pooling Layer. \n",
        "        model.add(Dropout(0.25))                                # Adding Dropout Layer.  \n",
        "        model.add(Flatten())                                    # Adding Flatten Layer. \n",
        "        model.add(Dense(512))                                   # Adding FC Dense Layer. \n",
        "        model.add(Activation(\"relu\"))                           # Adding Activation Layer. \n",
        "        model.add(BatchNormalization())                         # Adding Batch Normalization Layer. \n",
        "        model.add(Dropout(0.5))                                 # Adding Dropout Layer. \n",
        "        model.add(Dense(classes))                               # Adding Dense Output Layer. \n",
        "        model.add(Activation(\"softmax\"))                        # Adding Softmax Layer. \n",
        "        return model"
      ],
      "metadata": {
        "id": "Ej2z0nJ-Kblr"
      },
      "execution_count": 3,
      "outputs": []
    },
    {
      "cell_type": "markdown",
      "source": [
        "**VGGNET ON CIFAR10**"
      ],
      "metadata": {
        "id": "hNQiqb5gAlAU"
      }
    },
    {
      "cell_type": "code",
      "source": [
        "#@ GETTING THE DATASET:\n",
        "((trainX, trainY), (testX, testY)) = cifar10.load_data()            # Loading Dataset. \n",
        "trainX = trainX.astype(\"float\") / 255.0                             # Normalizing Dataset. \n",
        "testX = testX.astype(\"float\") / 255.0                               # Normalizing Dataset. \n",
        "\n",
        "#@ PREPARING THE DATASET:\n",
        "lb = LabelBinarizer()                                               # Initializing LabelBinarizer. \n",
        "trainY = lb.fit_transform(trainY)                                   # Converting Labels to Vectors. \n",
        "testY = lb.transform(testY)                                         # Converting Labels to Vectors. \n",
        "labelNames = [\"airplane\", \"automobile\", \"bird\", \"cat\", \"deer\", \n",
        "              \"dog\", \"frog\", \"horse\", \"ship\", \"truck\"]              # Initializing LabelNames."
      ],
      "metadata": {
        "id": "z-EnWB4J-8kl"
      },
      "execution_count": 6,
      "outputs": []
    },
    {
      "cell_type": "code",
      "source": [
        "#@ INITIALIZING OPTIMIZER AND MODEL: \n",
        "opt = SGD(0.01, decay=0.01/40, nesterov=True, momentum=0.9)            # Initializing SGD Optimizer. \n",
        "model = MiniVGGNet.build(width=32, height=32, depth=3, classes=10)     # Initializing LeNet Architecture. \n",
        "model.compile(loss=\"categorical_crossentropy\",optimizer=opt,\n",
        "              metrics=[\"accuracy\"])                                    # Compiling LeNet Model. \n",
        "H = model.fit(trainX, trainY, \n",
        "              validation_data=(testX, testY), \n",
        "              batch_size=64, epochs=40, verbose=1)                     # Training LeNet Model."
      ],
      "metadata": {
        "colab": {
          "base_uri": "https://localhost:8080/"
        },
        "id": "1lCPFWETBvgf",
        "outputId": "65ba984b-70c6-4009-99f5-e8d82cd78af3"
      },
      "execution_count": 7,
      "outputs": [
        {
          "output_type": "stream",
          "name": "stdout",
          "text": [
            "Epoch 1/40\n",
            "782/782 [==============================] - 18s 22ms/step - loss: 1.6262 - accuracy: 0.4568 - val_loss: 1.5472 - val_accuracy: 0.4843\n",
            "Epoch 2/40\n",
            "782/782 [==============================] - 17s 21ms/step - loss: 1.1464 - accuracy: 0.6036 - val_loss: 0.9188 - val_accuracy: 0.6728\n",
            "Epoch 3/40\n",
            "782/782 [==============================] - 17s 21ms/step - loss: 0.9606 - accuracy: 0.6634 - val_loss: 0.9104 - val_accuracy: 0.6870\n",
            "Epoch 4/40\n",
            "782/782 [==============================] - 17s 22ms/step - loss: 0.8510 - accuracy: 0.7015 - val_loss: 0.8219 - val_accuracy: 0.7118\n",
            "Epoch 5/40\n",
            "782/782 [==============================] - 17s 21ms/step - loss: 0.7757 - accuracy: 0.7260 - val_loss: 0.7369 - val_accuracy: 0.7420\n",
            "Epoch 6/40\n",
            "782/782 [==============================] - 17s 21ms/step - loss: 0.7204 - accuracy: 0.7440 - val_loss: 0.6648 - val_accuracy: 0.7659\n",
            "Epoch 7/40\n",
            "782/782 [==============================] - 17s 21ms/step - loss: 0.6707 - accuracy: 0.7647 - val_loss: 0.6761 - val_accuracy: 0.7676\n",
            "Epoch 8/40\n",
            "782/782 [==============================] - 17s 22ms/step - loss: 0.6394 - accuracy: 0.7747 - val_loss: 0.6277 - val_accuracy: 0.7833\n",
            "Epoch 9/40\n",
            "782/782 [==============================] - 17s 21ms/step - loss: 0.6057 - accuracy: 0.7855 - val_loss: 0.6371 - val_accuracy: 0.7810\n",
            "Epoch 10/40\n",
            "782/782 [==============================] - 17s 21ms/step - loss: 0.5691 - accuracy: 0.7979 - val_loss: 0.6186 - val_accuracy: 0.7867\n",
            "Epoch 11/40\n",
            "782/782 [==============================] - 17s 21ms/step - loss: 0.5489 - accuracy: 0.8057 - val_loss: 0.6064 - val_accuracy: 0.7929\n",
            "Epoch 12/40\n",
            "782/782 [==============================] - 17s 21ms/step - loss: 0.5222 - accuracy: 0.8155 - val_loss: 0.5978 - val_accuracy: 0.7958\n",
            "Epoch 13/40\n",
            "782/782 [==============================] - 17s 22ms/step - loss: 0.5057 - accuracy: 0.8207 - val_loss: 0.6049 - val_accuracy: 0.7964\n",
            "Epoch 14/40\n",
            "782/782 [==============================] - 17s 21ms/step - loss: 0.4814 - accuracy: 0.8301 - val_loss: 0.5913 - val_accuracy: 0.7984\n",
            "Epoch 15/40\n",
            "782/782 [==============================] - 17s 21ms/step - loss: 0.4592 - accuracy: 0.8375 - val_loss: 0.5759 - val_accuracy: 0.8056\n",
            "Epoch 16/40\n",
            "782/782 [==============================] - 17s 21ms/step - loss: 0.4437 - accuracy: 0.8404 - val_loss: 0.6157 - val_accuracy: 0.7976\n",
            "Epoch 17/40\n",
            "782/782 [==============================] - 17s 21ms/step - loss: 0.4300 - accuracy: 0.8467 - val_loss: 0.5688 - val_accuracy: 0.8125\n",
            "Epoch 18/40\n",
            "782/782 [==============================] - 17s 21ms/step - loss: 0.4146 - accuracy: 0.8529 - val_loss: 0.5746 - val_accuracy: 0.8088\n",
            "Epoch 19/40\n",
            "782/782 [==============================] - 17s 21ms/step - loss: 0.4052 - accuracy: 0.8560 - val_loss: 0.5661 - val_accuracy: 0.8121\n",
            "Epoch 20/40\n",
            "782/782 [==============================] - 17s 22ms/step - loss: 0.3945 - accuracy: 0.8612 - val_loss: 0.5633 - val_accuracy: 0.8156\n",
            "Epoch 21/40\n",
            "782/782 [==============================] - 17s 22ms/step - loss: 0.3765 - accuracy: 0.8657 - val_loss: 0.5629 - val_accuracy: 0.8156\n",
            "Epoch 22/40\n",
            "782/782 [==============================] - 17s 22ms/step - loss: 0.3660 - accuracy: 0.8690 - val_loss: 0.5756 - val_accuracy: 0.8123\n",
            "Epoch 23/40\n",
            "782/782 [==============================] - 17s 22ms/step - loss: 0.3571 - accuracy: 0.8737 - val_loss: 0.5777 - val_accuracy: 0.8132\n",
            "Epoch 24/40\n",
            "782/782 [==============================] - 17s 22ms/step - loss: 0.3530 - accuracy: 0.8749 - val_loss: 0.5564 - val_accuracy: 0.8198\n",
            "Epoch 25/40\n",
            "782/782 [==============================] - 17s 22ms/step - loss: 0.3410 - accuracy: 0.8790 - val_loss: 0.5604 - val_accuracy: 0.8178\n",
            "Epoch 26/40\n",
            "782/782 [==============================] - 17s 22ms/step - loss: 0.3276 - accuracy: 0.8843 - val_loss: 0.5716 - val_accuracy: 0.8164\n",
            "Epoch 27/40\n",
            "782/782 [==============================] - 17s 22ms/step - loss: 0.3191 - accuracy: 0.8873 - val_loss: 0.5664 - val_accuracy: 0.8156\n",
            "Epoch 28/40\n",
            "782/782 [==============================] - 17s 22ms/step - loss: 0.3096 - accuracy: 0.8894 - val_loss: 0.5607 - val_accuracy: 0.8210\n",
            "Epoch 29/40\n",
            "782/782 [==============================] - 17s 22ms/step - loss: 0.3088 - accuracy: 0.8897 - val_loss: 0.5598 - val_accuracy: 0.8240\n",
            "Epoch 30/40\n",
            "782/782 [==============================] - 17s 21ms/step - loss: 0.2966 - accuracy: 0.8944 - val_loss: 0.5749 - val_accuracy: 0.8187\n",
            "Epoch 31/40\n",
            "782/782 [==============================] - 17s 22ms/step - loss: 0.2901 - accuracy: 0.8972 - val_loss: 0.5706 - val_accuracy: 0.8193\n",
            "Epoch 32/40\n",
            "782/782 [==============================] - 17s 22ms/step - loss: 0.2867 - accuracy: 0.8970 - val_loss: 0.5696 - val_accuracy: 0.8257\n",
            "Epoch 33/40\n",
            "782/782 [==============================] - 17s 21ms/step - loss: 0.2797 - accuracy: 0.8998 - val_loss: 0.5641 - val_accuracy: 0.8226\n",
            "Epoch 34/40\n",
            "782/782 [==============================] - 17s 22ms/step - loss: 0.2766 - accuracy: 0.9009 - val_loss: 0.5599 - val_accuracy: 0.8254\n",
            "Epoch 35/40\n",
            "782/782 [==============================] - 17s 22ms/step - loss: 0.2677 - accuracy: 0.9046 - val_loss: 0.5714 - val_accuracy: 0.8187\n",
            "Epoch 36/40\n",
            "782/782 [==============================] - 17s 21ms/step - loss: 0.2681 - accuracy: 0.9038 - val_loss: 0.5699 - val_accuracy: 0.8209\n",
            "Epoch 37/40\n",
            "782/782 [==============================] - 17s 21ms/step - loss: 0.2582 - accuracy: 0.9081 - val_loss: 0.5652 - val_accuracy: 0.8230\n",
            "Epoch 38/40\n",
            "782/782 [==============================] - 17s 22ms/step - loss: 0.2514 - accuracy: 0.9088 - val_loss: 0.5673 - val_accuracy: 0.8262\n",
            "Epoch 39/40\n",
            "782/782 [==============================] - 17s 21ms/step - loss: 0.2475 - accuracy: 0.9122 - val_loss: 0.5674 - val_accuracy: 0.8242\n",
            "Epoch 40/40\n",
            "782/782 [==============================] - 17s 21ms/step - loss: 0.2484 - accuracy: 0.9106 - val_loss: 0.5713 - val_accuracy: 0.8239\n"
          ]
        }
      ]
    },
    {
      "cell_type": "markdown",
      "source": [
        "**MODEL EVALUATION:**"
      ],
      "metadata": {
        "id": "VYWybYDuELRf"
      }
    },
    {
      "cell_type": "code",
      "source": [
        "#@ INITIALIZING MODEL EVALUATION:\n",
        "predictions = model.predict(testX, batch_size=64)           # Getting Model Predictions. \n",
        "print(classification_report(testY.argmax(axis=1),\n",
        "                            predictions.argmax(axis=1), \n",
        "                            target_names=labelNames))       # Inspecting Classification Report."
      ],
      "metadata": {
        "colab": {
          "base_uri": "https://localhost:8080/"
        },
        "id": "HZXqORsIDAtg",
        "outputId": "aa9e88e8-d19f-4496-d381-5edaa0c63b76"
      },
      "execution_count": 8,
      "outputs": [
        {
          "output_type": "stream",
          "name": "stdout",
          "text": [
            "              precision    recall  f1-score   support\n",
            "\n",
            "    airplane       0.86      0.81      0.84      1000\n",
            "  automobile       0.93      0.90      0.91      1000\n",
            "        bird       0.76      0.73      0.75      1000\n",
            "         cat       0.70      0.67      0.68      1000\n",
            "        deer       0.75      0.84      0.79      1000\n",
            "         dog       0.76      0.75      0.75      1000\n",
            "        frog       0.83      0.87      0.85      1000\n",
            "       horse       0.90      0.84      0.87      1000\n",
            "        ship       0.89      0.92      0.90      1000\n",
            "       truck       0.87      0.90      0.89      1000\n",
            "\n",
            "    accuracy                           0.82     10000\n",
            "   macro avg       0.82      0.82      0.82     10000\n",
            "weighted avg       0.82      0.82      0.82     10000\n",
            "\n"
          ]
        }
      ]
    },
    {
      "cell_type": "code",
      "source": [
        "#@ INSPECTING TRAINING LOSS AND ACCURACY:\n",
        "plt.style.use(\"ggplot\")\n",
        "plt.figure()\n",
        "plt.plot(np.arange(0, 40), H.history[\"loss\"], label=\"train_loss\")\n",
        "plt.plot(np.arange(0, 40), H.history[\"val_loss\"], label=\"val_loss\")\n",
        "plt.plot(np.arange(0, 40), H.history[\"accuracy\"], label=\"train_acc\")\n",
        "plt.plot(np.arange(0, 40), H.history[\"val_accuracy\"], label=\"val_acc\")\n",
        "plt.title(\"Training Loss and Accuracy\")\n",
        "plt.xlabel(\"Epoch\")\n",
        "plt.ylabel(\"Loss/Accuracy\")\n",
        "plt.legend()\n",
        "plt.show();"
      ],
      "metadata": {
        "colab": {
          "base_uri": "https://localhost:8080/",
          "height": 299
        },
        "id": "eCeJOSaJEdLC",
        "outputId": "d6d1317f-8758-4cf6-c28a-7f681dc079c9"
      },
      "execution_count": 9,
      "outputs": [
        {
          "output_type": "display_data",
          "data": {
            "image/png": "[encoded data removed]",
            "text/plain": [
              "<Figure size 432x288 with 1 Axes>"
            ]
          },
          "metadata": {}
        }
      ]
    },
    {
      "cell_type": "markdown",
      "source": [
        "**Note:**\n",
        "- Batch Normalization can lead to a faster, more stable convergence with higher accuracy. \n",
        "- Batch Normalization will require more wall time to train the network even though the network will obtain higher accuracy in less epochs. "
      ],
      "metadata": {
        "id": "cfm34boWToGw"
      }
    }
  ]
}