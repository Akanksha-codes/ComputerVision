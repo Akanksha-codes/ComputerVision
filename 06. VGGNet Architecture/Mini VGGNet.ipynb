{
  "nbformat": 4,
  "nbformat_minor": 0,
  "metadata": {
    "colab": {
      "name": "Mini VGGNet.ipynb",
      "provenance": []
    },
    "kernelspec": {
      "name": "python3",
      "display_name": "Python 3"
    },
    "language_info": {
      "name": "python"
    },
    "accelerator": "GPU"
  },
  "cells": [
    {
      "cell_type": "markdown",
      "source": [
        "**INITIALIZATION:**\n",
        "- I use these three lines of code on top of my each notebooks because it will help to prevent any problems while reloading the same project. And the third line of code helps to make visualization within the notebook."
      ],
      "metadata": {
        "id": "5Vmy0mCIIvZy"
      }
    },
    {
      "cell_type": "code",
      "execution_count": 1,
      "metadata": {
        "id": "5L3NmJeWFUEA"
      },
      "outputs": [],
      "source": [
        "#@ INITIALIZATION: \n",
        "%reload_ext autoreload\n",
        "%autoreload 2\n",
        "%matplotlib inline"
      ]
    },
    {
      "cell_type": "markdown",
      "source": [
        "**LIBRARIES AND DEPENDENCIES:**\n",
        "- I have downloaded all the libraries and dependencies required for the project in one particular cell."
      ],
      "metadata": {
        "id": "tir9siflI3eF"
      }
    },
    {
      "cell_type": "code",
      "source": [
        "#@ IMPORTING NECESSARY LIBRARIES AND DEPENDENCIES:\n",
        "from keras.models import Sequential\n",
        "from keras.layers import BatchNormalization\n",
        "from keras.layers.convolutional import Conv2D\n",
        "from keras.layers.convolutional import MaxPooling2D\n",
        "from keras.layers.core import Activation\n",
        "from keras.layers.core import Flatten\n",
        "from keras.layers.core import Dense, Dropout\n",
        "from keras import backend as K\n",
        "from tensorflow.keras.optimizers import SGD\n",
        "from tensorflow.keras.datasets import cifar10\n",
        "\n",
        "from sklearn.preprocessing import LabelBinarizer\n",
        "from sklearn.model_selection import train_test_split\n",
        "from sklearn.metrics import classification_report\n",
        "\n",
        "import matplotlib.pyplot as plt\n",
        "import numpy as np"
      ],
      "metadata": {
        "id": "Bzk_8g75I05a"
      },
      "execution_count": 2,
      "outputs": []
    },
    {
      "cell_type": "markdown",
      "source": [
        "**VGG ARCHITECTURE:**\n",
        "- I will define the build method of Mini VGGNet architecture below. It requires four parameters: width of input image, height of input image, depth of image, number of class labels in the classification task. The Sequential class, the building block of sequential networks sequentially stack one layer on top of the other layer initialized below. Batch Normalization operates over the channels, so in order to apply BN, we need to know which axis to normalize over. "
      ],
      "metadata": {
        "id": "5gbRFH9iLGKN"
      }
    },
    {
      "cell_type": "code",
      "source": [
        "#@ DEFINING VGGNET ARCHITECTURE:\n",
        "class MiniVGGNet:                                               # Defining VGG Network. \n",
        "    @staticmethod\n",
        "    def build(width, height, depth, classes):                   # Defining Build Method. \n",
        "        model = Sequential()                                    # Initializing Sequential Model.\n",
        "        inputShape = (width, height, depth)                     # Initializing Input Shape. \n",
        "        chanDim = -1                                            # Index of Channel Dimension.\n",
        "        if K.image_data_format() == \"channels_first\":\n",
        "            inputShape = (depth, width, height)                 # Initializing Input Shape. \n",
        "            chanDim = 1                                         # Index of Channel Dimension. \n",
        "        model.add(Conv2D(32, (3, 3), padding='same', \n",
        "                         input_shape=inputShape))               # Adding Convolutional Layer. \n",
        "        model.add(Activation(\"relu\"))                           # Adding RELU Activation Function. \n",
        "        model.add(BatchNormalization(axis=chanDim))             # Adding Batch Normalization Layer. \n",
        "        model.add(Conv2D(32, (3, 3), padding='same'))           # Adding Convolutional Layer. \n",
        "        model.add(Activation(\"relu\"))                           # Adding RELU Activation Function. \n",
        "        model.add(BatchNormalization(axis=chanDim))             # Adding Batch Normalization Layer. \n",
        "        model.add(MaxPooling2D(pool_size=(2, 2)))               # Adding Max Pooling Layer. \n",
        "        model.add(Dropout(0.25))                                # Adding Dropout Layer.\n",
        "        model.add(Conv2D(64, (3, 3), padding=\"same\"))           # Adding Convolutional Layer. \n",
        "        model.add(Activation(\"relu\"))                           # Adding RELU Activation Function. \n",
        "        model.add(BatchNormalization(axis=chanDim))             # Adding Batch Normalization Layer. \n",
        "        model.add(Conv2D(64, (3, 3), padding='same'))           # Adding Convolutional Layer. \n",
        "        model.add(Activation(\"relu\"))                           # Adding RELU Activation Function. \n",
        "        model.add(BatchNormalization(axis=chanDim))             # Adding Batch Normalization Layer. \n",
        "        model.add(MaxPooling2D(pool_size=(2, 2)))               # Adding Max Pooling Layer. \n",
        "        model.add(Dropout(0.25))                                # Adding Dropout Layer.  \n",
        "        model.add(Flatten())                                    # Adding Flatten Layer. \n",
        "        model.add(Dense(512))                                   # Adding FC Dense Layer. \n",
        "        model.add(Activation(\"relu\"))                           # Adding Activation Layer. \n",
        "        model.add(BatchNormalization())                         # Adding Batch Normalization Layer. \n",
        "        model.add(Dropout(0.5))                                 # Adding Dropout Layer. \n",
        "        model.add(Dense(classes))                               # Adding Dense Output Layer. \n",
        "        model.add(Activation(\"softmax\"))                        # Adding Softmax Layer. \n",
        "        return model"
      ],
      "metadata": {
        "id": "Ej2z0nJ-Kblr"
      },
      "execution_count": 3,
      "outputs": []
    },
    {
      "cell_type": "markdown",
      "source": [
        "**VGGNET ON CIFAR10**"
      ],
      "metadata": {
        "id": "hNQiqb5gAlAU"
      }
    },
    {
      "cell_type": "code",
      "source": [
        "#@ GETTING THE DATASET:\n",
        "((trainX, trainY), (testX, testY)) = cifar10.load_data()            # Loading Dataset. \n",
        "trainX = trainX.astype(\"float\") / 255.0                             # Normalizing Dataset. \n",
        "testX = testX.astype(\"float\") / 255.0                               # Normalizing Dataset. \n",
        "\n",
        "#@ PREPARING THE DATASET:\n",
        "lb = LabelBinarizer()                                               # Initializing LabelBinarizer. \n",
        "trainY = lb.fit_transform(trainY)                                   # Converting Labels to Vectors. \n",
        "testY = lb.transform(testY)                                         # Converting Labels to Vectors. \n",
        "labelNames = [\"airplane\", \"automobile\", \"bird\", \"cat\", \"deer\", \n",
        "              \"dog\", \"frog\", \"horse\", \"ship\", \"truck\"]              # Initializing LabelNames."
      ],
      "metadata": {
        "id": "z-EnWB4J-8kl"
      },
      "execution_count": 5,
      "outputs": []
    },
    {
      "cell_type": "code",
      "source": [
        "#@ INITIALIZING OPTIMIZER AND MODEL: \n",
        "opt = SGD(0.01, decay=0.01/40, nesterov=True, momentum=0.9)            # Initializing SGD Optimizer. \n",
        "model = MiniVGGNet.build(width=32, height=32, depth=3, classes=10)     # Initializing LeNet Architecture. \n",
        "model.compile(loss=\"categorical_crossentropy\",optimizer=opt,\n",
        "              metrics=[\"accuracy\"])                                    # Compiling LeNet Model. \n",
        "H = model.fit(trainX, trainY, \n",
        "              validation_data=(testX, testY), \n",
        "              batch_size=64, epochs=40, verbose=1)                     # Training LeNet Model."
      ],
      "metadata": {
        "colab": {
          "base_uri": "https://localhost:8080/"
        },
        "id": "1lCPFWETBvgf",
        "outputId": "fe25cea5-274e-4e4d-bfa6-38e21e6ecf88"
      },
      "execution_count": 6,
      "outputs": [
        {
          "output_type": "stream",
          "name": "stdout",
          "text": [
            "Epoch 1/40\n",
            "782/782 [==============================] - 30s 23ms/step - loss: 1.5794 - accuracy: 0.4727 - val_loss: 1.3234 - val_accuracy: 0.5430\n",
            "Epoch 2/40\n",
            "782/782 [==============================] - 17s 22ms/step - loss: 1.1188 - accuracy: 0.6088 - val_loss: 1.3651 - val_accuracy: 0.5409\n",
            "Epoch 3/40\n",
            "782/782 [==============================] - 17s 21ms/step - loss: 0.9449 - accuracy: 0.6680 - val_loss: 0.9838 - val_accuracy: 0.6424\n",
            "Epoch 4/40\n",
            "782/782 [==============================] - 17s 22ms/step - loss: 0.8399 - accuracy: 0.7046 - val_loss: 0.8143 - val_accuracy: 0.7153\n",
            "Epoch 5/40\n",
            "782/782 [==============================] - 17s 21ms/step - loss: 0.7723 - accuracy: 0.7298 - val_loss: 0.6907 - val_accuracy: 0.7568\n",
            "Epoch 6/40\n",
            "782/782 [==============================] - 17s 21ms/step - loss: 0.7108 - accuracy: 0.7487 - val_loss: 0.6834 - val_accuracy: 0.7592\n",
            "Epoch 7/40\n",
            "782/782 [==============================] - 17s 22ms/step - loss: 0.6780 - accuracy: 0.7615 - val_loss: 0.7286 - val_accuracy: 0.7457\n",
            "Epoch 8/40\n",
            "782/782 [==============================] - 17s 21ms/step - loss: 0.6357 - accuracy: 0.7764 - val_loss: 0.6885 - val_accuracy: 0.7619\n",
            "Epoch 9/40\n",
            "782/782 [==============================] - 17s 21ms/step - loss: 0.6085 - accuracy: 0.7840 - val_loss: 0.6425 - val_accuracy: 0.7787\n",
            "Epoch 10/40\n",
            "782/782 [==============================] - 17s 22ms/step - loss: 0.5746 - accuracy: 0.7960 - val_loss: 0.5868 - val_accuracy: 0.7935\n",
            "Epoch 11/40\n",
            "782/782 [==============================] - 17s 22ms/step - loss: 0.5584 - accuracy: 0.8031 - val_loss: 0.5987 - val_accuracy: 0.7904\n",
            "Epoch 12/40\n",
            "782/782 [==============================] - 17s 21ms/step - loss: 0.5239 - accuracy: 0.8128 - val_loss: 0.5808 - val_accuracy: 0.8027\n",
            "Epoch 13/40\n",
            "782/782 [==============================] - 17s 21ms/step - loss: 0.5143 - accuracy: 0.8173 - val_loss: 0.5836 - val_accuracy: 0.8002\n",
            "Epoch 14/40\n",
            "782/782 [==============================] - 17s 22ms/step - loss: 0.4898 - accuracy: 0.8287 - val_loss: 0.5739 - val_accuracy: 0.8049\n",
            "Epoch 15/40\n",
            "782/782 [==============================] - 17s 21ms/step - loss: 0.4703 - accuracy: 0.8333 - val_loss: 0.5672 - val_accuracy: 0.8074\n",
            "Epoch 16/40\n",
            "782/782 [==============================] - 17s 22ms/step - loss: 0.4516 - accuracy: 0.8391 - val_loss: 0.5702 - val_accuracy: 0.8029\n",
            "Epoch 17/40\n",
            "782/782 [==============================] - 17s 21ms/step - loss: 0.4413 - accuracy: 0.8436 - val_loss: 0.5533 - val_accuracy: 0.8127\n",
            "Epoch 18/40\n",
            "782/782 [==============================] - 17s 21ms/step - loss: 0.4251 - accuracy: 0.8482 - val_loss: 0.5530 - val_accuracy: 0.8167\n",
            "Epoch 19/40\n",
            "782/782 [==============================] - 17s 21ms/step - loss: 0.4101 - accuracy: 0.8535 - val_loss: 0.5526 - val_accuracy: 0.8165\n",
            "Epoch 20/40\n",
            "782/782 [==============================] - 17s 21ms/step - loss: 0.4033 - accuracy: 0.8565 - val_loss: 0.5541 - val_accuracy: 0.8149\n",
            "Epoch 21/40\n",
            "782/782 [==============================] - 17s 21ms/step - loss: 0.3934 - accuracy: 0.8601 - val_loss: 0.5581 - val_accuracy: 0.8146\n",
            "Epoch 22/40\n",
            "782/782 [==============================] - 17s 22ms/step - loss: 0.3768 - accuracy: 0.8654 - val_loss: 0.5441 - val_accuracy: 0.8190\n",
            "Epoch 23/40\n",
            "782/782 [==============================] - 17s 21ms/step - loss: 0.3642 - accuracy: 0.8683 - val_loss: 0.5642 - val_accuracy: 0.8121\n",
            "Epoch 24/40\n",
            "782/782 [==============================] - 17s 22ms/step - loss: 0.3597 - accuracy: 0.8721 - val_loss: 0.5404 - val_accuracy: 0.8226\n",
            "Epoch 25/40\n",
            "782/782 [==============================] - 17s 21ms/step - loss: 0.3480 - accuracy: 0.8766 - val_loss: 0.5327 - val_accuracy: 0.8244\n",
            "Epoch 26/40\n",
            "782/782 [==============================] - 17s 21ms/step - loss: 0.3403 - accuracy: 0.8778 - val_loss: 0.5524 - val_accuracy: 0.8196\n",
            "Epoch 27/40\n",
            "782/782 [==============================] - 17s 21ms/step - loss: 0.3334 - accuracy: 0.8810 - val_loss: 0.5469 - val_accuracy: 0.8181\n",
            "Epoch 28/40\n",
            "782/782 [==============================] - 17s 21ms/step - loss: 0.3287 - accuracy: 0.8823 - val_loss: 0.5784 - val_accuracy: 0.8160\n",
            "Epoch 29/40\n",
            "782/782 [==============================] - 17s 21ms/step - loss: 0.3129 - accuracy: 0.8889 - val_loss: 0.5477 - val_accuracy: 0.8220\n",
            "Epoch 30/40\n",
            "782/782 [==============================] - 17s 22ms/step - loss: 0.3027 - accuracy: 0.8914 - val_loss: 0.5503 - val_accuracy: 0.8215\n",
            "Epoch 31/40\n",
            "782/782 [==============================] - 17s 21ms/step - loss: 0.3003 - accuracy: 0.8923 - val_loss: 0.5373 - val_accuracy: 0.8278\n",
            "Epoch 32/40\n",
            "782/782 [==============================] - 17s 22ms/step - loss: 0.2912 - accuracy: 0.8949 - val_loss: 0.5574 - val_accuracy: 0.8232\n",
            "Epoch 33/40\n",
            "782/782 [==============================] - 17s 21ms/step - loss: 0.2921 - accuracy: 0.8954 - val_loss: 0.5514 - val_accuracy: 0.8227\n",
            "Epoch 34/40\n",
            "782/782 [==============================] - 17s 22ms/step - loss: 0.2852 - accuracy: 0.8967 - val_loss: 0.5421 - val_accuracy: 0.8264\n",
            "Epoch 35/40\n",
            "782/782 [==============================] - 17s 21ms/step - loss: 0.2798 - accuracy: 0.8993 - val_loss: 0.5424 - val_accuracy: 0.8290\n",
            "Epoch 36/40\n",
            "782/782 [==============================] - 17s 21ms/step - loss: 0.2711 - accuracy: 0.9025 - val_loss: 0.5615 - val_accuracy: 0.8204\n",
            "Epoch 37/40\n",
            "782/782 [==============================] - 17s 21ms/step - loss: 0.2689 - accuracy: 0.9025 - val_loss: 0.5456 - val_accuracy: 0.8280\n",
            "Epoch 38/40\n",
            "782/782 [==============================] - 17s 21ms/step - loss: 0.2610 - accuracy: 0.9064 - val_loss: 0.5608 - val_accuracy: 0.8242\n",
            "Epoch 39/40\n",
            "782/782 [==============================] - 17s 21ms/step - loss: 0.2589 - accuracy: 0.9070 - val_loss: 0.5555 - val_accuracy: 0.8291\n",
            "Epoch 40/40\n",
            "782/782 [==============================] - 17s 22ms/step - loss: 0.2513 - accuracy: 0.9103 - val_loss: 0.5544 - val_accuracy: 0.8271\n"
          ]
        }
      ]
    },
    {
      "cell_type": "markdown",
      "source": [
        "**MODEL EVALUATION:**"
      ],
      "metadata": {
        "id": "VYWybYDuELRf"
      }
    },
    {
      "cell_type": "code",
      "source": [
        "#@ INITIALIZING MODEL EVALUATION:\n",
        "predictions = model.predict(testX, batch_size=64)           # Getting Model Predictions. \n",
        "print(classification_report(testY.argmax(axis=1),\n",
        "                            predictions.argmax(axis=1), \n",
        "                            target_names=labelNames))       # Inspecting Classification Report."
      ],
      "metadata": {
        "colab": {
          "base_uri": "https://localhost:8080/"
        },
        "id": "HZXqORsIDAtg",
        "outputId": "72206674-71f4-44cc-d557-549041e9bd0f"
      },
      "execution_count": 8,
      "outputs": [
        {
          "output_type": "stream",
          "name": "stdout",
          "text": [
            "              precision    recall  f1-score   support\n",
            "\n",
            "    airplane       0.84      0.85      0.84      1000\n",
            "  automobile       0.93      0.90      0.91      1000\n",
            "        bird       0.81      0.71      0.76      1000\n",
            "         cat       0.70      0.67      0.68      1000\n",
            "        deer       0.76      0.85      0.80      1000\n",
            "         dog       0.76      0.73      0.75      1000\n",
            "        frog       0.84      0.89      0.87      1000\n",
            "       horse       0.88      0.87      0.87      1000\n",
            "        ship       0.89      0.90      0.90      1000\n",
            "       truck       0.87      0.91      0.89      1000\n",
            "\n",
            "    accuracy                           0.83     10000\n",
            "   macro avg       0.83      0.83      0.83     10000\n",
            "weighted avg       0.83      0.83      0.83     10000\n",
            "\n"
          ]
        }
      ]
    },
    {
      "cell_type": "code",
      "source": [
        "#@ INSPECTING TRAINING LOSS AND ACCURACY:\n",
        "plt.style.use(\"ggplot\")\n",
        "plt.figure()\n",
        "plt.plot(np.arange(0, 40), H.history[\"loss\"], label=\"train_loss\")\n",
        "plt.plot(np.arange(0, 40), H.history[\"val_loss\"], label=\"val_loss\")\n",
        "plt.plot(np.arange(0, 40), H.history[\"accuracy\"], label=\"train_acc\")\n",
        "plt.plot(np.arange(0, 40), H.history[\"val_accuracy\"], label=\"val_acc\")\n",
        "plt.title(\"Training Loss and Accuracy\")\n",
        "plt.xlabel(\"Epoch\")\n",
        "plt.ylabel(\"Loss/Accuracy\")\n",
        "plt.legend()\n",
        "plt.show();"
      ],
      "metadata": {
        "colab": {
          "base_uri": "https://localhost:8080/",
          "height": 299
        },
        "id": "eCeJOSaJEdLC",
        "outputId": "2149d4ba-f8dd-4e31-b28d-bfe0d4fe27c3"
      },
      "execution_count": 9,
      "outputs": [
        {
          "output_type": "display_data",
          "data": {
            "image/png": "[encoded data removed]",
            "text/plain": [
              "<Figure size 432x288 with 1 Axes>"
            ]
          },
          "metadata": {}
        }
      ]
    },
    {
      "cell_type": "code",
      "source": [
        ""
      ],
      "metadata": {
        "id": "90GFKPc6GYat"
      },
      "execution_count": null,
      "outputs": []
    }
  ]
}