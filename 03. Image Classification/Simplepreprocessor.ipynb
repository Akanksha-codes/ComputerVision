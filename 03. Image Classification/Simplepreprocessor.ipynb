{
  "nbformat": 4,
  "nbformat_minor": 0,
  "metadata": {
    "colab": {
      "name": "Simplepreprocessor.ipynb",
      "provenance": [],
      "collapsed_sections": []
    },
    "kernelspec": {
      "name": "python3",
      "display_name": "Python 3"
    },
    "language_info": {
      "name": "python"
    }
  },
  "cells": [
    {
      "cell_type": "markdown",
      "metadata": {
        "id": "xb0Eq2h3pkY0"
      },
      "source": [
        "**LIBRARIES AND DEPENDENCIES:**\n",
        "- I have downloaded all the libraries and dependencies required for the project in one particular cell."
      ]
    },
    {
      "cell_type": "code",
      "metadata": {
        "id": "KpbKYZvxiPTd"
      },
      "source": [
        "#@ GETTING LIBRARIES AND DEPENDENCIES: UNCOMMENT BELOW: \n",
        "# !python /content/simplepreprocessor.py"
      ],
      "execution_count": 1,
      "outputs": []
    },
    {
      "cell_type": "code",
      "metadata": {
        "id": "eBJAB3K7jiZZ"
      },
      "source": [
        "#@ IMPORTING LIBRARIES AND PACKAGES: \n",
        "import cv2\n",
        "import numpy as np\n",
        "import os\n",
        "\n",
        "from sklearn.neighbors import KNeighborsClassifier\n",
        "from sklearn.preprocessing import LabelEncoder\n",
        "from sklearn.model_selection import train_test_split\n",
        "from sklearn.metrics import classification_report\n",
        "from simplepreprocessor import SimplePreprocessor\n",
        "from simplepreprocessor import SimpleDatasetLoader \n",
        "from imutils import paths"
      ],
      "execution_count": 2,
      "outputs": []
    },
    {
      "cell_type": "markdown",
      "metadata": {
        "id": "GwfQHwzSp3U8"
      },
      "source": [
        "**IMAGE PREPROCESSOR:**\n",
        "- I will build an image preprocessor that resizes the image, ignoring the aspect ratio. "
      ]
    },
    {
      "cell_type": "code",
      "metadata": {
        "id": "pL3kk7skj0k4"
      },
      "source": [
        "#@ INITIALIZING SIMPLE PREPROCESSOR:\n",
        "class SimplePreprocessor:                                       # Defining Simple Preprocessor. \n",
        "    def __init__(self, width, height, inter=cv2.INTER_AREA):    # Initializing Constructor Function. \n",
        "        self.width = width                                      # Initialization. \n",
        "        self.height = height                                    # Initialization. \n",
        "        self.inter = inter                                      # Initialization. \n",
        "\n",
        "    def preprocess(self, image):                                # Defining Preprocess Function. \n",
        "        return cv2.resize(image, (self.width, self.height), \n",
        "                          interpolation=self.inter)             # Resizing Image. "
      ],
      "execution_count": 3,
      "outputs": []
    },
    {
      "cell_type": "markdown",
      "metadata": {
        "id": "Awkasacxq1OB"
      },
      "source": [
        "**IMAGE LOADER:**"
      ]
    },
    {
      "cell_type": "code",
      "metadata": {
        "id": "tJGbNAsGleV0"
      },
      "source": [
        "#@ INITIALIZING DATASET LOADER: \n",
        "class SimpleDatasetLoader:                                      # Defining Simple Image Loader. \n",
        "    def __init__(self, preprocessors=None):                     # Initializing Constructor Function. \n",
        "        self.preprocessors = preprocessors                      # Initialization. \n",
        "        if self.preprocessors is None:                          # Inspection. \n",
        "            self.preprocessors = []                             # Initializing Empty List.\n",
        "    \n",
        "    def load(self, imagePaths, verbose=-1):                     # Defining Load Function. \n",
        "        data, labels = [], []                                   # Initializing Empty List.\n",
        "        for (i, imagePath) in enumerate(imagePaths):\n",
        "            image = cv2.imread(imagePath)                       # Reading Image. \n",
        "            label = imagePath.split(os.path.sep)[-2]            # Getting Labels. \n",
        "            if self.preprocessors is not None:\n",
        "                for p in self.preprocessors:\n",
        "                    image = p.preprocess(image)                 # Preprocessing Image. \n",
        "            data.append(image)                                  # Updating Data. \n",
        "            labels.append(label)                                # Updating Label. \n",
        "            if verbose > 0 and i > 0 and (i+1)%verbose == 0:\n",
        "                print(\"[INFO] processed {}/{}\".format(\n",
        "                    i + 1, len(imagePaths)))                    # Showing Updates. \n",
        "        return (np.array(data), np.array(labels))               # Initializing Array of Data. "
      ],
      "execution_count": 4,
      "outputs": []
    },
    {
      "cell_type": "markdown",
      "metadata": {
        "id": "ewSTj0enq6PM"
      },
      "source": [
        "**K-NEAREST NEIGHBOR:**"
      ]
    },
    {
      "cell_type": "code",
      "metadata": {
        "id": "y9x1Shb0sYg2"
      },
      "source": [
        "#@ GETTING DATASET: UNCOMMENT BELOW: \n",
        "# !unzip /content/drive/MyDrive/Data/animals.zip"
      ],
      "execution_count": 6,
      "outputs": []
    },
    {
      "cell_type": "code",
      "metadata": {
        "id": "CtUp594awpEO",
        "colab": {
          "base_uri": "https://localhost:8080/"
        },
        "outputId": "b10b0fac-6de6-406f-b36a-ee3558e1a1a1"
      },
      "source": [
        "#@ PREPROCESSING DATASET: \n",
        "imagePaths = list(paths.list_images(\"/content/animals\"))         # Getting Image Paths. \n",
        "sp = SimplePreprocessor(32, 32)                                  # Initializing Image Resizing. \n",
        "sdl = SimpleDatasetLoader(preprocessors=[sp])                    # Initializing Dataset Loader. \n",
        "(data, labels) = sdl.load(imagePaths, verbose=500)               # Initializing Data and Labels. \n",
        "data = data.reshape((data.shape[0], 3072))                       # Initializing Flatten. \n",
        "\n",
        "#@ ENCODING LABELS: \n",
        "le = LabelEncoder()                                              # Initializing Label Encoder. \n",
        "labels = le.fit_transform(labels)                                # Encoding Labels as Integers. \n",
        "(trainX, testX, trainY, testY) = train_test_split(\n",
        "    data, labels, test_size=0.25, random_state=42)               # Initializing Training and Testing. \n",
        "\n",
        "#@ K-NEAREST NEIGHBOR ALGORITHMS: \n",
        "model = KNeighborsClassifier(n_neighbors=1, n_jobs=-1)           # Initializing KNN Classifier. \n",
        "model.fit(trainX, trainY)                                        # Training KNN Classifier. \n",
        "print(classification_report(testY, model.predict(testX), \n",
        "                            target_names=le.classes_))           # Inspecting Classification Report. "
      ],
      "execution_count": 8,
      "outputs": [
        {
          "output_type": "stream",
          "name": "stdout",
          "text": [
            "[INFO] processed 500/3000\n",
            "[INFO] processed 1000/3000\n",
            "[INFO] processed 1500/3000\n",
            "[INFO] processed 2000/3000\n",
            "[INFO] processed 2500/3000\n",
            "[INFO] processed 3000/3000\n",
            "              precision    recall  f1-score   support\n",
            "\n",
            "        cats       0.41      0.53      0.46       249\n",
            "        dogs       0.37      0.49      0.42       239\n",
            "       panda       0.80      0.33      0.46       262\n",
            "\n",
            "    accuracy                           0.45       750\n",
            "   macro avg       0.52      0.45      0.45       750\n",
            "weighted avg       0.53      0.45      0.45       750\n",
            "\n"
          ]
        }
      ]
    }
  ]
}