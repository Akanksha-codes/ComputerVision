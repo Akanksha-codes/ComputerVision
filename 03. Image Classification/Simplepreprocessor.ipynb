{
  "nbformat": 4,
  "nbformat_minor": 0,
  "metadata": {
    "colab": {
      "name": "Simplepreprocessor.ipynb",
      "provenance": []
    },
    "kernelspec": {
      "name": "python3",
      "display_name": "Python 3"
    },
    "language_info": {
      "name": "python"
    }
  },
  "cells": [
    {
      "cell_type": "markdown",
      "metadata": {
        "id": "xb0Eq2h3pkY0"
      },
      "source": [
        "**LIBRARIES AND DEPENDENCIES:**\n",
        "- I have downloaded all the libraries and dependencies required for the project in one particular cell."
      ]
    },
    {
      "cell_type": "code",
      "metadata": {
        "id": "eBJAB3K7jiZZ"
      },
      "source": [
        "#@ IMPORTING LIBRARIES AND PACKAGES: \n",
        "import cv2\n",
        "import numpy as np\n",
        "import os"
      ],
      "execution_count": 1,
      "outputs": []
    },
    {
      "cell_type": "markdown",
      "metadata": {
        "id": "GwfQHwzSp3U8"
      },
      "source": [
        "**IMAGE PREPROCESSOR:**\n",
        "- I will build an image preprocessor that resizes the image, ignoring the aspect ratio. "
      ]
    },
    {
      "cell_type": "code",
      "metadata": {
        "id": "pL3kk7skj0k4"
      },
      "source": [
        "#@ INITIALIZING SIMPLE PREPROCESSOR:\n",
        "class SimplePreprocessor:                                       # Defining Simple Preprocessor. \n",
        "    def __init__(self, width, height, inter=cv2.INTER_AREA):    # Initializing Constructor Function. \n",
        "        self.width = width                                      # Initialization. \n",
        "        self.height = height                                    # Initialization. \n",
        "        self.inter = inter                                      # Initialization. \n",
        "\n",
        "    def preprocess(self, image):                                # Defining Preprocess Function. \n",
        "        return cv2.resize(image, (self.width, self.height), \n",
        "                          interpolation=self.inter)             # Resizing Image. "
      ],
      "execution_count": 2,
      "outputs": []
    },
    {
      "cell_type": "markdown",
      "metadata": {
        "id": "Awkasacxq1OB"
      },
      "source": [
        "**IMAGE LOADER:**"
      ]
    },
    {
      "cell_type": "code",
      "metadata": {
        "id": "tJGbNAsGleV0"
      },
      "source": [
        "#@ INITIALIZING DATASET LOADER: \n",
        "class SimpleDatasetLoader:                                      # Defining Simple Image Loader. \n",
        "    def __init__(self, preprocessors=None):                     # Initializing Constructor Function. \n",
        "        self.preprocessors = preprocessors                      # Initialization. \n",
        "        if self.preprocessors is None:                          # Inspection. \n",
        "            self.preprocessors = []                             # Initializing Empty List.\n",
        "    \n",
        "    def load(self, imagePaths, verbose=-1):                     # Defining Load Function. \n",
        "        data, labels = [], []                                   # Initializing Empty List.\n",
        "        for (i, imagePath) in enumerate(imagePaths):\n",
        "            image = cv2.imread(imagePath)                       # Reading Image. \n",
        "            label = imagePath.split(os.path.sep)[-2]            # Getting Labels. \n",
        "            if self.preprocessors is not None:\n",
        "                for p in self.preprocessors:\n",
        "                    image = p.preprocess(image)                 # Preprocessing Image. \n",
        "            data.append(image)                                  # Updating Data. \n",
        "            labels.append(label)                                # Updating Label. \n",
        "            if verbose > 0 and i > 0 and (i+1)%verbose == 0:\n",
        "                print(\"[INFO] processed {}/{}\".format(\n",
        "                    i + 1, len(imagePaths)))                    # Showing Updates. \n",
        "        return (np.array(data), np.array(labels))               # Initializing Array of Data. "
      ],
      "execution_count": 3,
      "outputs": []
    },
    {
      "cell_type": "code",
      "metadata": {
        "id": "kLV-bTnEvd_P"
      },
      "source": [
        ""
      ],
      "execution_count": null,
      "outputs": []
    }
  ]
}