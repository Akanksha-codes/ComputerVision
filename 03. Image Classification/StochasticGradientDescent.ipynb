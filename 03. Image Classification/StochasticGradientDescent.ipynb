{
  "nbformat": 4,
  "nbformat_minor": 0,
  "metadata": {
    "colab": {
      "name": "StochasticGradientDescent.ipynb",
      "provenance": []
    },
    "kernelspec": {
      "name": "python3",
      "display_name": "Python 3"
    },
    "language_info": {
      "name": "python"
    }
  },
  "cells": [
    {
      "cell_type": "markdown",
      "metadata": {
        "id": "-GapUcfSfTCm"
      },
      "source": [
        "**INITIALIZATION:**"
      ]
    },
    {
      "cell_type": "code",
      "metadata": {
        "id": "IsqD9nTHe-Eu"
      },
      "source": [
        "#@ IMPORTING NECESSARY PACKAGES AND LIBRARIES: \n",
        "from sklearn.model_selection import train_test_split\n",
        "from sklearn.metrics import classification_report\n",
        "from sklearn.datasets import make_blobs\n",
        "import matplotlib.pyplot as plt\n",
        "import numpy as np "
      ],
      "execution_count": 1,
      "outputs": []
    },
    {
      "cell_type": "code",
      "metadata": {
        "id": "1mib_bvkfRcS"
      },
      "source": [
        "#@ DEFINING SIGMOID ACTIVATION FUNCTION: \n",
        "def sigmoid_activation(x):\n",
        "    return 1.0 / (1 + np.exp(-x))\n",
        "\n",
        "#@ DEFINING PREDICT FUNCTION:\n",
        "def predict(X, W):                                     # Defining Function. \n",
        "    preds = sigmoid_activation(X.dot(W))               # Initializing Dot Product. \n",
        "    preds[preds <= 0.5] = 0                            # Implementing Thresholds. \n",
        "    preds[preds > 0.5] = 1                             # Implementing Thresholds. \n",
        "    return preds                                       # Getting Predictions. \n",
        "\n",
        "#@ DEFINING NEXT BATCH FUNCTION: \n",
        "def next_batch(X, y, batchSize):                       # Defining Function. \n",
        "    for i in np.arange(0, X.shape[0], batchSize):\n",
        "        yield (X[i:i + batchSize], y[i:i + batchSize]) # Initializing Batches. "
      ],
      "execution_count": 2,
      "outputs": []
    },
    {
      "cell_type": "markdown",
      "metadata": {
        "id": "YILkUewBg9_P"
      },
      "source": [
        "**GETTING THE DATASET:**"
      ]
    },
    {
      "cell_type": "code",
      "metadata": {
        "id": "yWzwqYOSfmWd"
      },
      "source": [
        "#@ GETTING THE DATASET: EXAMPLE: \n",
        "(X, y) = make_blobs(n_samples=1000, n_features=2, centers=2, \n",
        "                    cluster_std=1.5, random_state=42)           # Initializing Classification Dataset. \n",
        "y = y.reshape((y.shape[0], 1))                                  # Reshaping Dataset. \n",
        "X = np.c_[X, np.ones((X.shape[0]))]                             # Inserting Column Matrix. \n",
        "(trainX, testX, trainY, testY) = train_test_split(\n",
        "    X, y, test_size=0.5, random_state=42)                       # Partitioning Dataset into Training and Testing. "
      ],
      "execution_count": 3,
      "outputs": []
    },
    {
      "cell_type": "code",
      "metadata": {
        "id": "b3al62kahFim"
      },
      "source": [
        ""
      ],
      "execution_count": null,
      "outputs": []
    }
  ]
}